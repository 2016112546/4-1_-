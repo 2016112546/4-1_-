{
  "nbformat": 4,
  "nbformat_minor": 0,
  "metadata": {
    "colab": {
      "name": "DSC4001_Exercise_02.ipynb",
      "provenance": [],
      "collapsed_sections": []
    },
    "kernelspec": {
      "name": "python3",
      "display_name": "Python 3"
    }
  },
  "cells": [
    {
      "cell_type": "markdown",
      "metadata": {
        "id": "y1LqWKCq88tE"
      },
      "source": [
        "# DSC4001-01 Exercise 02\n",
        "\n",
        "**This exercise notebook will go through the data types in Python:**\n",
        "\n",
        "\n",
        "* Numbers (Numeric)\n",
        "* Booleans\n",
        "* Strings\n",
        "* Lists\n",
        "* Tuples\n",
        "* Dictionaries\n",
        "\n"
      ]
    },
    {
      "cell_type": "markdown",
      "metadata": {
        "id": "vicxwu_GO1_1"
      },
      "source": [
        "### Numbers"
      ]
    },
    {
      "cell_type": "code",
      "metadata": {
        "id": "jwIQSlE-O1sk"
      },
      "source": [
        "# 사칙연산\n",
        "\n",
        "print(1 + 1)"
      ],
      "execution_count": null,
      "outputs": []
    },
    {
      "cell_type": "code",
      "metadata": {
        "id": "6w4aKfL5lBdR"
      },
      "source": [
        "print(1 * 3)"
      ],
      "execution_count": null,
      "outputs": []
    },
    {
      "cell_type": "code",
      "metadata": {
        "id": "o5lXmfcDlDZR"
      },
      "source": [
        "print(1 /2 )"
      ],
      "execution_count": null,
      "outputs": []
    },
    {
      "cell_type": "code",
      "metadata": {
        "id": "WvHvJffYlEu4"
      },
      "source": [
        "print(2 ** 5)"
      ],
      "execution_count": null,
      "outputs": []
    },
    {
      "cell_type": "code",
      "metadata": {
        "id": "G37SfubylF6g"
      },
      "source": [
        "print(4 % 2)"
      ],
      "execution_count": null,
      "outputs": []
    },
    {
      "cell_type": "code",
      "metadata": {
        "id": "eXlukAFglHTC"
      },
      "source": [
        "print(5 % 2)"
      ],
      "execution_count": null,
      "outputs": []
    },
    {
      "cell_type": "markdown",
      "metadata": {
        "id": "EWhlcB7VQAdj"
      },
      "source": [
        "### Variable Assignment\n",
        "\n",
        "A statically-typed language like C or Java requires each variable to be explicitly declared.\n",
        "\n",
        "In a dynamically-typed language like Python, we can assign any kind of data to any variable.\n",
        "\n",
        "```\n",
        "type(x): # x의 자료형 확인하기\n",
        "```"
      ]
    },
    {
      "cell_type": "code",
      "metadata": {
        "id": "P8T7Za8XQPen"
      },
      "source": [
        "# 정수형 (integer)\n",
        "x = 11\n",
        "type(x)"
      ],
      "execution_count": null,
      "outputs": []
    },
    {
      "cell_type": "code",
      "metadata": {
        "id": "BBGdpg-hzF9k"
      },
      "source": [
        "# 실수형 (float)\n",
        "x = 2.75\n",
        "type(x)"
      ],
      "execution_count": null,
      "outputs": []
    },
    {
      "cell_type": "code",
      "metadata": {
        "id": "hMXAlFmtzHy9"
      },
      "source": [
        "# 문자열 (string)\n",
        "x = \"Hello\"\n",
        "type(x)"
      ],
      "execution_count": null,
      "outputs": []
    },
    {
      "cell_type": "code",
      "metadata": {
        "id": "LMPBnTbMzJNk"
      },
      "source": [
        "# 참/거짓 (boolean)\n",
        "x = True\n",
        "type(x)"
      ],
      "execution_count": null,
      "outputs": []
    },
    {
      "cell_type": "markdown",
      "metadata": {
        "id": "GeR7weqZ_EIT"
      },
      "source": [
        "What is the result of running the code?\n",
        "```\n",
        "x = 7\n",
        "y = x\n",
        "x = 3\n",
        "print(x, \", \", y)\n",
        "```\n"
      ]
    },
    {
      "cell_type": "code",
      "metadata": {
        "id": "9_i0Gf7S9jvU"
      },
      "source": [
        "# Test here\n",
        "\n"
      ],
      "execution_count": null,
      "outputs": []
    },
    {
      "cell_type": "markdown",
      "metadata": {
        "id": "bMKLZYpH_yjV"
      },
      "source": [
        "What will be printed out by the code?\n",
        "```\n",
        "x = [10, 20, 30]\n",
        "y = x\n",
        "x[1] = 42\n",
        "\n",
        "print(x)\n",
        "print(y)\n",
        "```"
      ]
    },
    {
      "cell_type": "code",
      "metadata": {
        "id": "Q_jiAXK2_TrP"
      },
      "source": [
        "# Test here\n",
        "\n"
      ],
      "execution_count": null,
      "outputs": []
    },
    {
      "cell_type": "markdown",
      "metadata": {
        "id": "09cTA8VXhpr-"
      },
      "source": [
        "How can we copy the list x? \n",
        "\n",
        "```\n",
        "x = [10, 20, 30]\n",
        "y = list(x)\n",
        "x[1] = 42\n",
        "\n",
        "print(x)\n",
        "print(y)\n",
        "```"
      ]
    },
    {
      "cell_type": "code",
      "metadata": {
        "id": "5lE4MB2D__9Y"
      },
      "source": [
        "# Test here\n",
        "\n"
      ],
      "execution_count": null,
      "outputs": []
    },
    {
      "cell_type": "markdown",
      "metadata": {
        "id": "V0gTAmmaQmDL"
      },
      "source": [
        "### Strings\n",
        "\n",
        "Try 'indexing', 'slicing', 'striding', ... "
      ]
    },
    {
      "cell_type": "code",
      "metadata": {
        "id": "z5CPeRUjQqw6"
      },
      "source": [
        "x = 'hello'\n",
        "\n",
        "print(x)"
      ],
      "execution_count": null,
      "outputs": []
    },
    {
      "cell_type": "code",
      "metadata": {
        "id": "KJVYYqWFRLe7"
      },
      "source": [
        "name = 'Jang'\n",
        "number = 7\n",
        "\n",
        "print('My name is: %s, and my number is: %d' %(name, number))"
      ],
      "execution_count": null,
      "outputs": []
    },
    {
      "cell_type": "markdown",
      "metadata": {
        "id": "iF6wo6EXie8E"
      },
      "source": [
        "Given the string \n",
        "```\n",
        "string = \"Hello World\"\n",
        "```\n",
        "print out the 4th character 'l'\n",
        "* using (normal) index\n",
        "* using negative index\n",
        "\n",
        "print out the 9th character 'r'\n",
        "* using (normal) index\n",
        "* using negative index"
      ]
    },
    {
      "cell_type": "code",
      "metadata": {
        "id": "eyJv0YIHRZ7P"
      },
      "source": [
        "string = \"Hello World\"\n",
        "\n",
        "# 4th character 'l'\n"
      ],
      "execution_count": null,
      "outputs": []
    },
    {
      "cell_type": "code",
      "metadata": {
        "id": "wkvpdIvXlbGc"
      },
      "source": [
        "string = \"Hello World\"\n",
        "\n",
        "# 9th character 'r'\n"
      ],
      "execution_count": null,
      "outputs": []
    },
    {
      "cell_type": "markdown",
      "metadata": {
        "id": "90yX3uEsi4VV"
      },
      "source": [
        "grab the following string:\n",
        "\n",
        "* 'Hel'\n",
        "* 'Hello W'\n",
        "* 'o Wor'\n",
        "* 'rld'"
      ]
    },
    {
      "cell_type": "code",
      "metadata": {
        "id": "okT0mSCUjfGz"
      },
      "source": [
        "string = \"Hello World\"\n",
        "\n",
        "# 'Hel': first 3 characters\n"
      ],
      "execution_count": null,
      "outputs": []
    },
    {
      "cell_type": "code",
      "metadata": {
        "id": "2S6cbe3fle-2"
      },
      "source": [
        "# 'Hello W': first 7 characters\n"
      ],
      "execution_count": null,
      "outputs": []
    },
    {
      "cell_type": "code",
      "metadata": {
        "id": "0oWQc0z4lgHT"
      },
      "source": [
        "# 'o Wor'\n"
      ],
      "execution_count": null,
      "outputs": []
    },
    {
      "cell_type": "code",
      "metadata": {
        "id": "dTVp-hbJlhNb"
      },
      "source": [
        "# 'rld': last 3 characters\n"
      ],
      "execution_count": null,
      "outputs": []
    },
    {
      "cell_type": "markdown",
      "metadata": {
        "id": "BPCmX7JAkClK"
      },
      "source": [
        "**Count, Find, Relace, Split, ...** \n",
        "\n",
        "Count the number of occurence of the character 'o'"
      ]
    },
    {
      "cell_type": "code",
      "metadata": {
        "id": "1Vqoh5gajlKP"
      },
      "source": [
        "# use .count()\n"
      ],
      "execution_count": null,
      "outputs": []
    },
    {
      "cell_type": "markdown",
      "metadata": {
        "id": "9OyoVNh3ke54"
      },
      "source": [
        "Replace the word 'Hello' with 'Hi'"
      ]
    },
    {
      "cell_type": "code",
      "metadata": {
        "id": "7hd1llwikYSn"
      },
      "source": [
        "# use .replace()\n"
      ],
      "execution_count": null,
      "outputs": []
    },
    {
      "cell_type": "markdown",
      "metadata": {
        "id": "Xe0CawZ6kps3"
      },
      "source": [
        "Split the string into words"
      ]
    },
    {
      "cell_type": "code",
      "metadata": {
        "id": "GMf-ovigkn5H"
      },
      "source": [
        "# use .split()\n"
      ],
      "execution_count": null,
      "outputs": []
    },
    {
      "cell_type": "markdown",
      "metadata": {
        "id": "_xILYUvPtTMy"
      },
      "source": [
        "What will be printed by the code?\n",
        "```\n",
        "string.split('o')\n",
        "```"
      ]
    },
    {
      "cell_type": "code",
      "metadata": {
        "id": "rkf0RhyDktiy"
      },
      "source": [
        "# Test here\n"
      ],
      "execution_count": null,
      "outputs": []
    },
    {
      "cell_type": "markdown",
      "metadata": {
        "id": "U1OQyeAllmrg"
      },
      "source": [
        "## Lists, Tuples, Dictionaries\n",
        "\n",
        "Let's play with key data structures in Python"
      ]
    },
    {
      "cell_type": "markdown",
      "metadata": {
        "id": "yS8WuTwXl0J-"
      },
      "source": [
        "**List**\n",
        "\n",
        "```\n",
        "L = ['Hello World', 3, 2.5, ['Data', 'Science']]\n",
        "```\n",
        "\n",
        "Grab the following list \n",
        "```\n",
        "L1 = [3, 2.5, ['Data','Science']]\n",
        "```"
      ]
    },
    {
      "cell_type": "code",
      "metadata": {
        "id": "I1y0UdVylv6a"
      },
      "source": [
        "L = ['Hello World', 3, 2.5, ['Data', 'Science']]\n",
        "\n",
        "# Test here\n",
        "\n"
      ],
      "execution_count": null,
      "outputs": []
    },
    {
      "cell_type": "markdown",
      "metadata": {
        "id": "jPjxhUrSmRLf"
      },
      "source": [
        "How to make the following list:\n",
        "```\n",
        " = ['Hello World', 4001, 3, ['Data', 'Science'], 'Python']\n",
        "```\n",
        "* hint: use del, insert, and append"
      ]
    },
    {
      "cell_type": "code",
      "metadata": {
        "id": "vuZFw-U4mMIu"
      },
      "source": [
        "L = ['Hello World', 3, 2.5, ['Data', 'Science']]\n",
        "\n",
        "# Test here\n",
        "\n",
        "print(L)"
      ],
      "execution_count": null,
      "outputs": []
    },
    {
      "cell_type": "markdown",
      "metadata": {
        "id": "Hp5AEdrNnbDA"
      },
      "source": [
        "**Dictionary**\n",
        "```\n",
        "D = {'name':'Kim', 'birth':['March',11], 'age':27}\n",
        "```\n",
        "\n",
        "Check the keys and values, and items"
      ]
    },
    {
      "cell_type": "code",
      "metadata": {
        "id": "KwfMfFYMm5KY"
      },
      "source": [
        "D = {'name':'Kim', 'birth':['March',11], 'age':27}\n",
        "\n",
        "# Keys \n",
        "\n"
      ],
      "execution_count": null,
      "outputs": []
    },
    {
      "cell_type": "code",
      "metadata": {
        "id": "fXfzeUB0nrM0"
      },
      "source": [
        "# Values\n"
      ],
      "execution_count": null,
      "outputs": []
    },
    {
      "cell_type": "code",
      "metadata": {
        "id": "cc443BDYnsFH"
      },
      "source": [
        "# Items\n"
      ],
      "execution_count": null,
      "outputs": []
    },
    {
      "cell_type": "markdown",
      "metadata": {
        "id": "o2XN5IUcnyfF"
      },
      "source": [
        "Change the value of the key 'age' to 25 to obtain:\n",
        "```\n",
        "D = {'name':'Kim', 'birth':['March',11], 'age':25}\n",
        "```"
      ]
    },
    {
      "cell_type": "code",
      "metadata": {
        "id": "s6osMSy1nspz"
      },
      "source": [
        "# Test here\n",
        "\n",
        "print(D)"
      ],
      "execution_count": null,
      "outputs": []
    },
    {
      "cell_type": "markdown",
      "metadata": {
        "id": "n5TdqMFIoFvp"
      },
      "source": [
        "Make the following dictionary:\n",
        "\n",
        "from \n",
        "```\n",
        "D = {'name':'Kim', 'birth':['March',11], 'age':27}\n",
        "```\n",
        "to\n",
        "```\n",
        "D = {'name':'Kim', 'birth':['March',11], 'age': 25, 'height': 165}\n",
        "```"
      ]
    },
    {
      "cell_type": "code",
      "metadata": {
        "id": "zxo4emR7n_sr"
      },
      "source": [
        "D = {'name':'Kim', 'birth':['March',11], 'age':27}\n",
        "\n",
        "# Test here\n",
        "\n",
        "print(D)"
      ],
      "execution_count": null,
      "outputs": []
    },
    {
      "cell_type": "markdown",
      "metadata": {
        "id": "RA9_9DnhodSE"
      },
      "source": [
        "Write a code to print out every key-value pair in the dictionary.\n",
        "```\n",
        "(Key: name, Value:Kim)\n",
        "(Key: birth, Value:['March', 11])\n",
        "(Key: age, Value:25)\n",
        "(Key: height, Value:165)\n",
        "```\n",
        "\n",
        "* hint: use for loop; get the list of keys in the dictionary; and print out key and value"
      ]
    },
    {
      "cell_type": "code",
      "metadata": {
        "id": "cMy_JSoQobLQ"
      },
      "source": [
        "#for 'key' in 'key list' :\n",
        "#  print('(Key: {}, Value: {})'.format( 'key', 'value of the key' ))\n"
      ],
      "execution_count": null,
      "outputs": []
    },
    {
      "cell_type": "markdown",
      "metadata": {
        "id": "_7jEApQGSOeU"
      },
      "source": [
        "# DSC4001-01 Exercise 02 - Quiz\n",
        "\n",
        "THis is a short quiz to test your understanding of Python Basics. If you find this extremely challenging, then you probably are not ready for the rest of this course yet. I would suggest you take course for Python beginners. "
      ]
    },
    {
      "cell_type": "markdown",
      "metadata": {
        "id": "Mool2fCqSwce"
      },
      "source": [
        "Answer the questions or complete the tasks below, use the specific method described if applicable. "
      ]
    },
    {
      "cell_type": "markdown",
      "metadata": {
        "id": "Nzko0vd8TFuP"
      },
      "source": [
        "**1. What is 6 to the power of 5?**"
      ]
    },
    {
      "cell_type": "code",
      "metadata": {
        "id": "7DTgASGOSMwq"
      },
      "source": [
        "# Use Python code to answer the question above\n"
      ],
      "execution_count": null,
      "outputs": []
    },
    {
      "cell_type": "markdown",
      "metadata": {
        "id": "lHPCKxRlTRpV"
      },
      "source": [
        "**2. Split this string into a list**\n",
        "\n",
        "string = \"Hello there Jane!\"\n"
      ]
    },
    {
      "cell_type": "code",
      "metadata": {
        "id": "MJr5kVhYTk63"
      },
      "source": [
        "string = \"Hello there Jane!\"\n",
        "\n",
        "# Your code here\n"
      ],
      "execution_count": null,
      "outputs": []
    },
    {
      "cell_type": "markdown",
      "metadata": {
        "id": "BAHc1YRlTy7z"
      },
      "source": [
        "**3. Given the variables:**\n",
        "\n",
        "planet = \"Earth\"\n",
        "\n",
        "diameter = 12742\n",
        "\n",
        "* print the following sentence:\n",
        "\n",
        "The diameter of Earth is 12742 kilometers."
      ]
    },
    {
      "cell_type": "code",
      "metadata": {
        "id": "j-Gq4cDcTq2s"
      },
      "source": [
        "planet = \"Earth\"\n",
        "diameter = 12742\n",
        "\n",
        "# Your code here\n"
      ],
      "execution_count": null,
      "outputs": []
    },
    {
      "cell_type": "markdown",
      "metadata": {
        "id": "gM2V9sZXUe-C"
      },
      "source": [
        "**4. Given the list, use indexing to grab the word \"Hello\"**\n",
        "\n",
        "L = [1, 2, [3, 4], [5, [100, 200, ['Hello'], 50], 32, 11], 1, 7]"
      ]
    },
    {
      "cell_type": "code",
      "metadata": {
        "id": "Pf8wSQqnUXu8"
      },
      "source": [
        "L = [1, 2, [3, 4], [5, [100, 200, ['Hello'], 50], 32, 11], 1, 7]\n",
        "\n",
        "# use (normal) index\n"
      ],
      "execution_count": null,
      "outputs": []
    },
    {
      "cell_type": "code",
      "metadata": {
        "id": "2Gokd6cYUz5s"
      },
      "source": [
        "# use negative index\n"
      ],
      "execution_count": null,
      "outputs": []
    },
    {
      "cell_type": "markdown",
      "metadata": {
        "id": "-xr7HVtqVkIs"
      },
      "source": [
        "**5. Given the dictionary, grab the word \"Hello\"**\n",
        "\n",
        "D = {'k1': [1, 2, 3, {'data': ['oh', 'my', 'god', {'science': [1, 2, 'Hello']}]}], 'k2': [10, ['Python', 'programming']]}"
      ]
    },
    {
      "cell_type": "code",
      "metadata": {
        "id": "_fsMQnx-Vgbt"
      },
      "source": [
        "D = {'k1': [1, 2, 3, {'data': ['oh', 'my', 'god', {'science': [1, 2, 'Hello']}]}], 'k2': [10, ['Python', 'programming']]}\n",
        "\n",
        "# Check keys of the dictionary \n"
      ],
      "execution_count": null,
      "outputs": []
    },
    {
      "cell_type": "code",
      "metadata": {
        "id": "FF6uES3eWIte"
      },
      "source": [
        "# Check values of the dictionary \n"
      ],
      "execution_count": null,
      "outputs": []
    },
    {
      "cell_type": "code",
      "metadata": {
        "id": "PlMRjNZpWKj-"
      },
      "source": [
        "# grab the word \"Hello\"\n"
      ],
      "execution_count": null,
      "outputs": []
    },
    {
      "cell_type": "markdown",
      "metadata": {
        "id": "Q4aBetPuXHQV"
      },
      "source": [
        "**6. Create a function that grabs the email domain from a string of the email address:**\n",
        "\n",
        "user_id@domain.co.kr\n",
        "\n",
        "* hint: use the .split() method"
      ]
    },
    {
      "cell_type": "code",
      "metadata": {
        "id": "FFOPe3jaWi3G"
      },
      "source": [
        "# skeleton of the function\n",
        "def Get_Domain(email):\n",
        "\n",
        "  # use the split() here\n",
        "  \n",
        "  return domain"
      ],
      "execution_count": null,
      "outputs": []
    },
    {
      "cell_type": "code",
      "metadata": {
        "id": "j57gZ5WhXlpY"
      },
      "source": [
        "Get_Domain('user_id@domain.co.kr')"
      ],
      "execution_count": null,
      "outputs": []
    },
    {
      "cell_type": "markdown",
      "metadata": {
        "id": "9mHZ0B9AYEkz"
      },
      "source": [
        "**7. Create a function that counts the number of occurrence of the word \"dog\" in a string**\n",
        "\n",
        "* hint: use split() to get the list of words in the string\n"
      ]
    },
    {
      "cell_type": "code",
      "metadata": {
        "id": "IQpXEt-BX0L3"
      },
      "source": [
        "# skeleton of the function: do account for capitalization\n",
        "\n",
        "def Count_word_cap(str):\n",
        "\n",
        "  # initialize count variable\n",
        "  count = 0\n",
        "\n",
        "  # use split to get the list of words in the string\n",
        "  # do account for capitalization\n",
        "\n",
        "  return count"
      ],
      "execution_count": null,
      "outputs": []
    },
    {
      "cell_type": "code",
      "metadata": {
        "id": "A0WX-Jt-xzsj"
      },
      "source": [
        "# skeleton of the function: do not account for capitalization\n",
        "\n",
        "def Count_word_nocap(str):\n",
        "\n",
        "  # initialize count variable\n",
        "  count = 0\n",
        "\n",
        "  # use split to get the list of words in the string\n",
        "  # do not account for capitalization\n",
        "\n",
        "  return count"
      ],
      "execution_count": null,
      "outputs": []
    },
    {
      "cell_type": "code",
      "metadata": {
        "id": "b4dzjuX1ZJyr"
      },
      "source": [
        "string = 'Dog dog ddog dog Dog dDog dogG'\n",
        "\n",
        "print(Count_word_cap(string))\n",
        "print(Count_word_nocap(string))"
      ],
      "execution_count": null,
      "outputs": []
    }
  ]
}
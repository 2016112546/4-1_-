{
  "nbformat": 4,
  "nbformat_minor": 0,
  "metadata": {
    "colab": {
      "name": "DSC4001_Exercise_02.ipynb",
      "provenance": [],
      "collapsed_sections": []
    },
    "kernelspec": {
      "name": "python3",
      "display_name": "Python 3"
    }
  },
  "cells": [
    {
      "cell_type": "markdown",
      "metadata": {
        "id": "y1LqWKCq88tE"
      },
      "source": [
        "# DSC4001-01 Exercise 02\n",
        "\n",
        "**This exercise notebook will go through the data types in Python:**\n",
        "\n",
        "\n",
        "* Numbers (Numeric)\n",
        "* Booleans\n",
        "* Strings\n",
        "* Lists\n",
        "* Tuples\n",
        "* Dictionaries\n",
        "\n"
      ]
    },
    {
      "cell_type": "markdown",
      "metadata": {
        "id": "vicxwu_GO1_1"
      },
      "source": [
        "### Numbers"
      ]
    },
    {
      "cell_type": "code",
      "metadata": {
        "id": "jwIQSlE-O1sk",
        "colab": {
          "base_uri": "https://localhost:8080/"
        },
        "outputId": "673d6086-d129-424c-f631-0f236edce64e"
      },
      "source": [
        "# 사칙연산\n",
        "\n",
        "print(1 + 1)"
      ],
      "execution_count": 90,
      "outputs": [
        {
          "output_type": "stream",
          "text": [
            "2\n"
          ],
          "name": "stdout"
        }
      ]
    },
    {
      "cell_type": "code",
      "metadata": {
        "id": "6w4aKfL5lBdR",
        "colab": {
          "base_uri": "https://localhost:8080/"
        },
        "outputId": "b386f1b6-b6a0-43ce-d2c8-95c8e7b49bb3"
      },
      "source": [
        "print(1 * 3)"
      ],
      "execution_count": 91,
      "outputs": [
        {
          "output_type": "stream",
          "text": [
            "3\n"
          ],
          "name": "stdout"
        }
      ]
    },
    {
      "cell_type": "code",
      "metadata": {
        "id": "o5lXmfcDlDZR",
        "colab": {
          "base_uri": "https://localhost:8080/"
        },
        "outputId": "08825c02-1392-4888-e329-38b0d1437d95"
      },
      "source": [
        "print(1 /2 )"
      ],
      "execution_count": 92,
      "outputs": [
        {
          "output_type": "stream",
          "text": [
            "0.5\n"
          ],
          "name": "stdout"
        }
      ]
    },
    {
      "cell_type": "code",
      "metadata": {
        "id": "WvHvJffYlEu4",
        "colab": {
          "base_uri": "https://localhost:8080/"
        },
        "outputId": "00b1f222-0d00-4bc4-a67b-504c7fd85d79"
      },
      "source": [
        "print(2 ** 5)"
      ],
      "execution_count": 93,
      "outputs": [
        {
          "output_type": "stream",
          "text": [
            "32\n"
          ],
          "name": "stdout"
        }
      ]
    },
    {
      "cell_type": "code",
      "metadata": {
        "id": "G37SfubylF6g",
        "colab": {
          "base_uri": "https://localhost:8080/"
        },
        "outputId": "ba6040e2-8b46-4bd4-e52d-029b6e24cbf8"
      },
      "source": [
        "print(4 % 2)"
      ],
      "execution_count": 94,
      "outputs": [
        {
          "output_type": "stream",
          "text": [
            "0\n"
          ],
          "name": "stdout"
        }
      ]
    },
    {
      "cell_type": "code",
      "metadata": {
        "id": "eXlukAFglHTC",
        "colab": {
          "base_uri": "https://localhost:8080/"
        },
        "outputId": "a715a449-9330-4471-b198-8a21a6e0de9c"
      },
      "source": [
        "print(5 % 2)"
      ],
      "execution_count": 95,
      "outputs": [
        {
          "output_type": "stream",
          "text": [
            "1\n"
          ],
          "name": "stdout"
        }
      ]
    },
    {
      "cell_type": "markdown",
      "metadata": {
        "id": "EWhlcB7VQAdj"
      },
      "source": [
        "### Variable Assignment\n",
        "\n",
        "A statically-typed language like C or Java requires each variable to be explicitly declared.\n",
        "\n",
        "In a dynamically-typed language like Python, we can assign any kind of data to any variable.\n",
        "\n",
        "```\n",
        "type(x): # x의 자료형 확인하기\n",
        "```"
      ]
    },
    {
      "cell_type": "code",
      "metadata": {
        "id": "P8T7Za8XQPen",
        "colab": {
          "base_uri": "https://localhost:8080/"
        },
        "outputId": "55fe87cd-0986-4261-d02d-97d040641fc5"
      },
      "source": [
        "# 정수형 (integer)\n",
        "x = 11\n",
        "type(x)"
      ],
      "execution_count": 96,
      "outputs": [
        {
          "output_type": "execute_result",
          "data": {
            "text/plain": [
              "int"
            ]
          },
          "metadata": {
            "tags": []
          },
          "execution_count": 96
        }
      ]
    },
    {
      "cell_type": "code",
      "metadata": {
        "id": "BBGdpg-hzF9k",
        "colab": {
          "base_uri": "https://localhost:8080/"
        },
        "outputId": "58830798-9362-422a-af11-603880be0ad7"
      },
      "source": [
        "# 실수형 (float)\n",
        "x = 2.75\n",
        "type(x)"
      ],
      "execution_count": 97,
      "outputs": [
        {
          "output_type": "execute_result",
          "data": {
            "text/plain": [
              "float"
            ]
          },
          "metadata": {
            "tags": []
          },
          "execution_count": 97
        }
      ]
    },
    {
      "cell_type": "code",
      "metadata": {
        "id": "hMXAlFmtzHy9",
        "colab": {
          "base_uri": "https://localhost:8080/"
        },
        "outputId": "62a44bfd-a9a9-4303-8eec-90a605ea5331"
      },
      "source": [
        "# 문자열 (string)\n",
        "x = \"Hello\"\n",
        "type(x)"
      ],
      "execution_count": 98,
      "outputs": [
        {
          "output_type": "execute_result",
          "data": {
            "text/plain": [
              "str"
            ]
          },
          "metadata": {
            "tags": []
          },
          "execution_count": 98
        }
      ]
    },
    {
      "cell_type": "code",
      "metadata": {
        "id": "LMPBnTbMzJNk",
        "colab": {
          "base_uri": "https://localhost:8080/"
        },
        "outputId": "b9fec950-dafa-4ec3-af8a-bbf55287aab9"
      },
      "source": [
        "# 참/거짓 (boolean)\n",
        "x = True\n",
        "type(x)"
      ],
      "execution_count": 99,
      "outputs": [
        {
          "output_type": "execute_result",
          "data": {
            "text/plain": [
              "bool"
            ]
          },
          "metadata": {
            "tags": []
          },
          "execution_count": 99
        }
      ]
    },
    {
      "cell_type": "markdown",
      "metadata": {
        "id": "GeR7weqZ_EIT"
      },
      "source": [
        "What is the result of running the code?\n",
        "```\n",
        "x = 7\n",
        "y = x\n",
        "x = 3\n",
        "print(x, \", \", y)\n",
        "```\n"
      ]
    },
    {
      "cell_type": "code",
      "metadata": {
        "id": "9_i0Gf7S9jvU",
        "colab": {
          "base_uri": "https://localhost:8080/"
        },
        "outputId": "4b9d1a8f-c371-4415-a341-a4f60667fc9c"
      },
      "source": [
        "# Test here\n",
        "\n",
        "x = 7\n",
        "y = x\n",
        "x = 3\n",
        "print(x, \", \", y)"
      ],
      "execution_count": 100,
      "outputs": [
        {
          "output_type": "stream",
          "text": [
            "3 ,  7\n"
          ],
          "name": "stdout"
        }
      ]
    },
    {
      "cell_type": "markdown",
      "metadata": {
        "id": "bMKLZYpH_yjV"
      },
      "source": [
        "What will be printed out by the code?\n",
        "```\n",
        "x = [10, 20, 30]\n",
        "y = x\n",
        "x[1] = 42\n",
        "\n",
        "print(x)\n",
        "print(y)\n",
        "```"
      ]
    },
    {
      "cell_type": "code",
      "metadata": {
        "id": "Q_jiAXK2_TrP",
        "colab": {
          "base_uri": "https://localhost:8080/"
        },
        "outputId": "e86a0b65-31cc-4d95-d294-01ce91f9d35f"
      },
      "source": [
        "# Test here\n",
        "x = [10, 20, 30]\n",
        "y = x\n",
        "x[1] = 42\n",
        " \n",
        "print(x)\n",
        "print(y)\n"
      ],
      "execution_count": 101,
      "outputs": [
        {
          "output_type": "stream",
          "text": [
            "[10, 42, 30]\n",
            "[10, 42, 30]\n"
          ],
          "name": "stdout"
        }
      ]
    },
    {
      "cell_type": "markdown",
      "metadata": {
        "id": "09cTA8VXhpr-"
      },
      "source": [
        "How can we copy the list x? \n",
        "\n",
        "```\n",
        "x = [10, 20, 30]\n",
        "y = list(x)\n",
        "x[1] = 42\n",
        "\n",
        "print(x)\n",
        "print(y)\n",
        "```"
      ]
    },
    {
      "cell_type": "code",
      "metadata": {
        "id": "5lE4MB2D__9Y",
        "colab": {
          "base_uri": "https://localhost:8080/"
        },
        "outputId": "a3738bfa-06c9-4a47-a64a-857e8e517a0b"
      },
      "source": [
        "# Test here\n",
        "\n",
        "x = [10, 20, 30]\n",
        "y = list(x)\n",
        "x[1] = 42\n",
        " \n",
        "print(x)\n",
        "print(y)"
      ],
      "execution_count": 102,
      "outputs": [
        {
          "output_type": "stream",
          "text": [
            "[10, 42, 30]\n",
            "[10, 20, 30]\n"
          ],
          "name": "stdout"
        }
      ]
    },
    {
      "cell_type": "markdown",
      "metadata": {
        "id": "V0gTAmmaQmDL"
      },
      "source": [
        "### Strings\n",
        "\n",
        "Try 'indexing', 'slicing', 'striding', ... "
      ]
    },
    {
      "cell_type": "code",
      "metadata": {
        "id": "z5CPeRUjQqw6",
        "colab": {
          "base_uri": "https://localhost:8080/"
        },
        "outputId": "973431fc-5b33-4feb-89c7-ab11b73c23f8"
      },
      "source": [
        "x = 'hello'\n",
        "\n",
        "print(x)"
      ],
      "execution_count": 103,
      "outputs": [
        {
          "output_type": "stream",
          "text": [
            "hello\n"
          ],
          "name": "stdout"
        }
      ]
    },
    {
      "cell_type": "code",
      "metadata": {
        "id": "KJVYYqWFRLe7",
        "colab": {
          "base_uri": "https://localhost:8080/"
        },
        "outputId": "1cfdfcd5-402c-4e59-844c-b595dcb0a384"
      },
      "source": [
        "name = 'Jang'\n",
        "number = 7\n",
        "\n",
        "print('My name is: %s, and my number is: %d' %(name, number))"
      ],
      "execution_count": 104,
      "outputs": [
        {
          "output_type": "stream",
          "text": [
            "My name is: Jang, and my number is: 7\n"
          ],
          "name": "stdout"
        }
      ]
    },
    {
      "cell_type": "markdown",
      "metadata": {
        "id": "iF6wo6EXie8E"
      },
      "source": [
        "Given the string \n",
        "```\n",
        "string = \"Hello World\"\n",
        "```\n",
        "print out the 4th character 'l'\n",
        "* using (normal) index\n",
        "* using negative index\n",
        "\n",
        "print out the 9th character 'r'\n",
        "* using (normal) index\n",
        "* using negative index"
      ]
    },
    {
      "cell_type": "code",
      "metadata": {
        "id": "eyJv0YIHRZ7P",
        "colab": {
          "base_uri": "https://localhost:8080/"
        },
        "outputId": "11107a50-1813-4e18-ccd4-b95896d086d2"
      },
      "source": [
        "string = \"Hello World\"\n",
        "\n",
        "# 4th character 'l'\n",
        "print(string[3])\n"
      ],
      "execution_count": 105,
      "outputs": [
        {
          "output_type": "stream",
          "text": [
            "l\n"
          ],
          "name": "stdout"
        }
      ]
    },
    {
      "cell_type": "code",
      "metadata": {
        "id": "wkvpdIvXlbGc",
        "colab": {
          "base_uri": "https://localhost:8080/"
        },
        "outputId": "89e9704c-2ba1-47aa-d801-68756d7fd747"
      },
      "source": [
        "string = \"Hello World\"\n",
        "\n",
        "# 9th character 'r'\n",
        "print(string[8])"
      ],
      "execution_count": 106,
      "outputs": [
        {
          "output_type": "stream",
          "text": [
            "r\n"
          ],
          "name": "stdout"
        }
      ]
    },
    {
      "cell_type": "markdown",
      "metadata": {
        "id": "90yX3uEsi4VV"
      },
      "source": [
        "grab the following string:\n",
        "\n",
        "* 'Hel'\n",
        "* 'Hello W'\n",
        "* 'o Wor'\n",
        "* 'rld'"
      ]
    },
    {
      "cell_type": "code",
      "metadata": {
        "id": "okT0mSCUjfGz",
        "colab": {
          "base_uri": "https://localhost:8080/"
        },
        "outputId": "5e51244d-49b3-48bd-bce0-c93cc556ff61"
      },
      "source": [
        "string = \"Hello World\"\n",
        "print(string[0:3])\n",
        "# 'Hel': first 3 characters\n"
      ],
      "execution_count": 133,
      "outputs": [
        {
          "output_type": "stream",
          "text": [
            "Hel\n"
          ],
          "name": "stdout"
        }
      ]
    },
    {
      "cell_type": "code",
      "metadata": {
        "id": "2S6cbe3fle-2",
        "colab": {
          "base_uri": "https://localhost:8080/"
        },
        "outputId": "5475a98c-37ea-4530-a87c-bebc40448d9e"
      },
      "source": [
        "# 'Hello W': first 7 characters\n",
        "print(string[0:7])"
      ],
      "execution_count": 134,
      "outputs": [
        {
          "output_type": "stream",
          "text": [
            "Hello W\n"
          ],
          "name": "stdout"
        }
      ]
    },
    {
      "cell_type": "code",
      "metadata": {
        "id": "0oWQc0z4lgHT",
        "colab": {
          "base_uri": "https://localhost:8080/"
        },
        "outputId": "0026c66b-5813-4120-a1c4-3920b3e4d29d"
      },
      "source": [
        "# 'o Wor'\n",
        "print(string[4:9])"
      ],
      "execution_count": 135,
      "outputs": [
        {
          "output_type": "stream",
          "text": [
            "o Wor\n"
          ],
          "name": "stdout"
        }
      ]
    },
    {
      "cell_type": "code",
      "metadata": {
        "id": "dTVp-hbJlhNb",
        "colab": {
          "base_uri": "https://localhost:8080/"
        },
        "outputId": "d32dad5a-743d-40d5-d6c8-ac3a925cf644"
      },
      "source": [
        "# 'rld': last 3 characters\n",
        "print(string[-3:])"
      ],
      "execution_count": 136,
      "outputs": [
        {
          "output_type": "stream",
          "text": [
            "rld\n"
          ],
          "name": "stdout"
        }
      ]
    },
    {
      "cell_type": "markdown",
      "metadata": {
        "id": "BPCmX7JAkClK"
      },
      "source": [
        "**Count, Find, Relace, Split, ...** \n",
        "\n",
        "Count the number of occurence of the character 'o'"
      ]
    },
    {
      "cell_type": "code",
      "metadata": {
        "id": "1Vqoh5gajlKP",
        "colab": {
          "base_uri": "https://localhost:8080/"
        },
        "outputId": "140998f2-94e3-4bed-aa25-ebdf083fb5f9"
      },
      "source": [
        "# use .count()\n",
        "print(string.count('o'))"
      ],
      "execution_count": 138,
      "outputs": [
        {
          "output_type": "stream",
          "text": [
            "2\n"
          ],
          "name": "stdout"
        }
      ]
    },
    {
      "cell_type": "markdown",
      "metadata": {
        "id": "9OyoVNh3ke54"
      },
      "source": [
        "Replace the word 'Hello' with 'Hi'"
      ]
    },
    {
      "cell_type": "code",
      "metadata": {
        "id": "7hd1llwikYSn",
        "colab": {
          "base_uri": "https://localhost:8080/",
          "height": 35
        },
        "outputId": "a1e02f31-9d59-4e78-825b-5819bd3c3e7a"
      },
      "source": [
        "# use .replace()\n",
        "string.replace('Hello','Hi')"
      ],
      "execution_count": 140,
      "outputs": [
        {
          "output_type": "execute_result",
          "data": {
            "application/vnd.google.colaboratory.intrinsic+json": {
              "type": "string"
            },
            "text/plain": [
              "'Hi World'"
            ]
          },
          "metadata": {
            "tags": []
          },
          "execution_count": 140
        }
      ]
    },
    {
      "cell_type": "markdown",
      "metadata": {
        "id": "Xe0CawZ6kps3"
      },
      "source": [
        "Split the string into words"
      ]
    },
    {
      "cell_type": "code",
      "metadata": {
        "id": "GMf-ovigkn5H",
        "colab": {
          "base_uri": "https://localhost:8080/"
        },
        "outputId": "cece27e1-6200-422f-b0fe-acdacdbd75fd"
      },
      "source": [
        "# use .split()\n",
        "string.split()"
      ],
      "execution_count": 141,
      "outputs": [
        {
          "output_type": "execute_result",
          "data": {
            "text/plain": [
              "['Hello', 'World']"
            ]
          },
          "metadata": {
            "tags": []
          },
          "execution_count": 141
        }
      ]
    },
    {
      "cell_type": "markdown",
      "metadata": {
        "id": "_xILYUvPtTMy"
      },
      "source": [
        "What will be printed by the code?\n",
        "```\n",
        "string.split('o')\n",
        "```"
      ]
    },
    {
      "cell_type": "code",
      "metadata": {
        "id": "rkf0RhyDktiy",
        "colab": {
          "base_uri": "https://localhost:8080/"
        },
        "outputId": "401667d1-13c3-4ca6-df07-508e88153a36"
      },
      "source": [
        "# Test here\n",
        "string.split('o')\n"
      ],
      "execution_count": 142,
      "outputs": [
        {
          "output_type": "execute_result",
          "data": {
            "text/plain": [
              "['Hell', ' W', 'rld']"
            ]
          },
          "metadata": {
            "tags": []
          },
          "execution_count": 142
        }
      ]
    },
    {
      "cell_type": "markdown",
      "metadata": {
        "id": "U1OQyeAllmrg"
      },
      "source": [
        "## Lists, Tuples, Dictionaries\n",
        "\n",
        "Let's play with key data structures in Python"
      ]
    },
    {
      "cell_type": "markdown",
      "metadata": {
        "id": "yS8WuTwXl0J-"
      },
      "source": [
        "**List**\n",
        "\n",
        "```\n",
        "L = ['Hello World', 3, 2.5, ['Data', 'Science']]\n",
        "```\n",
        "\n",
        "Grab the following list \n",
        "```\n",
        "L1 = [3, 2.5, ['Data','Science']]\n",
        "```"
      ]
    },
    {
      "cell_type": "code",
      "metadata": {
        "id": "I1y0UdVylv6a",
        "colab": {
          "base_uri": "https://localhost:8080/"
        },
        "outputId": "a940ef85-8844-4fa6-f54e-043cc20e807c"
      },
      "source": [
        "L = ['Hello World', 3, 2.5, ['Data', 'Science']]\n",
        "L1=L[1:]\n",
        "# Test here\n",
        "print(L1)\n"
      ],
      "execution_count": 151,
      "outputs": [
        {
          "output_type": "stream",
          "text": [
            "[3, 2.5, ['Data', 'Science']]\n"
          ],
          "name": "stdout"
        }
      ]
    },
    {
      "cell_type": "markdown",
      "metadata": {
        "id": "jPjxhUrSmRLf"
      },
      "source": [
        "How to make the following list:\n",
        "```\n",
        " = ['Hello World', 4001, 3, ['Data', 'Science'], 'Python']\n",
        "```\n",
        "* hint: use del, insert, and append"
      ]
    },
    {
      "cell_type": "code",
      "metadata": {
        "id": "vuZFw-U4mMIu",
        "colab": {
          "base_uri": "https://localhost:8080/"
        },
        "outputId": "453a1b55-c26d-4686-f4fb-c8dd14527752"
      },
      "source": [
        "L = ['Hello World', 3, 2.5, ['Data', 'Science']]\n",
        "del L[2]\n",
        "L.insert(1,4001)\n",
        "L.append('Python')\n",
        "# Test here\n",
        "\n",
        "print(L)"
      ],
      "execution_count": 146,
      "outputs": [
        {
          "output_type": "stream",
          "text": [
            "['Hello World', 4001, 3, ['Data', 'Science'], 'Python']\n"
          ],
          "name": "stdout"
        }
      ]
    },
    {
      "cell_type": "markdown",
      "metadata": {
        "id": "Hp5AEdrNnbDA"
      },
      "source": [
        "**Dictionary**\n",
        "```\n",
        "D = {'name':'Kim', 'birth':['March',11], 'age':27}\n",
        "```\n",
        "\n",
        "Check the keys and values, and items"
      ]
    },
    {
      "cell_type": "code",
      "metadata": {
        "id": "KwfMfFYMm5KY",
        "colab": {
          "base_uri": "https://localhost:8080/"
        },
        "outputId": "dff40241-633b-4183-b966-c759c01836e7"
      },
      "source": [
        "D = {'name':'Kim', 'birth':['March',11], 'age':27}\n",
        "\n",
        "# Keys \n",
        "D.keys()\n"
      ],
      "execution_count": 152,
      "outputs": [
        {
          "output_type": "execute_result",
          "data": {
            "text/plain": [
              "dict_keys(['name', 'birth', 'age'])"
            ]
          },
          "metadata": {
            "tags": []
          },
          "execution_count": 152
        }
      ]
    },
    {
      "cell_type": "code",
      "metadata": {
        "id": "fXfzeUB0nrM0",
        "colab": {
          "base_uri": "https://localhost:8080/"
        },
        "outputId": "7c23f9fe-b8f9-442c-89f8-80c62f7570b4"
      },
      "source": [
        "# Values\n",
        "D.values()"
      ],
      "execution_count": 153,
      "outputs": [
        {
          "output_type": "execute_result",
          "data": {
            "text/plain": [
              "dict_values(['Kim', ['March', 11], 27])"
            ]
          },
          "metadata": {
            "tags": []
          },
          "execution_count": 153
        }
      ]
    },
    {
      "cell_type": "code",
      "metadata": {
        "id": "cc443BDYnsFH",
        "colab": {
          "base_uri": "https://localhost:8080/"
        },
        "outputId": "dca25c60-72af-4517-9e50-6a6fa4188804"
      },
      "source": [
        "# Items\n",
        "D.items()"
      ],
      "execution_count": 154,
      "outputs": [
        {
          "output_type": "execute_result",
          "data": {
            "text/plain": [
              "dict_items([('name', 'Kim'), ('birth', ['March', 11]), ('age', 27)])"
            ]
          },
          "metadata": {
            "tags": []
          },
          "execution_count": 154
        }
      ]
    },
    {
      "cell_type": "markdown",
      "metadata": {
        "id": "o2XN5IUcnyfF"
      },
      "source": [
        "Change the value of the key 'age' to 25 to obtain:\n",
        "```\n",
        "D = {'name':'Kim', 'birth':['March',11], 'age':25}\n",
        "```"
      ]
    },
    {
      "cell_type": "code",
      "metadata": {
        "id": "s6osMSy1nspz",
        "colab": {
          "base_uri": "https://localhost:8080/"
        },
        "outputId": "3e3c8d16-87bd-4e80-dd1d-bde0d6d1fbd5"
      },
      "source": [
        "# Test here\n",
        "\n",
        "print(D)"
      ],
      "execution_count": 120,
      "outputs": [
        {
          "output_type": "stream",
          "text": [
            "{'name': 'Kim', 'birth': ['March', 11], 'age': 27}\n"
          ],
          "name": "stdout"
        }
      ]
    },
    {
      "cell_type": "markdown",
      "metadata": {
        "id": "n5TdqMFIoFvp"
      },
      "source": [
        "Make the following dictionary:\n",
        "\n",
        "from \n",
        "```\n",
        "D = {'name':'Kim', 'birth':['March',11], 'age':27}\n",
        "```\n",
        "to\n",
        "```\n",
        "D = {'name':'Kim', 'birth':['March',11], 'age': 25, 'height': 165}\n",
        "```"
      ]
    },
    {
      "cell_type": "code",
      "metadata": {
        "id": "zxo4emR7n_sr",
        "colab": {
          "base_uri": "https://localhost:8080/"
        },
        "outputId": "a2af5f07-0a17-4881-c4a3-717347bff53a"
      },
      "source": [
        "D = {'name':'Kim', 'birth':['March',11], 'age':27}\n",
        "\n",
        "# Test here\n",
        "D['age']=25\n",
        "D['height']=165\n",
        "print(D)"
      ],
      "execution_count": 157,
      "outputs": [
        {
          "output_type": "stream",
          "text": [
            "{'name': 'Kim', 'birth': ['March', 11], 'age': 25, 'height': 165}\n"
          ],
          "name": "stdout"
        }
      ]
    },
    {
      "cell_type": "markdown",
      "metadata": {
        "id": "RA9_9DnhodSE"
      },
      "source": [
        "Write a code to print out every key-value pair in the dictionary.\n",
        "```\n",
        "(Key: name, Value:Kim)\n",
        "(Key: birth, Value:['March', 11])\n",
        "(Key: age, Value:25)\n",
        "(Key: height, Value:165)\n",
        "```\n",
        "\n",
        "* hint: use for loop; get the list of keys in the dictionary; and print out key and value"
      ]
    },
    {
      "cell_type": "code",
      "metadata": {
        "id": "cMy_JSoQobLQ",
        "colab": {
          "base_uri": "https://localhost:8080/"
        },
        "outputId": "03e0d87c-e58a-40a7-abb1-c793982a566d"
      },
      "source": [
        "#for 'key' in 'key list' :\n",
        "D1 =  {'name':'Kim', 'birth':['March',11], 'age':27}\n",
        "D2 =  {'name':'un', 'birth':['March',20], 'age':22}\n",
        "D3 =  {'name':'woo', 'birth':['March',31], 'age':24}\n",
        "D_list = [D1,D2,D3]\n",
        "\n",
        "\n",
        "for dic in D_list:\n",
        "  for key in dic.keys():      \n",
        "      if dic['name'] == \"Kim\":\n",
        "        print('(Key: {}, Value: {})'.format( key, dic[key] ))\n",
        "        "
      ],
      "execution_count": 179,
      "outputs": [
        {
          "output_type": "stream",
          "text": [
            "(Key: name, Value: Kim)\n",
            "(Key: birth, Value: ['March', 11])\n",
            "(Key: age, Value: 27)\n"
          ],
          "name": "stdout"
        }
      ]
    },
    {
      "cell_type": "markdown",
      "metadata": {
        "id": "_7jEApQGSOeU"
      },
      "source": [
        "# DSC4001-01 Exercise 02 - Quiz\n",
        "\n",
        "THis is a short quiz to test your understanding of Python Basics. If you find this extremely challenging, then you probably are not ready for the rest of this course yet. I would suggest you take course for Python beginners. "
      ]
    },
    {
      "cell_type": "markdown",
      "metadata": {
        "id": "Mool2fCqSwce"
      },
      "source": [
        "Answer the questions or complete the tasks below, use the specific method described if applicable. "
      ]
    },
    {
      "cell_type": "markdown",
      "metadata": {
        "id": "Nzko0vd8TFuP"
      },
      "source": [
        "**1. What is 6 to the power of 5?**"
      ]
    },
    {
      "cell_type": "code",
      "metadata": {
        "id": "7DTgASGOSMwq",
        "colab": {
          "base_uri": "https://localhost:8080/"
        },
        "outputId": "6fcfe210-f373-4cd9-cd2f-424714223f2c"
      },
      "source": [
        "# Use Python code to answer the question above\n",
        "6**5\n"
      ],
      "execution_count": 212,
      "outputs": [
        {
          "output_type": "execute_result",
          "data": {
            "text/plain": [
              "7776"
            ]
          },
          "metadata": {
            "tags": []
          },
          "execution_count": 212
        }
      ]
    },
    {
      "cell_type": "markdown",
      "metadata": {
        "id": "lHPCKxRlTRpV"
      },
      "source": [
        "**2. Split this string into a list**\n",
        "\n",
        "string = \"Hello there Jane!\"\n"
      ]
    },
    {
      "cell_type": "code",
      "metadata": {
        "id": "MJr5kVhYTk63",
        "colab": {
          "base_uri": "https://localhost:8080/"
        },
        "outputId": "3dd0c8d4-09ac-455d-d891-9b056ac4d13f"
      },
      "source": [
        "string = \"Hello there Jane!\"\n",
        "\n",
        "# Your code here\n",
        "string.split()"
      ],
      "execution_count": 181,
      "outputs": [
        {
          "output_type": "execute_result",
          "data": {
            "text/plain": [
              "['Hello', 'there', 'Jane!']"
            ]
          },
          "metadata": {
            "tags": []
          },
          "execution_count": 181
        }
      ]
    },
    {
      "cell_type": "markdown",
      "metadata": {
        "id": "BAHc1YRlTy7z"
      },
      "source": [
        "**3. Given the variables:**\n",
        "\n",
        "planet = \"Earth\"\n",
        "\n",
        "diameter = 12742\n",
        "\n",
        "* print the following sentence:\n",
        "\n",
        "The diameter of Earth is 12742 kilometers."
      ]
    },
    {
      "cell_type": "code",
      "metadata": {
        "id": "j-Gq4cDcTq2s",
        "colab": {
          "base_uri": "https://localhost:8080/"
        },
        "outputId": "e061f93e-dbb2-4675-f7f5-8dc8ecf176bf"
      },
      "source": [
        "planet = \"Earth\"\n",
        "diameter = 12742\n",
        "\n",
        "print('The diameter of %s is %d kilometers.' %(planet, diameter))\n",
        "print('The diameter of {} is {} kilometers.' .format(planet,diameter))\n",
        "\n",
        "# Your code here\n"
      ],
      "execution_count": 213,
      "outputs": [
        {
          "output_type": "stream",
          "text": [
            "The diameter of Earth is 12742 kilometers.\n",
            "The diameter of Earth is 12742 kilometers.\n"
          ],
          "name": "stdout"
        }
      ]
    },
    {
      "cell_type": "markdown",
      "metadata": {
        "id": "gM2V9sZXUe-C"
      },
      "source": [
        "**4. Given the list, use indexing to grab the word \"Hello\"**\n",
        "\n",
        "L = [1, 2, [3, 4], [5, [100, 200, ['Hello'], 50], 32, 11], 1, 7]"
      ]
    },
    {
      "cell_type": "code",
      "metadata": {
        "id": "Pf8wSQqnUXu8",
        "colab": {
          "base_uri": "https://localhost:8080/"
        },
        "outputId": "76e42777-07d8-4b65-f159-608d6afa99a3"
      },
      "source": [
        "L = [1, 2, [3, 4], [5, [100, 200, ['Hello'], 50], 32, 11], 1, 7]\n",
        "\n",
        "# use (normal) index\n",
        "print(L[3][1][2])"
      ],
      "execution_count": 185,
      "outputs": [
        {
          "output_type": "stream",
          "text": [
            "['Hello']\n"
          ],
          "name": "stdout"
        }
      ]
    },
    {
      "cell_type": "code",
      "metadata": {
        "id": "2Gokd6cYUz5s",
        "colab": {
          "base_uri": "https://localhost:8080/"
        },
        "outputId": "1a526e4c-d50c-46b9-ef35-adb883ed94f7"
      },
      "source": [
        "# use negative index\n",
        "print(L[-3][-3][-2])"
      ],
      "execution_count": 186,
      "outputs": [
        {
          "output_type": "stream",
          "text": [
            "['Hello']\n"
          ],
          "name": "stdout"
        }
      ]
    },
    {
      "cell_type": "markdown",
      "metadata": {
        "id": "-xr7HVtqVkIs"
      },
      "source": [
        "**5. Given the dictionary, grab the word \"Hello\"**\n",
        "\n",
        "D = {'k1': [1, 2, 3, {'data': ['oh', 'my', 'god', {'science': [1, 2, 'Hello']}]}], 'k2': [10, ['Python', 'programming']]}"
      ]
    },
    {
      "cell_type": "code",
      "metadata": {
        "id": "_fsMQnx-Vgbt",
        "colab": {
          "base_uri": "https://localhost:8080/"
        },
        "outputId": "a906c9b1-6be6-4f3c-ff10-60e6cad5586b"
      },
      "source": [
        "D = {'k1': [1, 2, 3, {'data': ['oh', 'my', 'god', {'science': [1, 2, 'Hello']}]}], 'k2': [10, ['Python', 'programming']]}\n",
        "\n",
        "# Check keys of the dictionary \n",
        "D.keys()"
      ],
      "execution_count": 188,
      "outputs": [
        {
          "output_type": "execute_result",
          "data": {
            "text/plain": [
              "dict_keys(['k1', 'k2'])"
            ]
          },
          "metadata": {
            "tags": []
          },
          "execution_count": 188
        }
      ]
    },
    {
      "cell_type": "code",
      "metadata": {
        "id": "FF6uES3eWIte",
        "colab": {
          "base_uri": "https://localhost:8080/"
        },
        "outputId": "59b59985-037b-4066-be3c-14f2d0e73754"
      },
      "source": [
        "# Check values of the dictionary \n",
        "D.values()\n"
      ],
      "execution_count": 189,
      "outputs": [
        {
          "output_type": "execute_result",
          "data": {
            "text/plain": [
              "dict_values([[1, 2, 3, {'data': ['oh', 'my', 'god', {'science': [1, 2, 'Hello']}]}], [10, ['Python', 'programming']]])"
            ]
          },
          "metadata": {
            "tags": []
          },
          "execution_count": 189
        }
      ]
    },
    {
      "cell_type": "code",
      "metadata": {
        "id": "PlMRjNZpWKj-",
        "colab": {
          "base_uri": "https://localhost:8080/",
          "height": 35
        },
        "outputId": "c3755e53-34a1-4142-c610-113239fe94bb"
      },
      "source": [
        "# grab the word \"Hello\"\n",
        "D['k1'][3]['data'][3]['science'][2]"
      ],
      "execution_count": 190,
      "outputs": [
        {
          "output_type": "execute_result",
          "data": {
            "application/vnd.google.colaboratory.intrinsic+json": {
              "type": "string"
            },
            "text/plain": [
              "'Hello'"
            ]
          },
          "metadata": {
            "tags": []
          },
          "execution_count": 190
        }
      ]
    },
    {
      "cell_type": "markdown",
      "metadata": {
        "id": "Q4aBetPuXHQV"
      },
      "source": [
        "**6. Create a function that grabs the email domain from a string of the email address:**\n",
        "\n",
        "user_id@domain.co.kr\n",
        "\n",
        "* hint: use the .split() method"
      ]
    },
    {
      "cell_type": "code",
      "metadata": {
        "id": "FFOPe3jaWi3G"
      },
      "source": [
        "# skeleton of the function\n",
        "def Get_Domain(email):\n",
        "\n",
        "  # use the split() here\n",
        "  domain=email.split('@')[-1]\n",
        "\n",
        "  return domain"
      ],
      "execution_count": 214,
      "outputs": []
    },
    {
      "cell_type": "code",
      "metadata": {
        "id": "j57gZ5WhXlpY",
        "colab": {
          "base_uri": "https://localhost:8080/",
          "height": 35
        },
        "outputId": "45a610f4-fd0a-4c36-b9f7-5e501e91aa07"
      },
      "source": [
        "Get_Domain('user_id@domain.co.kr')"
      ],
      "execution_count": 215,
      "outputs": [
        {
          "output_type": "execute_result",
          "data": {
            "application/vnd.google.colaboratory.intrinsic+json": {
              "type": "string"
            },
            "text/plain": [
              "'domain.co.kr'"
            ]
          },
          "metadata": {
            "tags": []
          },
          "execution_count": 215
        }
      ]
    },
    {
      "cell_type": "markdown",
      "metadata": {
        "id": "9mHZ0B9AYEkz"
      },
      "source": [
        "**7. Create a function that counts the number of occurrence of the word \"dog\" in a string**\n",
        "\n",
        "* hint: use split() to get the list of words in the string\n"
      ]
    },
    {
      "cell_type": "code",
      "metadata": {
        "id": "IQpXEt-BX0L3"
      },
      "source": [
        "# skeleton of the function: do account for capitalization\n",
        "# 대소문자 구분 \n",
        "\n",
        "def Count_word_cap(str):\n",
        "\n",
        "  # initialize count variable\n",
        "  count = 0\n",
        "\n",
        "  # use split to get the list of words in the string\n",
        "  # do account for capitalization\n",
        "  for word in str.split():\n",
        "    if word == 'dog' :\n",
        "      count += 1\n",
        "      \n",
        "  return count"
      ],
      "execution_count": 216,
      "outputs": []
    },
    {
      "cell_type": "code",
      "metadata": {
        "id": "A0WX-Jt-xzsj"
      },
      "source": [
        "# skeleton of the function: do not account for capitalization\n",
        "#대소문자 구분 x \n",
        "\n",
        "def Count_word_nocap(str):\n",
        "\n",
        "  # initialize count variable\n",
        "  count = 0\n",
        "\n",
        "  # use split to get the list of words in the string\n",
        "  # do not account for capitalization\n",
        "  for word in str.upper().split():\n",
        "    if word == 'DOG' :\n",
        "      count += 1\n",
        "  return count"
      ],
      "execution_count": 226,
      "outputs": []
    },
    {
      "cell_type": "code",
      "metadata": {
        "id": "b4dzjuX1ZJyr",
        "colab": {
          "base_uri": "https://localhost:8080/"
        },
        "outputId": "0bcc232b-defc-4415-ad28-92397ba643d9"
      },
      "source": [
        "string = 'Dog dog ddog dog Dog dDog dogG'\n",
        "\n",
        "print(Count_word_cap(string))\n",
        "print(Count_word_nocap(string))"
      ],
      "execution_count": 227,
      "outputs": [
        {
          "output_type": "stream",
          "text": [
            "2\n",
            "4\n"
          ],
          "name": "stdout"
        }
      ]
    }
  ]
}
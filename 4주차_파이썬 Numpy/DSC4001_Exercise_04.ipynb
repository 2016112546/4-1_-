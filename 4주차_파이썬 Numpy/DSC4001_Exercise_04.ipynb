{
  "nbformat": 4,
  "nbformat_minor": 0,
  "metadata": {
    "colab": {
      "name": "DSC4001_Exercise_04.ipynb",
      "provenance": [],
      "collapsed_sections": []
    },
    "kernelspec": {
      "name": "python3",
      "display_name": "Python 3"
    }
  },
  "cells": [
    {
      "cell_type": "markdown",
      "metadata": {
        "id": "y1LqWKCq88tE"
      },
      "source": [
        "# DSC4001-01 Exercise 04\n",
        "\n",
        "**This exercise notebook will go through the data types in Python:**\n",
        "\n",
        "\n",
        "* NumPy Arrays\n",
        "* NumPy Array Operations\n",
        "\n",
        "\n",
        "NumPy (Numpy) is a Linear Algebra Library for Python. It is so important for Data Science with Python because almost all of the libraries in the PyData Ecosystem rely on NumPy as one of their main building blocks. "
      ]
    },
    {
      "cell_type": "markdown",
      "metadata": {
        "id": "8K8E78Hq02zp"
      },
      "source": [
        "Once you've installed NumPy you can import it as a library.\n",
        "\n",
        "NumPy has many built-in functions and capabilities. We will focus on some of the most important aspects of NumPy: arrays, number generation, ... "
      ]
    },
    {
      "cell_type": "code",
      "metadata": {
        "id": "iq2fJHfqz3Aq"
      },
      "source": [
        "import numpy as np\n",
        "np.random.seed(0)"
      ],
      "execution_count": 2,
      "outputs": []
    },
    {
      "cell_type": "markdown",
      "metadata": {
        "id": "vicxwu_GO1_1"
      },
      "source": [
        "## NumPy Arrays"
      ]
    },
    {
      "cell_type": "markdown",
      "metadata": {
        "id": "Cwv31Nhj3zul"
      },
      "source": [
        "### Creating NumPy Arrays\n",
        "\n",
        "We can create an array (or matrix) by directly converting a list (or list of lists)"
      ]
    },
    {
      "cell_type": "code",
      "metadata": {
        "id": "kicaetBW29tD",
        "outputId": "af72b6dd-825a-4602-b18a-a66606d77456",
        "colab": {
          "base_uri": "https://localhost:8080/"
        }
      },
      "source": [
        "my_list = [1,4,2,5,3]\n",
        "my_list\n",
        "print(my_list)"
      ],
      "execution_count": 5,
      "outputs": [
        {
          "output_type": "stream",
          "text": [
            "[1, 4, 2, 5, 3]\n"
          ],
          "name": "stdout"
        }
      ]
    },
    {
      "cell_type": "code",
      "metadata": {
        "id": "DbS7xrUq29oM",
        "outputId": "466351fb-5605-4d5b-8fef-bfff6006a68a",
        "colab": {
          "base_uri": "https://localhost:8080/"
        }
      },
      "source": [
        "my_arr = np.array(my_list)\n",
        "my_arr"
      ],
      "execution_count": 4,
      "outputs": [
        {
          "output_type": "execute_result",
          "data": {
            "text/plain": [
              "array([1, 4, 2, 5, 3])"
            ]
          },
          "metadata": {
            "tags": []
          },
          "execution_count": 4
        }
      ]
    },
    {
      "cell_type": "code",
      "metadata": {
        "id": "DSzbSacP29kO",
        "outputId": "46550239-60f7-4f59-c5b0-34e8c572d9eb",
        "colab": {
          "base_uri": "https://localhost:8080/"
        }
      },
      "source": [
        "my_matrix = [[1,2,3],[4,5,6],[7,8,9]]\n",
        "print(my_matrix)"
      ],
      "execution_count": 6,
      "outputs": [
        {
          "output_type": "stream",
          "text": [
            "[[1, 2, 3], [4, 5, 6], [7, 8, 9]]\n"
          ],
          "name": "stdout"
        }
      ]
    },
    {
      "cell_type": "code",
      "metadata": {
        "id": "HkfDaM-N29fN",
        "outputId": "82e9686b-6dff-40e8-97c5-49424ca83952",
        "colab": {
          "base_uri": "https://localhost:8080/"
        }
      },
      "source": [
        "np.array(my_matrix)"
      ],
      "execution_count": 7,
      "outputs": [
        {
          "output_type": "execute_result",
          "data": {
            "text/plain": [
              "array([[1, 2, 3],\n",
              "       [4, 5, 6],\n",
              "       [7, 8, 9]])"
            ]
          },
          "metadata": {
            "tags": []
          },
          "execution_count": 7
        }
      ]
    },
    {
      "cell_type": "code",
      "metadata": {
        "id": "RHN7M15F46p-",
        "outputId": "f83fcdb4-5250-4582-a026-fd58a81345d1",
        "colab": {
          "base_uri": "https://localhost:8080/"
        }
      },
      "source": [
        "my_arr = np.array(my_list, dtype='float32')\n",
        "my_arr"
      ],
      "execution_count": 8,
      "outputs": [
        {
          "output_type": "execute_result",
          "data": {
            "text/plain": [
              "array([1., 4., 2., 5., 3.], dtype=float32)"
            ]
          },
          "metadata": {
            "tags": []
          },
          "execution_count": 8
        }
      ]
    },
    {
      "cell_type": "markdown",
      "metadata": {
        "id": "8pk-CIlu4dCk"
      },
      "source": [
        "There are lots of built-in ways to generate Arrays:\n",
        "\n",
        "* ``arange``: return evenly spaced values (mostly integers) within a given interval\n",
        "* ``zeros`` and ``ones``: generate arrays of zeros or ones\n",
        "* ``linspace``: return evenly spaced numbers (mostly floats) over a specified interval\n",
        "* ``eye``: create an identity matrix"
      ]
    },
    {
      "cell_type": "code",
      "metadata": {
        "id": "dxsTCE_g29a-",
        "outputId": "cd292868-4905-45d0-ce1a-933a818e4936",
        "colab": {
          "base_uri": "https://localhost:8080/"
        }
      },
      "source": [
        "print(np.arange(0,10))\n",
        "print(np.arange(0,11,2))"
      ],
      "execution_count": 9,
      "outputs": [
        {
          "output_type": "stream",
          "text": [
            "[0 1 2 3 4 5 6 7 8 9]\n",
            "[ 0  2  4  6  8 10]\n"
          ],
          "name": "stdout"
        }
      ]
    },
    {
      "cell_type": "code",
      "metadata": {
        "id": "59-wZKNI29X4",
        "outputId": "2c4779c6-ea93-4eff-d91e-b4ba95c320b9",
        "colab": {
          "base_uri": "https://localhost:8080/"
        }
      },
      "source": [
        "print(np.zeros(3))\n",
        "print(np.zeros((3,4)))"
      ],
      "execution_count": 10,
      "outputs": [
        {
          "output_type": "stream",
          "text": [
            "[0. 0. 0.]\n",
            "[[0. 0. 0. 0.]\n",
            " [0. 0. 0. 0.]\n",
            " [0. 0. 0. 0.]]\n"
          ],
          "name": "stdout"
        }
      ]
    },
    {
      "cell_type": "code",
      "metadata": {
        "id": "878Girb828cW",
        "outputId": "1703d5cd-789c-444b-a318-16996552c48f",
        "colab": {
          "base_uri": "https://localhost:8080/"
        }
      },
      "source": [
        "print(np.ones(3))\n",
        "print(np.ones((3,2,2)))"
      ],
      "execution_count": 11,
      "outputs": [
        {
          "output_type": "stream",
          "text": [
            "[1. 1. 1.]\n",
            "[[[1. 1.]\n",
            "  [1. 1.]]\n",
            "\n",
            " [[1. 1.]\n",
            "  [1. 1.]]\n",
            "\n",
            " [[1. 1.]\n",
            "  [1. 1.]]]\n"
          ],
          "name": "stdout"
        }
      ]
    },
    {
      "cell_type": "code",
      "metadata": {
        "id": "JXUVeKew5xpX",
        "outputId": "493e44f3-c3a7-4f21-f2d1-e52fbb1a7f90",
        "colab": {
          "base_uri": "https://localhost:8080/"
        }
      },
      "source": [
        "print(np.linspace(0,10,3))\n",
        "print(np.linspace(0,10,7))"
      ],
      "execution_count": 12,
      "outputs": [
        {
          "output_type": "stream",
          "text": [
            "[ 0.  5. 10.]\n",
            "[ 0.          1.66666667  3.33333333  5.          6.66666667  8.33333333\n",
            " 10.        ]\n"
          ],
          "name": "stdout"
        }
      ]
    },
    {
      "cell_type": "code",
      "metadata": {
        "id": "J-mws09z5xmH",
        "outputId": "30a85c9c-9eab-48eb-f32a-191bea9defe7",
        "colab": {
          "base_uri": "https://localhost:8080/"
        }
      },
      "source": [
        "print(np.eye(4))"
      ],
      "execution_count": 13,
      "outputs": [
        {
          "output_type": "stream",
          "text": [
            "[[1. 0. 0. 0.]\n",
            " [0. 1. 0. 0.]\n",
            " [0. 0. 1. 0.]\n",
            " [0. 0. 0. 1.]]\n"
          ],
          "name": "stdout"
        }
      ]
    },
    {
      "cell_type": "markdown",
      "metadata": {
        "id": "VdrITa3_9od4"
      },
      "source": [
        "NumPy also has lots of ways to create random number arrays:\n",
        "\n",
        "* ``rand``: create an array of the given shape with random samples from a uniform distribution over $[0,1)$\n",
        "* ``randn``: create an array of the given shape with random samples from the standard normal distribution\n",
        "* ``randint``: return random integers in the interval\n",
        "\n"
      ]
    },
    {
      "cell_type": "code",
      "metadata": {
        "id": "1D6Ah3Qk5xiZ",
        "outputId": "f84ee2c2-b14e-4541-a08c-cd97236e66ff",
        "colab": {
          "base_uri": "https://localhost:8080/"
        }
      },
      "source": [
        "print(np.random.rand(2))\n",
        "print(np.random.rand(3,4))"
      ],
      "execution_count": 14,
      "outputs": [
        {
          "output_type": "stream",
          "text": [
            "[0.5488135  0.71518937]\n",
            "[[0.60276338 0.54488318 0.4236548  0.64589411]\n",
            " [0.43758721 0.891773   0.96366276 0.38344152]\n",
            " [0.79172504 0.52889492 0.56804456 0.92559664]]\n"
          ],
          "name": "stdout"
        }
      ]
    },
    {
      "cell_type": "code",
      "metadata": {
        "id": "C2tOkwHP-r56",
        "outputId": "4afcfd0e-e8da-421e-af9f-5e3f86a5cc2c",
        "colab": {
          "base_uri": "https://localhost:8080/"
        }
      },
      "source": [
        "print(np.random.randn(2))  ## 정규 분포에 따른다. \n",
        "print(np.random.randn(3,4))"
      ],
      "execution_count": 15,
      "outputs": [
        {
          "output_type": "stream",
          "text": [
            "[0.44386323 0.33367433]\n",
            "[[ 1.49407907 -0.20515826  0.3130677  -0.85409574]\n",
            " [-2.55298982  0.6536186   0.8644362  -0.74216502]\n",
            " [ 2.26975462 -1.45436567  0.04575852 -0.18718385]]\n"
          ],
          "name": "stdout"
        }
      ]
    },
    {
      "cell_type": "code",
      "metadata": {
        "id": "YYhNtS3F-r03",
        "outputId": "6adc545c-7237-4c87-8c25-b559934dec9f",
        "colab": {
          "base_uri": "https://localhost:8080/"
        }
      },
      "source": [
        "print(np.random.randint(2, size=5))  #최소는 포함 최대는 포함이 안된다 . (0,1 중에 랜덤 하게 뽑아라 )\n",
        "print(np.random.randint(1, size=5))\n",
        "print(np.random.randint(1, 100, 10))  # 1에서 99 안에서 10개를 뽑아라 ."
      ],
      "execution_count": 16,
      "outputs": [
        {
          "output_type": "stream",
          "text": [
            "[0 0 0 1 1]\n",
            "[0 0 0 0 0]\n",
            "[ 5 43 59 32  2 66 42 58 36 12]\n"
          ],
          "name": "stdout"
        }
      ]
    },
    {
      "cell_type": "code",
      "metadata": {
        "id": "OtCzORIIAB-g",
        "outputId": "c2eb6bf8-3516-493c-e9b6-6dcd75ae4eb1",
        "colab": {
          "base_uri": "https://localhost:8080/"
        }
      },
      "source": [
        "# 2x4 array of ints between 0 and 4, inclusive:\n",
        "print(np.random.randint(5, size=(2,4)))\n",
        "\n",
        "# 2x3 array with 3 different upper bounds:\n",
        "print(np.random.randint(1, [3,5,10], size=(10,3))) ##  각 열 별로 3,5,10 을 넘지 않게 해라 "
      ],
      "execution_count": 17,
      "outputs": [
        {
          "output_type": "stream",
          "text": [
            "[[2 3 0 3]\n",
            " [4 1 2 4]]\n",
            "[[2 1 7]\n",
            " [1 4 5]\n",
            " [2 1 5]\n",
            " [1 1 5]\n",
            " [2 3 8]\n",
            " [2 2 6]\n",
            " [2 1 2]\n",
            " [2 2 4]\n",
            " [1 4 6]\n",
            " [1 1 2]]\n"
          ],
          "name": "stdout"
        }
      ]
    },
    {
      "cell_type": "markdown",
      "metadata": {
        "id": "kvUzsZ31CKpV"
      },
      "source": [
        "### Array Attributes and Methods\n",
        "\n",
        "Let's play with some useful attributes and methods"
      ]
    },
    {
      "cell_type": "code",
      "metadata": {
        "id": "1xJBkVI__52t",
        "outputId": "6e43c9b1-7370-4c63-9971-9a25645d19a9",
        "colab": {
          "base_uri": "https://localhost:8080/"
        }
      },
      "source": [
        "arr = np.random.randint(10, size=(3,4,2))\n",
        "arr"
      ],
      "execution_count": 23,
      "outputs": [
        {
          "output_type": "execute_result",
          "data": {
            "text/plain": [
              "array([[[8, 4],\n",
              "        [6, 5],\n",
              "        [8, 2],\n",
              "        [3, 9]],\n",
              "\n",
              "       [[7, 5],\n",
              "        [3, 4],\n",
              "        [5, 3],\n",
              "        [3, 7]],\n",
              "\n",
              "       [[9, 9],\n",
              "        [9, 7],\n",
              "        [3, 2],\n",
              "        [3, 9]]])"
            ]
          },
          "metadata": {
            "tags": []
          },
          "execution_count": 23
        }
      ]
    },
    {
      "cell_type": "code",
      "metadata": {
        "id": "RYc3RK5LCuhY",
        "outputId": "1e9bc2d8-99a5-4340-8305-8880b61ff404",
        "colab": {
          "base_uri": "https://localhost:8080/"
        }
      },
      "source": [
        "print('arr ndim: ', arr.ndim)\n",
        "print('arr shape: ', arr.shape)\n",
        "print('arr size: ', arr.size)\n",
        "print('arr dtype: ', arr.dtype)\n",
        "print('arr itemsize: ', arr.itemsize, 'bytes')\n",
        "print('arr nbytes: ', arr.nbytes, 'bytes')"
      ],
      "execution_count": 19,
      "outputs": [
        {
          "output_type": "stream",
          "text": [
            "arr ndim:  3\n",
            "arr shape:  (3, 4, 2)\n",
            "arr size:  24\n",
            "arr dtype:  int64\n",
            "arr itemsize:  8 bytes\n",
            "arr nbytes:  192 bytes\n"
          ],
          "name": "stdout"
        }
      ]
    },
    {
      "cell_type": "markdown",
      "metadata": {
        "id": "OB0LsDYY318Q"
      },
      "source": [
        "Reshape \n",
        "\n",
        "* ``reshape``: return an array containing the same data with a new shape\n"
      ]
    },
    {
      "cell_type": "code",
      "metadata": {
        "id": "ort8C24q3wZq",
        "outputId": "fd67ff18-661b-4a3f-a4c7-d42b8c11eb89",
        "colab": {
          "base_uri": "https://localhost:8080/"
        }
      },
      "source": [
        "print(arr)\n",
        "print(arr.shape)"
      ],
      "execution_count": 24,
      "outputs": [
        {
          "output_type": "stream",
          "text": [
            "[[[8 4]\n",
            "  [6 5]\n",
            "  [8 2]\n",
            "  [3 9]]\n",
            "\n",
            " [[7 5]\n",
            "  [3 4]\n",
            "  [5 3]\n",
            "  [3 7]]\n",
            "\n",
            " [[9 9]\n",
            "  [9 7]\n",
            "  [3 2]\n",
            "  [3 9]]]\n",
            "(3, 4, 2)\n"
          ],
          "name": "stdout"
        }
      ]
    },
    {
      "cell_type": "code",
      "metadata": {
        "id": "rrdXW6oi3wWs",
        "outputId": "7aff94d9-9af5-4b74-bb8e-ed81c2100791",
        "colab": {
          "base_uri": "https://localhost:8080/"
        }
      },
      "source": [
        "arr.reshape(4,3,2)"
      ],
      "execution_count": 25,
      "outputs": [
        {
          "output_type": "execute_result",
          "data": {
            "text/plain": [
              "array([[[8, 4],\n",
              "        [6, 5],\n",
              "        [8, 2]],\n",
              "\n",
              "       [[3, 9],\n",
              "        [7, 5],\n",
              "        [3, 4]],\n",
              "\n",
              "       [[5, 3],\n",
              "        [3, 7],\n",
              "        [9, 9]],\n",
              "\n",
              "       [[9, 7],\n",
              "        [3, 2],\n",
              "        [3, 9]]])"
            ]
          },
          "metadata": {
            "tags": []
          },
          "execution_count": 25
        }
      ]
    },
    {
      "cell_type": "code",
      "metadata": {
        "id": "UH2A7U4k3wTV",
        "outputId": "00c2784c-ab10-4e91-ff46-aa094b2ff1f2",
        "colab": {
          "base_uri": "https://localhost:8080/"
        }
      },
      "source": [
        "arr.reshape(2,2,6)"
      ],
      "execution_count": 26,
      "outputs": [
        {
          "output_type": "execute_result",
          "data": {
            "text/plain": [
              "array([[[8, 4, 6, 5, 8, 2],\n",
              "        [3, 9, 7, 5, 3, 4]],\n",
              "\n",
              "       [[5, 3, 3, 7, 9, 9],\n",
              "        [9, 7, 3, 2, 3, 9]]])"
            ]
          },
          "metadata": {
            "tags": []
          },
          "execution_count": 26
        }
      ]
    },
    {
      "cell_type": "markdown",
      "metadata": {
        "id": "TEx8VInp4_in"
      },
      "source": [
        "max, min, argmax, argmin\n"
      ]
    },
    {
      "cell_type": "code",
      "metadata": {
        "id": "aEf1RXfxCv_p",
        "outputId": "173eed74-1790-4c9c-e854-efd8970a0ecf",
        "colab": {
          "base_uri": "https://localhost:8080/"
        }
      },
      "source": [
        "rand_arr = np.random.randint(0,50,10)\n",
        "rand_arr"
      ],
      "execution_count": 27,
      "outputs": [
        {
          "output_type": "execute_result",
          "data": {
            "text/plain": [
              "array([10, 27, 45,  7, 39, 21, 33, 44, 34, 34])"
            ]
          },
          "metadata": {
            "tags": []
          },
          "execution_count": 27
        }
      ]
    },
    {
      "cell_type": "code",
      "metadata": {
        "id": "Re_pK3NLCv81",
        "outputId": "f6a896e0-5682-4c9c-bbcf-660e10e2b8f8",
        "colab": {
          "base_uri": "https://localhost:8080/"
        }
      },
      "source": [
        "print(rand_arr.max())\n",
        "print(rand_arr.min())\n",
        "\n",
        "print(rand_arr.argmax())\n",
        "print(rand_arr.argmin())"
      ],
      "execution_count": 28,
      "outputs": [
        {
          "output_type": "stream",
          "text": [
            "45\n",
            "7\n",
            "2\n",
            "3\n"
          ],
          "name": "stdout"
        }
      ]
    },
    {
      "cell_type": "markdown",
      "metadata": {
        "id": "BQoIBcmdD-5z"
      },
      "source": [
        "##Indexing and Slicing:\n",
        "\n",
        "* ``arr[1st dim index, 2nd dim index, ...]``\n",
        "* Remember that index starts from ``0`` ...\n",
        "* ... and Negative intex starts from ``-1`` "
      ]
    },
    {
      "cell_type": "code",
      "metadata": {
        "id": "FXcpmZqZCwHf",
        "outputId": "8179abe2-e8af-4900-fc01-28df4c4a9cb3",
        "colab": {
          "base_uri": "https://localhost:8080/"
        }
      },
      "source": [
        "arr = np.random.randint(10, size=(3,4,2))\n",
        "arr"
      ],
      "execution_count": 69,
      "outputs": [
        {
          "output_type": "execute_result",
          "data": {
            "text/plain": [
              "array([[[2, 1],\n",
              "        [1, 2],\n",
              "        [1, 4],\n",
              "        [2, 5]],\n",
              "\n",
              "       [[5, 5],\n",
              "        [2, 5],\n",
              "        [7, 7],\n",
              "        [6, 1]],\n",
              "\n",
              "       [[6, 7],\n",
              "        [2, 3],\n",
              "        [1, 9],\n",
              "        [5, 9]]])"
            ]
          },
          "metadata": {
            "tags": []
          },
          "execution_count": 69
        }
      ]
    },
    {
      "cell_type": "code",
      "metadata": {
        "id": "AqFw4FB2H5cr",
        "outputId": "b7db5ac6-b9e9-45e4-c1c1-527e78275b52",
        "colab": {
          "base_uri": "https://localhost:8080/"
        }
      },
      "source": [
        "# Get a value at an index\n",
        "print(arr[0,0,0])\n",
        "print(arr[0,1,1])\n",
        "print(arr[2,2,1])"
      ],
      "execution_count": 30,
      "outputs": [
        {
          "output_type": "stream",
          "text": [
            "8\n",
            "8\n",
            "3\n"
          ],
          "name": "stdout"
        }
      ]
    },
    {
      "cell_type": "code",
      "metadata": {
        "id": "_CksdGO2H5YF",
        "outputId": "0d5235b0-35c2-45e9-ac6e-91232ee5ac25",
        "colab": {
          "base_uri": "https://localhost:8080/"
        }
      },
      "source": [
        ""
      ],
      "execution_count": 52,
      "outputs": [
        {
          "output_type": "stream",
          "text": [
            "[[[8]\n",
            "  [4]]]\n"
          ],
          "name": "stdout"
        }
      ]
    },
    {
      "cell_type": "markdown",
      "metadata": {
        "id": "iHGJO5KTYiku"
      },
      "source": [
        ""
      ]
    },
    {
      "cell_type": "code",
      "metadata": {
        "id": "T58P9ZuUZGKH",
        "outputId": "bd24e51e-4d1c-48fb-f7d5-8fbf56313957",
        "colab": {
          "base_uri": "https://localhost:8080/"
        }
      },
      "source": [
        "print(arr[:1, :2, 0])"
      ],
      "execution_count": 51,
      "outputs": [
        {
          "output_type": "stream",
          "text": [
            "[[8 5]]\n"
          ],
          "name": "stdout"
        }
      ]
    },
    {
      "cell_type": "code",
      "metadata": {
        "id": "aC7Qlg71H5VA",
        "outputId": "cf3e3ae9-8244-428d-df76-0b2a7b0b8e21",
        "colab": {
          "base_uri": "https://localhost:8080/"
        }
      },
      "source": [
        "print(arr[:2, ::2,0 ])\n",
        "arr[:2, ::2,0 ].shape"
      ],
      "execution_count": 54,
      "outputs": [
        {
          "output_type": "stream",
          "text": [
            "[[8 4]\n",
            " [5 1]]\n"
          ],
          "name": "stdout"
        },
        {
          "output_type": "execute_result",
          "data": {
            "text/plain": [
              "(2, 2)"
            ]
          },
          "metadata": {
            "tags": []
          },
          "execution_count": 54
        }
      ]
    },
    {
      "cell_type": "code",
      "metadata": {
        "id": "tdcLM4_DZ7_n",
        "outputId": "93c020a2-4ee0-4b11-c9c3-fe83a926802b",
        "colab": {
          "base_uri": "https://localhost:8080/"
        }
      },
      "source": [
        "print(arr[:2, ::2,:1 ])\n",
        "arr[:2, ::2,:1 ].shape"
      ],
      "execution_count": 55,
      "outputs": [
        {
          "output_type": "stream",
          "text": [
            "[[[8]\n",
            "  [4]]\n",
            "\n",
            " [[5]\n",
            "  [1]]]\n"
          ],
          "name": "stdout"
        },
        {
          "output_type": "execute_result",
          "data": {
            "text/plain": [
              "(2, 2, 1)"
            ]
          },
          "metadata": {
            "tags": []
          },
          "execution_count": 55
        }
      ]
    },
    {
      "cell_type": "code",
      "metadata": {
        "id": "QP2GbiIPbPOy",
        "outputId": "ff32c7a6-e76c-40c8-fcba-2a0197207256",
        "colab": {
          "base_uri": "https://localhost:8080/"
        }
      },
      "source": [
        "print(arr[:2,0,0])"
      ],
      "execution_count": 71,
      "outputs": [
        {
          "output_type": "stream",
          "text": [
            "[2 5]\n"
          ],
          "name": "stdout"
        }
      ]
    },
    {
      "cell_type": "code",
      "metadata": {
        "id": "t36dWGB2Xmt3",
        "outputId": "759847f4-bc26-4fb6-e379-59216db00f1b",
        "colab": {
          "base_uri": "https://localhost:8080/"
        }
      },
      "source": [
        "print(arr[1:,:2,:1])"
      ],
      "execution_count": 42,
      "outputs": [
        {
          "output_type": "stream",
          "text": [
            "[[[5]\n",
            "  [8]]\n",
            "\n",
            " [[8]\n",
            "  [4]]]\n"
          ],
          "name": "stdout"
        }
      ]
    },
    {
      "cell_type": "code",
      "metadata": {
        "id": "E3rMr1hfb1yp",
        "outputId": "6d4d2d23-d6e6-42e5-872a-1fbc5c46d9f5",
        "colab": {
          "base_uri": "https://localhost:8080/",
          "height": 226
        }
      },
      "source": [
        "a=[[[2, 1],\n",
        "        [1, 2],\n",
        "        [1, 4],\n",
        "        [2, 5]],\n",
        "\n",
        "       [[5, 5],\n",
        "        [2, 5],\n",
        "        [7, 7],\n",
        "        [6, 1]],\n",
        "\n",
        "       [[6, 7],\n",
        "        [2, 3],\n",
        "        [1, 9],\n",
        "        [5, 9]]]\n",
        "\n",
        "print(a)\n"
      ],
      "execution_count": 75,
      "outputs": [
        {
          "output_type": "stream",
          "text": [
            "[[[2, 1], [1, 2], [1, 4], [2, 5]], [[5, 5], [2, 5], [7, 7], [6, 1]], [[6, 7], [2, 3], [1, 9], [5, 9]]]\n"
          ],
          "name": "stdout"
        },
        {
          "output_type": "error",
          "ename": "AttributeError",
          "evalue": "ignored",
          "traceback": [
            "\u001b[0;31m---------------------------------------------------------------------------\u001b[0m",
            "\u001b[0;31mAttributeError\u001b[0m                            Traceback (most recent call last)",
            "\u001b[0;32m<ipython-input-75-ad3cc98b4ca7>\u001b[0m in \u001b[0;36m<module>\u001b[0;34m()\u001b[0m\n\u001b[1;32m     15\u001b[0m \u001b[0;34m\u001b[0m\u001b[0m\n\u001b[1;32m     16\u001b[0m \u001b[0mprint\u001b[0m\u001b[0;34m(\u001b[0m\u001b[0ma\u001b[0m\u001b[0;34m)\u001b[0m\u001b[0;34m\u001b[0m\u001b[0;34m\u001b[0m\u001b[0m\n\u001b[0;32m---> 17\u001b[0;31m \u001b[0ma\u001b[0m\u001b[0;34m.\u001b[0m\u001b[0mshape\u001b[0m\u001b[0;34m(\u001b[0m\u001b[0;34m)\u001b[0m\u001b[0;34m\u001b[0m\u001b[0;34m\u001b[0m\u001b[0m\n\u001b[0m",
            "\u001b[0;31mAttributeError\u001b[0m: 'list' object has no attribute 'shape'"
          ]
        }
      ]
    },
    {
      "cell_type": "code",
      "metadata": {
        "id": "QYIHHXrJb4VX",
        "outputId": "ca0471ae-21ce-47f4-d2de-1f0ef9305555",
        "colab": {
          "base_uri": "https://localhost:8080/"
        }
      },
      "source": [
        "print(a[:2][0][0])"
      ],
      "execution_count": 82,
      "outputs": [
        {
          "output_type": "stream",
          "text": [
            "[2, 1]\n"
          ],
          "name": "stdout"
        }
      ]
    },
    {
      "cell_type": "markdown",
      "metadata": {
        "id": "3SKg0Bmo6y_y"
      },
      "source": [
        "``Broadcasting``: NumPy arrays differ from a normal Python list because of their ability to broadcast:\n",
        "\n",
        "``view``: Array slices return views rather than copies of the array data. If we modify subarray, the original array is changed. This avoids memory problems!\n",
        "\n",
        "``copy``: To get a data copy, need to use .copy()\n"
      ]
    },
    {
      "cell_type": "code",
      "metadata": {
        "id": "i99HQVT2H5Gu",
        "outputId": "9269232d-4fd6-4103-835f-ae88851b8d95",
        "colab": {
          "base_uri": "https://localhost:8080/"
        }
      },
      "source": [
        "sub_arr = arr[1]\n",
        "print(sub_arr)"
      ],
      "execution_count": 56,
      "outputs": [
        {
          "output_type": "stream",
          "text": [
            "[[5 0]\n",
            " [8 1]\n",
            " [1 0]\n",
            " [3 8]]\n"
          ],
          "name": "stdout"
        }
      ]
    },
    {
      "cell_type": "code",
      "metadata": {
        "id": "IXbZOQLH3mnc",
        "outputId": "f10afbd0-15a0-41c7-f1b8-a7e35e049121",
        "colab": {
          "base_uri": "https://localhost:8080/"
        }
      },
      "source": [
        "sub_arr[:,1] = 5\n",
        "print(sub_arr)"
      ],
      "execution_count": 57,
      "outputs": [
        {
          "output_type": "stream",
          "text": [
            "[[5 5]\n",
            " [8 5]\n",
            " [1 5]\n",
            " [3 5]]\n"
          ],
          "name": "stdout"
        }
      ]
    },
    {
      "cell_type": "code",
      "metadata": {
        "id": "90bSuxu13mjl",
        "outputId": "cb138105-f3c6-4579-9b69-1a1fdc71ecd8",
        "colab": {
          "base_uri": "https://localhost:8080/"
        }
      },
      "source": [
        "print(arr)"
      ],
      "execution_count": 58,
      "outputs": [
        {
          "output_type": "stream",
          "text": [
            "[[[8 1]\n",
            "  [5 8]\n",
            "  [4 0]\n",
            "  [2 5]]\n",
            "\n",
            " [[5 5]\n",
            "  [8 5]\n",
            "  [1 5]\n",
            "  [3 5]]\n",
            "\n",
            " [[8 4]\n",
            "  [4 0]\n",
            "  [9 3]\n",
            "  [7 3]]]\n"
          ],
          "name": "stdout"
        }
      ]
    },
    {
      "cell_type": "code",
      "metadata": {
        "id": "Y5H1_arj7R3r",
        "outputId": "7ff9d6b3-6381-401d-8b8a-310eb8fc9e78",
        "colab": {
          "base_uri": "https://localhost:8080/"
        }
      },
      "source": [
        "arr_copy = arr.copy()\n",
        "arr_copy"
      ],
      "execution_count": 59,
      "outputs": [
        {
          "output_type": "execute_result",
          "data": {
            "text/plain": [
              "array([[[8, 1],\n",
              "        [5, 8],\n",
              "        [4, 0],\n",
              "        [2, 5]],\n",
              "\n",
              "       [[5, 5],\n",
              "        [8, 5],\n",
              "        [1, 5],\n",
              "        [3, 5]],\n",
              "\n",
              "       [[8, 4],\n",
              "        [4, 0],\n",
              "        [9, 3],\n",
              "        [7, 3]]])"
            ]
          },
          "metadata": {
            "tags": []
          },
          "execution_count": 59
        }
      ]
    },
    {
      "cell_type": "code",
      "metadata": {
        "id": "GLyCcccX7R6z",
        "outputId": "43f6accd-d78d-4c6c-e7b9-d9729c726bc8",
        "colab": {
          "base_uri": "https://localhost:8080/"
        }
      },
      "source": [
        "arr_copy[1,:,1] = 100\n",
        "print(arr_copy)\n",
        "print(arr) "
      ],
      "execution_count": 60,
      "outputs": [
        {
          "output_type": "stream",
          "text": [
            "[[[  8   1]\n",
            "  [  5   8]\n",
            "  [  4   0]\n",
            "  [  2   5]]\n",
            "\n",
            " [[  5 100]\n",
            "  [  8 100]\n",
            "  [  1 100]\n",
            "  [  3 100]]\n",
            "\n",
            " [[  8   4]\n",
            "  [  4   0]\n",
            "  [  9   3]\n",
            "  [  7   3]]]\n",
            "[[[8 1]\n",
            "  [5 8]\n",
            "  [4 0]\n",
            "  [2 5]]\n",
            "\n",
            " [[5 5]\n",
            "  [8 5]\n",
            "  [1 5]\n",
            "  [3 5]]\n",
            "\n",
            " [[8 4]\n",
            "  [4 0]\n",
            "  [9 3]\n",
            "  [7 3]]]\n"
          ],
          "name": "stdout"
        }
      ]
    },
    {
      "cell_type": "markdown",
      "metadata": {
        "id": "qkruIxMO8w8B"
      },
      "source": [
        "Selection: how to use brackets for selection based on comparison operators"
      ]
    },
    {
      "cell_type": "code",
      "metadata": {
        "id": "jdIb7-NN7R9q",
        "outputId": "84a73867-9eed-4fd2-d7b3-0bb09a5c1629",
        "colab": {
          "base_uri": "https://localhost:8080/"
        }
      },
      "source": [
        "arr = np.arange(1,11)\n",
        "arr "
      ],
      "execution_count": 61,
      "outputs": [
        {
          "output_type": "execute_result",
          "data": {
            "text/plain": [
              "array([ 1,  2,  3,  4,  5,  6,  7,  8,  9, 10])"
            ]
          },
          "metadata": {
            "tags": []
          },
          "execution_count": 61
        }
      ]
    },
    {
      "cell_type": "code",
      "metadata": {
        "id": "RyeTpQXn85Ig",
        "outputId": "c40e2321-0a78-4c16-f8d3-d8a0fe50e8e0",
        "colab": {
          "base_uri": "https://localhost:8080/"
        }
      },
      "source": [
        "bool_arr = arr > 4\n",
        "bool_arr"
      ],
      "execution_count": 62,
      "outputs": [
        {
          "output_type": "execute_result",
          "data": {
            "text/plain": [
              "array([False, False, False, False,  True,  True,  True,  True,  True,\n",
              "        True])"
            ]
          },
          "metadata": {
            "tags": []
          },
          "execution_count": 62
        }
      ]
    },
    {
      "cell_type": "code",
      "metadata": {
        "id": "bwrDmaG78-4S",
        "outputId": "3ee725a7-f14b-4d7d-cb5c-6570b59f9bd0",
        "colab": {
          "base_uri": "https://localhost:8080/"
        }
      },
      "source": [
        "arr[bool_arr]"
      ],
      "execution_count": 63,
      "outputs": [
        {
          "output_type": "execute_result",
          "data": {
            "text/plain": [
              "array([ 5,  6,  7,  8,  9, 10])"
            ]
          },
          "metadata": {
            "tags": []
          },
          "execution_count": 63
        }
      ]
    },
    {
      "cell_type": "code",
      "metadata": {
        "id": "OocI40gJ9AXA",
        "outputId": "4e67d4f6-e7f6-4d7f-9abd-d5b979f86216",
        "colab": {
          "base_uri": "https://localhost:8080/"
        }
      },
      "source": [
        "x = 7\n",
        "arr[arr < x]"
      ],
      "execution_count": 64,
      "outputs": [
        {
          "output_type": "execute_result",
          "data": {
            "text/plain": [
              "array([1, 2, 3, 4, 5, 6])"
            ]
          },
          "metadata": {
            "tags": []
          },
          "execution_count": 64
        }
      ]
    },
    {
      "cell_type": "markdown",
      "metadata": {
        "id": "WCxL19769F-k"
      },
      "source": [
        "## NumPy Operations\n"
      ]
    },
    {
      "cell_type": "markdown",
      "metadata": {
        "id": "bgClBohO9V8r"
      },
      "source": [
        "### Arithmetic operations\n",
        "\n",
        "We can easily perform array with array arithmetic operations:\n",
        "\n",
        "* $+$ or ``np.add``: addition\n",
        "* $-$ or ``np.subtract``: subtraction\n",
        "* $*$ or ``np.multiply``: multiplication\n",
        "* $/$ or ``np.divide``: division\n",
        "* $**$ or ``np.power``: exponentiation\n",
        "* $%$ or ``np.mod``: modulus / remainder"
      ]
    },
    {
      "cell_type": "code",
      "metadata": {
        "id": "6wq6WWFF9EJI",
        "outputId": "cc1dcea8-0d09-4c47-8ce6-de868929d2fc",
        "colab": {
          "base_uri": "https://localhost:8080/"
        }
      },
      "source": [
        "arr = np.arange(0, 10)\n",
        "arr"
      ],
      "execution_count": 76,
      "outputs": [
        {
          "output_type": "execute_result",
          "data": {
            "text/plain": [
              "array([0, 1, 2, 3, 4, 5, 6, 7, 8, 9])"
            ]
          },
          "metadata": {
            "tags": []
          },
          "execution_count": 76
        }
      ]
    },
    {
      "cell_type": "code",
      "metadata": {
        "id": "LsB0NpeT9nA_",
        "outputId": "a424082c-a2fe-4d7b-873c-74e3855eeccf",
        "colab": {
          "base_uri": "https://localhost:8080/"
        }
      },
      "source": [
        "arr + arr"
      ],
      "execution_count": 77,
      "outputs": [
        {
          "output_type": "execute_result",
          "data": {
            "text/plain": [
              "array([ 0,  2,  4,  6,  8, 10, 12, 14, 16, 18])"
            ]
          },
          "metadata": {
            "tags": []
          },
          "execution_count": 77
        }
      ]
    },
    {
      "cell_type": "code",
      "metadata": {
        "id": "fPit8ZH49rw7",
        "outputId": "ee16f0af-6bae-458c-8924-24e8aa6283d1",
        "colab": {
          "base_uri": "https://localhost:8080/"
        }
      },
      "source": [
        "arr - arr"
      ],
      "execution_count": 78,
      "outputs": [
        {
          "output_type": "execute_result",
          "data": {
            "text/plain": [
              "array([0, 0, 0, 0, 0, 0, 0, 0, 0, 0])"
            ]
          },
          "metadata": {
            "tags": []
          },
          "execution_count": 78
        }
      ]
    },
    {
      "cell_type": "code",
      "metadata": {
        "id": "DLQ-8mgx9sm4",
        "outputId": "47bf7e8a-bbd8-40e0-b6cb-60f2d1beac40",
        "colab": {
          "base_uri": "https://localhost:8080/"
        }
      },
      "source": [
        "arr * arr"
      ],
      "execution_count": 79,
      "outputs": [
        {
          "output_type": "execute_result",
          "data": {
            "text/plain": [
              "array([ 0,  1,  4,  9, 16, 25, 36, 49, 64, 81])"
            ]
          },
          "metadata": {
            "tags": []
          },
          "execution_count": 79
        }
      ]
    },
    {
      "cell_type": "code",
      "metadata": {
        "id": "gqKmAMjC9tCS",
        "outputId": "36a208d2-bd1a-4f66-f0fd-44570b28ef14",
        "colab": {
          "base_uri": "https://localhost:8080/"
        }
      },
      "source": [
        "# if devision by zero, it gives ``nan``\n",
        "arr / arr"
      ],
      "execution_count": 80,
      "outputs": [
        {
          "output_type": "stream",
          "text": [
            "/usr/local/lib/python3.7/dist-packages/ipykernel_launcher.py:2: RuntimeWarning: invalid value encountered in true_divide\n",
            "  \n"
          ],
          "name": "stderr"
        },
        {
          "output_type": "execute_result",
          "data": {
            "text/plain": [
              "array([nan,  1.,  1.,  1.,  1.,  1.,  1.,  1.,  1.,  1.])"
            ]
          },
          "metadata": {
            "tags": []
          },
          "execution_count": 80
        }
      ]
    },
    {
      "cell_type": "code",
      "metadata": {
        "id": "aESugrPr9t84",
        "outputId": "7363a95d-d9f0-4e50-87ee-f9688c3283c1",
        "colab": {
          "base_uri": "https://localhost:8080/"
        }
      },
      "source": [
        "arr ** 3"
      ],
      "execution_count": 81,
      "outputs": [
        {
          "output_type": "execute_result",
          "data": {
            "text/plain": [
              "array([  0,   1,   8,  27,  64, 125, 216, 343, 512, 729])"
            ]
          },
          "metadata": {
            "tags": []
          },
          "execution_count": 81
        }
      ]
    },
    {
      "cell_type": "markdown",
      "metadata": {
        "id": "xGIEG4JeL1Io"
      },
      "source": [
        "Broadcasting"
      ]
    },
    {
      "cell_type": "code",
      "metadata": {
        "id": "jdCDZGmsLy5p",
        "outputId": "a851ac39-4773-4858-b3e8-20b3eb3c2c2a",
        "colab": {
          "base_uri": "https://localhost:8080/"
        }
      },
      "source": [
        "arr_1 = np.arange(3)\n",
        "print(arr_1)\n",
        "\n",
        "arr_1 + 5"
      ],
      "execution_count": 83,
      "outputs": [
        {
          "output_type": "stream",
          "text": [
            "[0 1 2]\n"
          ],
          "name": "stdout"
        },
        {
          "output_type": "execute_result",
          "data": {
            "text/plain": [
              "array([5, 6, 7])"
            ]
          },
          "metadata": {
            "tags": []
          },
          "execution_count": 83
        }
      ]
    },
    {
      "cell_type": "code",
      "metadata": {
        "id": "LC-lQFkEMBEP",
        "outputId": "a6c8153e-0602-4fac-e56f-f8a6a7ea494c",
        "colab": {
          "base_uri": "https://localhost:8080/"
        }
      },
      "source": [
        "arr_2 = np.ones((3,3))\n",
        "print(arr_1)\n",
        "print(arr_2)\n",
        "\n",
        "arr_1 + arr_2"
      ],
      "execution_count": 84,
      "outputs": [
        {
          "output_type": "stream",
          "text": [
            "[0 1 2]\n",
            "[[1. 1. 1.]\n",
            " [1. 1. 1.]\n",
            " [1. 1. 1.]]\n"
          ],
          "name": "stdout"
        },
        {
          "output_type": "execute_result",
          "data": {
            "text/plain": [
              "array([[1., 2., 3.],\n",
              "       [1., 2., 3.],\n",
              "       [1., 2., 3.]])"
            ]
          },
          "metadata": {
            "tags": []
          },
          "execution_count": 84
        }
      ]
    },
    {
      "cell_type": "code",
      "metadata": {
        "id": "QuQSaYW8MM4Y",
        "outputId": "69b38a88-1b45-46e9-9745-f5ece9d9fcf4",
        "colab": {
          "base_uri": "https://localhost:8080/"
        }
      },
      "source": [
        "print(arr_1)\n",
        "print(arr_1.reshape(3,1))\n",
        "\n",
        "arr_1 + arr_1.reshape((3,1))"
      ],
      "execution_count": 85,
      "outputs": [
        {
          "output_type": "stream",
          "text": [
            "[0 1 2]\n",
            "[[0]\n",
            " [1]\n",
            " [2]]\n"
          ],
          "name": "stdout"
        },
        {
          "output_type": "execute_result",
          "data": {
            "text/plain": [
              "array([[0, 1, 2],\n",
              "       [1, 2, 3],\n",
              "       [2, 3, 4]])"
            ]
          },
          "metadata": {
            "tags": []
          },
          "execution_count": 85
        }
      ]
    },
    {
      "cell_type": "markdown",
      "metadata": {
        "id": "3duznCov94Yq"
      },
      "source": [
        "### Universal Array Functions\n",
        "\n",
        "NumPy comes with many universal array functions, which are essentially just mathematical operations you can use to perform the operation across the array.\n",
        "\n",
        "* ``np.sum``: compute sum of elements\n",
        "* ``np.prod``: compute product of elements\n",
        "* ``np.mean``: compute mean of elements\n",
        "* ``np.std``: compute standard deviation\n",
        "* ``np.var``: compute variance\n",
        "* ``np.median``: compute median of elements\n",
        "* ``np.sqrt``: compute square root\n",
        "* ``np.exp``: exponentiation\n",
        "* ``np.log``: natural logarithm\n",
        "* ``np.abs``: absolute value\n"
      ]
    },
    {
      "cell_type": "code",
      "metadata": {
        "id": "jYGI388X92zY",
        "outputId": "895709bb-4721-403d-a6fe-5c8eec6c8b8d",
        "colab": {
          "base_uri": "https://localhost:8080/"
        }
      },
      "source": [
        "arr = np.arange(0, 10)\n",
        "arr"
      ],
      "execution_count": 86,
      "outputs": [
        {
          "output_type": "execute_result",
          "data": {
            "text/plain": [
              "array([0, 1, 2, 3, 4, 5, 6, 7, 8, 9])"
            ]
          },
          "metadata": {
            "tags": []
          },
          "execution_count": 86
        }
      ]
    },
    {
      "cell_type": "code",
      "metadata": {
        "id": "3-WudQP1_GQG",
        "outputId": "2ec2468a-a73b-42b6-9289-fde7c8a32ac2",
        "colab": {
          "base_uri": "https://localhost:8080/"
        }
      },
      "source": [
        "np.sum(arr)"
      ],
      "execution_count": 87,
      "outputs": [
        {
          "output_type": "execute_result",
          "data": {
            "text/plain": [
              "45"
            ]
          },
          "metadata": {
            "tags": []
          },
          "execution_count": 87
        }
      ]
    },
    {
      "cell_type": "code",
      "metadata": {
        "id": "OtY7r7zr_HQi",
        "outputId": "9bb21647-4c08-4775-9190-607aa3b1aa7d",
        "colab": {
          "base_uri": "https://localhost:8080/"
        }
      },
      "source": [
        "np.prod(arr[1:4])"
      ],
      "execution_count": 88,
      "outputs": [
        {
          "output_type": "execute_result",
          "data": {
            "text/plain": [
              "6"
            ]
          },
          "metadata": {
            "tags": []
          },
          "execution_count": 88
        }
      ]
    },
    {
      "cell_type": "code",
      "metadata": {
        "id": "lLuZLGT__IPt",
        "outputId": "03bb4812-dd06-493e-8db5-347a8920c43b",
        "colab": {
          "base_uri": "https://localhost:8080/"
        }
      },
      "source": [
        "print(np.mean(arr))\n",
        "print(np.std(arr))\n",
        "print(np.var(arr))"
      ],
      "execution_count": 89,
      "outputs": [
        {
          "output_type": "stream",
          "text": [
            "4.5\n",
            "2.8722813232690143\n",
            "8.25\n"
          ],
          "name": "stdout"
        }
      ]
    },
    {
      "cell_type": "code",
      "metadata": {
        "id": "Mrh3duHG_NIO",
        "outputId": "be8e52dc-6e04-4b46-9a9a-4fa49e036bcd",
        "colab": {
          "base_uri": "https://localhost:8080/"
        }
      },
      "source": [
        "np.sqrt(arr)"
      ],
      "execution_count": 90,
      "outputs": [
        {
          "output_type": "execute_result",
          "data": {
            "text/plain": [
              "array([0.        , 1.        , 1.41421356, 1.73205081, 2.        ,\n",
              "       2.23606798, 2.44948974, 2.64575131, 2.82842712, 3.        ])"
            ]
          },
          "metadata": {
            "tags": []
          },
          "execution_count": 90
        }
      ]
    },
    {
      "cell_type": "code",
      "metadata": {
        "id": "li8s_1Al_VGY",
        "outputId": "f03f890a-2bc9-45bd-98eb-89c6ef2453ac",
        "colab": {
          "base_uri": "https://localhost:8080/"
        }
      },
      "source": [
        "np.exp(arr)"
      ],
      "execution_count": 91,
      "outputs": [
        {
          "output_type": "execute_result",
          "data": {
            "text/plain": [
              "array([1.00000000e+00, 2.71828183e+00, 7.38905610e+00, 2.00855369e+01,\n",
              "       5.45981500e+01, 1.48413159e+02, 4.03428793e+02, 1.09663316e+03,\n",
              "       2.98095799e+03, 8.10308393e+03])"
            ]
          },
          "metadata": {
            "tags": []
          },
          "execution_count": 91
        }
      ]
    },
    {
      "cell_type": "code",
      "metadata": {
        "id": "YYIjTk_X_WCq",
        "outputId": "3e86fd0b-2c57-4ded-d065-0d02eab4f5b7",
        "colab": {
          "base_uri": "https://localhost:8080/"
        }
      },
      "source": [
        "print(np.log(arr))\n",
        "print(np.log2(arr))"
      ],
      "execution_count": 92,
      "outputs": [
        {
          "output_type": "stream",
          "text": [
            "[      -inf 0.         0.69314718 1.09861229 1.38629436 1.60943791\n",
            " 1.79175947 1.94591015 2.07944154 2.19722458]\n",
            "[      -inf 0.         1.         1.5849625  2.         2.32192809\n",
            " 2.5849625  2.80735492 3.         3.169925  ]\n"
          ],
          "name": "stdout"
        },
        {
          "output_type": "stream",
          "text": [
            "/usr/local/lib/python3.7/dist-packages/ipykernel_launcher.py:1: RuntimeWarning: divide by zero encountered in log\n",
            "  \"\"\"Entry point for launching an IPython kernel.\n",
            "/usr/local/lib/python3.7/dist-packages/ipykernel_launcher.py:2: RuntimeWarning: divide by zero encountered in log2\n",
            "  \n"
          ],
          "name": "stderr"
        }
      ]
    },
    {
      "cell_type": "markdown",
      "metadata": {
        "id": "haa8wPHR_hU4"
      },
      "source": [
        "We can specify the ``axis`` along which the aggregate is computed: Note that the axis index also starts from ``0``"
      ]
    },
    {
      "cell_type": "code",
      "metadata": {
        "id": "xdfZ5Ly0_XM3",
        "outputId": "a7415474-939f-4f9b-b7dd-d2bfa65a8722",
        "colab": {
          "base_uri": "https://localhost:8080/"
        }
      },
      "source": [
        "arr = np.random.randint(1,10,size=(3,4))\n",
        "arr"
      ],
      "execution_count": 93,
      "outputs": [
        {
          "output_type": "execute_result",
          "data": {
            "text/plain": [
              "array([[3, 1, 2, 1],\n",
              "       [7, 1, 5, 9],\n",
              "       [5, 4, 4, 9]])"
            ]
          },
          "metadata": {
            "tags": []
          },
          "execution_count": 93
        }
      ]
    },
    {
      "cell_type": "code",
      "metadata": {
        "id": "YustRtLF_rfA",
        "outputId": "b333abdd-4593-4f7f-de31-24969e1682e9",
        "colab": {
          "base_uri": "https://localhost:8080/"
        }
      },
      "source": [
        "print(arr.sum())"
      ],
      "execution_count": 94,
      "outputs": [
        {
          "output_type": "stream",
          "text": [
            "51\n"
          ],
          "name": "stdout"
        }
      ]
    },
    {
      "cell_type": "code",
      "metadata": {
        "id": "JQ7zqlY-_ztr",
        "outputId": "701f73c9-2c84-4b97-c5a0-421bcd0f9677",
        "colab": {
          "base_uri": "https://localhost:8080/"
        }
      },
      "source": [
        "print(arr.sum(axis=0))\n",
        "print(arr.sum(axis=1))"
      ],
      "execution_count": 95,
      "outputs": [
        {
          "output_type": "stream",
          "text": [
            "[15  6 11 19]\n",
            "[ 7 22 22]\n"
          ],
          "name": "stdout"
        }
      ]
    },
    {
      "cell_type": "code",
      "metadata": {
        "id": "EFm4F1fDCOVH",
        "outputId": "08d8162f-e569-451b-c000-155f5ef6a65c",
        "colab": {
          "base_uri": "https://localhost:8080/"
        }
      },
      "source": [
        "print(arr.mean())\n",
        "print(arr.mean(axis=0))\n",
        "print(arr.mean(axis=1))"
      ],
      "execution_count": 96,
      "outputs": [
        {
          "output_type": "stream",
          "text": [
            "4.25\n",
            "[5.         2.         3.66666667 6.33333333]\n",
            "[1.75 5.5  5.5 ]\n"
          ],
          "name": "stdout"
        }
      ]
    },
    {
      "cell_type": "code",
      "metadata": {
        "id": "sUBtRPQ3_3Dj",
        "outputId": "bf51d6d7-e23b-41ef-f50c-6fdab9d9e644",
        "colab": {
          "base_uri": "https://localhost:8080/"
        }
      },
      "source": [
        "print(arr.max())\n",
        "print(arr.max(axis=0))\n",
        "print(arr.max(axis=1))"
      ],
      "execution_count": 97,
      "outputs": [
        {
          "output_type": "stream",
          "text": [
            "9\n",
            "[7 4 5 9]\n",
            "[3 9 9]\n"
          ],
          "name": "stdout"
        }
      ]
    },
    {
      "cell_type": "markdown",
      "metadata": {
        "id": "ZRmwT5GECobd"
      },
      "source": [
        "Comparison operators\n",
        "\n",
        "* $==$ or ``np.equal``: equal \n",
        "* $!=$ or ``np.not_equal``: not equal\n",
        "* $<$ or ``np.less``: less\n",
        "* $<=$ or ``np.less_equal``: less equal\n",
        "* $>$ or ``np.greater``: greater\n",
        "* $>=$ or ``np.greater_equal``: greater equal"
      ]
    },
    {
      "cell_type": "code",
      "metadata": {
        "id": "4I-eduUXCkWj",
        "outputId": "08451d33-bfc8-457e-d606-0e6f0d383d18",
        "colab": {
          "base_uri": "https://localhost:8080/"
        }
      },
      "source": [
        "arr = np.arange(0, 10)\n",
        "arr"
      ],
      "execution_count": 98,
      "outputs": [
        {
          "output_type": "execute_result",
          "data": {
            "text/plain": [
              "array([0, 1, 2, 3, 4, 5, 6, 7, 8, 9])"
            ]
          },
          "metadata": {
            "tags": []
          },
          "execution_count": 98
        }
      ]
    },
    {
      "cell_type": "code",
      "metadata": {
        "id": "xJQ8CDkBDA5F",
        "outputId": "e36c1875-1a01-43cb-85e2-aa4cb1fdfee9",
        "colab": {
          "base_uri": "https://localhost:8080/"
        }
      },
      "source": [
        "np.less(arr, 5)"
      ],
      "execution_count": 99,
      "outputs": [
        {
          "output_type": "execute_result",
          "data": {
            "text/plain": [
              "array([ True,  True,  True,  True,  True, False, False, False, False,\n",
              "       False])"
            ]
          },
          "metadata": {
            "tags": []
          },
          "execution_count": 99
        }
      ]
    },
    {
      "cell_type": "code",
      "metadata": {
        "id": "SJtoYUFcDGJK",
        "outputId": "aaa7bb5f-a69e-46ef-c520-eb2065d0cc6b",
        "colab": {
          "base_uri": "https://localhost:8080/"
        }
      },
      "source": [
        "np.less_equal(arr, 5)"
      ],
      "execution_count": 100,
      "outputs": [
        {
          "output_type": "execute_result",
          "data": {
            "text/plain": [
              "array([ True,  True,  True,  True,  True,  True, False, False, False,\n",
              "       False])"
            ]
          },
          "metadata": {
            "tags": []
          },
          "execution_count": 100
        }
      ]
    },
    {
      "cell_type": "markdown",
      "metadata": {
        "id": "VmLrC-NlDPKB"
      },
      "source": [
        "Sorting arrays:\n",
        "\n",
        "* ``np.sort``: return a sorted version of the array\n",
        "* ``np.argsort``: return the indices of the sorted elements"
      ]
    },
    {
      "cell_type": "code",
      "metadata": {
        "id": "vymCNPjQDm20",
        "outputId": "90bebb29-98ff-4745-d4b4-72eca567b40c",
        "colab": {
          "base_uri": "https://localhost:8080/"
        }
      },
      "source": [
        "arr = np.random.randint(0,50,10)\n",
        "arr"
      ],
      "execution_count": 101,
      "outputs": [
        {
          "output_type": "execute_result",
          "data": {
            "text/plain": [
              "array([27, 29, 46, 23, 32, 19,  8,  7, 23, 13])"
            ]
          },
          "metadata": {
            "tags": []
          },
          "execution_count": 101
        }
      ]
    },
    {
      "cell_type": "code",
      "metadata": {
        "id": "nLv2BNW5DoBd",
        "outputId": "f33d5f5a-3540-41e4-e4eb-0dec3e0219b7",
        "colab": {
          "base_uri": "https://localhost:8080/"
        }
      },
      "source": [
        "arr.sort()\n",
        "arr"
      ],
      "execution_count": 102,
      "outputs": [
        {
          "output_type": "execute_result",
          "data": {
            "text/plain": [
              "array([ 7,  8, 13, 19, 23, 23, 27, 29, 32, 46])"
            ]
          },
          "metadata": {
            "tags": []
          },
          "execution_count": 102
        }
      ]
    },
    {
      "cell_type": "code",
      "metadata": {
        "id": "3DwwL6sTDv98",
        "outputId": "14b5952c-77c5-41bc-e2d6-2146d082a1f0",
        "colab": {
          "base_uri": "https://localhost:8080/"
        }
      },
      "source": [
        "print(np.sort(arr)) ## 어레이 값은 변하지 않는다. 그냥 값만 보여주는 것 \n",
        "print(arr)"
      ],
      "execution_count": 103,
      "outputs": [
        {
          "output_type": "stream",
          "text": [
            "[ 7  8 13 19 23 23 27 29 32 46]\n",
            "[ 7  8 13 19 23 23 27 29 32 46]\n"
          ],
          "name": "stdout"
        }
      ]
    },
    {
      "cell_type": "code",
      "metadata": {
        "id": "3WNWgZJJDI-a",
        "outputId": "c2f4af5e-dffb-4ca8-cefe-fbc734f89029",
        "colab": {
          "base_uri": "https://localhost:8080/"
        }
      },
      "source": [
        "arr = np.random.randint(0,50,size=(3,4))\n",
        "arr"
      ],
      "execution_count": 104,
      "outputs": [
        {
          "output_type": "execute_result",
          "data": {
            "text/plain": [
              "array([[17,  0, 11, 28],\n",
              "       [36, 25, 32, 42],\n",
              "       [14, 22, 28, 20]])"
            ]
          },
          "metadata": {
            "tags": []
          },
          "execution_count": 104
        }
      ]
    },
    {
      "cell_type": "code",
      "metadata": {
        "id": "YJQwxAQODMCq",
        "outputId": "b25729b2-8313-4470-c9c5-d2fdd00adce3",
        "colab": {
          "base_uri": "https://localhost:8080/"
        }
      },
      "source": [
        "# default axis = -1\n",
        "print(np.sort(arr))\n",
        "print(np.sort(arr, axis=0))\n",
        "print(np.sort(arr, axis=1))"
      ],
      "execution_count": 105,
      "outputs": [
        {
          "output_type": "stream",
          "text": [
            "[[ 0 11 17 28]\n",
            " [25 32 36 42]\n",
            " [14 20 22 28]]\n",
            "[[14  0 11 20]\n",
            " [17 22 28 28]\n",
            " [36 25 32 42]]\n",
            "[[ 0 11 17 28]\n",
            " [25 32 36 42]\n",
            " [14 20 22 28]]\n"
          ],
          "name": "stdout"
        }
      ]
    },
    {
      "cell_type": "markdown",
      "metadata": {
        "id": "Oh7PimcMEOME"
      },
      "source": [
        "## Quiz\n",
        "\n",
        "Now we've learned about NumPy Arrays. Let's test your knowledge."
      ]
    },
    {
      "cell_type": "markdown",
      "metadata": {
        "id": "MaWxSzkUEYFW"
      },
      "source": [
        "1. Create an array of 10 zeros"
      ]
    },
    {
      "cell_type": "code",
      "metadata": {
        "id": "nDZttqekDi4o",
        "outputId": "c19388f0-a7e2-4cfe-b159-1387a0335e03",
        "colab": {
          "base_uri": "https://localhost:8080/"
        }
      },
      "source": [
        "print(np.zeros(10))"
      ],
      "execution_count": 142,
      "outputs": [
        {
          "output_type": "stream",
          "text": [
            "[0. 0. 0. 0. 0. 0. 0. 0. 0. 0.]\n"
          ],
          "name": "stdout"
        }
      ]
    },
    {
      "cell_type": "markdown",
      "metadata": {
        "id": "7gDxFdu0Em1r"
      },
      "source": [
        "2. Create an array of 10 ones"
      ]
    },
    {
      "cell_type": "code",
      "metadata": {
        "id": "N2YqfoImEoiC",
        "outputId": "84f1640f-4728-4ab6-c956-b1c5dc6c9e72",
        "colab": {
          "base_uri": "https://localhost:8080/"
        }
      },
      "source": [
        "print(np.ones(10))"
      ],
      "execution_count": 143,
      "outputs": [
        {
          "output_type": "stream",
          "text": [
            "[1. 1. 1. 1. 1. 1. 1. 1. 1. 1.]\n"
          ],
          "name": "stdout"
        }
      ]
    },
    {
      "cell_type": "markdown",
      "metadata": {
        "id": "bSzre7WCEqSC"
      },
      "source": [
        "3. Create an array of the integers from 10 to 25"
      ]
    },
    {
      "cell_type": "code",
      "metadata": {
        "id": "KehU1dYBElyu",
        "outputId": "3176c1f0-854d-44ff-9d0a-98b19a340639",
        "colab": {
          "base_uri": "https://localhost:8080/"
        }
      },
      "source": [
        "np.arange(10,26)"
      ],
      "execution_count": 169,
      "outputs": [
        {
          "output_type": "execute_result",
          "data": {
            "text/plain": [
              "array([10, 11, 12, 13, 14, 15, 16, 17, 18, 19, 20, 21, 22, 23, 24, 25])"
            ]
          },
          "metadata": {
            "tags": []
          },
          "execution_count": 169
        }
      ]
    },
    {
      "cell_type": "markdown",
      "metadata": {
        "id": "HRt2FZXhEySS"
      },
      "source": [
        "4. Create an array of 5 values evenly spaced between 0 to 1 (inclusive): Output should be ``array([0., 0.25, 0.5, 0.75, 1.])``"
      ]
    },
    {
      "cell_type": "code",
      "metadata": {
        "id": "qCXIKd1mEwMt",
        "outputId": "6084b79a-2d08-4e39-ffe6-eaed86f4e18a",
        "colab": {
          "base_uri": "https://localhost:8080/"
        }
      },
      "source": [
        "print(np.linspace(0,1,5))"
      ],
      "execution_count": 145,
      "outputs": [
        {
          "output_type": "stream",
          "text": [
            "[0.   0.25 0.5  0.75 1.  ]\n"
          ],
          "name": "stdout"
        }
      ]
    },
    {
      "cell_type": "markdown",
      "metadata": {
        "id": "-C0Se3rhFHji"
      },
      "source": [
        "5. Create a 4 x 3 matrix with integers ranging from 1 to 12\n",
        "\n",
        "hint: use arange and reshape"
      ]
    },
    {
      "cell_type": "code",
      "metadata": {
        "id": "h4eRZ5FEFFyi",
        "outputId": "f7dcc238-25ea-44bf-c37b-8d89a464d02d",
        "colab": {
          "base_uri": "https://localhost:8080/"
        }
      },
      "source": [
        "print(np.arange(1,13).reshape(4,3))"
      ],
      "execution_count": 171,
      "outputs": [
        {
          "output_type": "stream",
          "text": [
            "[[ 1  2  3]\n",
            " [ 4  5  6]\n",
            " [ 7  8  9]\n",
            " [10 11 12]]\n"
          ],
          "name": "stdout"
        }
      ]
    },
    {
      "cell_type": "code",
      "metadata": {
        "id": "Pfwx5lNdFqzu",
        "outputId": "b40473be-55db-4774-a4d1-da68cc511b96",
        "colab": {
          "base_uri": "https://localhost:8080/"
        }
      },
      "source": [
        "print(np.random.rand(1))"
      ],
      "execution_count": 147,
      "outputs": [
        {
          "output_type": "stream",
          "text": [
            "[0.18984791]\n"
          ],
          "name": "stdout"
        }
      ]
    },
    {
      "cell_type": "markdown",
      "metadata": {
        "id": "M7MGxVBmF-a2"
      },
      "source": [
        "7. Create a 5x5 matrix with 25 random numbers sampled from a standard normal distribution"
      ]
    },
    {
      "cell_type": "code",
      "metadata": {
        "id": "92t3IevDF9dO",
        "outputId": "d012aefc-ff0c-448f-e3d9-5fb387485543",
        "colab": {
          "base_uri": "https://localhost:8080/"
        }
      },
      "source": [
        "print(np.random.randn(5,5))"
      ],
      "execution_count": 148,
      "outputs": [
        {
          "output_type": "stream",
          "text": [
            "[[ 0.46756761 -1.54079701  0.06326199  0.15650654  0.23218104]\n",
            " [-0.59731607 -0.23792173 -1.42406091 -0.49331988 -0.54286148]\n",
            " [ 0.41605005 -1.15618243  0.7811981   1.49448454 -2.06998503]\n",
            " [ 0.42625873  0.67690804 -0.63743703 -0.39727181 -0.13288058]\n",
            " [-0.29779088 -0.30901297 -1.67600381  1.15233156  1.07961859]]\n"
          ],
          "name": "stdout"
        }
      ]
    },
    {
      "cell_type": "markdown",
      "metadata": {
        "id": "5exs1QyWGN0a"
      },
      "source": [
        "8. Create the following matrix: \n",
        "\n",
        "``array([[0.01, 0.02, 0.03, 0.04, 0.05],[0.06, 0.07, 0.08, 0.09, 0.1], [0.11, 0.12, 0.13, 0.14, 0.15], [0.16, 0.17, 0.18, 0.19, 0.2]]])``\n",
        "\n",
        "hint: first create matrix with integers ranging from 1 to 20, and divide it by 100\n"
      ]
    },
    {
      "cell_type": "code",
      "metadata": {
        "id": "GXWjgI7vGH9G",
        "outputId": "0a37b17f-35e9-4bf3-eff3-574ab6ff10a3",
        "colab": {
          "base_uri": "https://localhost:8080/"
        }
      },
      "source": [
        "np.arange(1,21).reshape(4,5)/100"
      ],
      "execution_count": 175,
      "outputs": [
        {
          "output_type": "execute_result",
          "data": {
            "text/plain": [
              "array([[0.01, 0.02, 0.03, 0.04, 0.05],\n",
              "       [0.06, 0.07, 0.08, 0.09, 0.1 ],\n",
              "       [0.11, 0.12, 0.13, 0.14, 0.15],\n",
              "       [0.16, 0.17, 0.18, 0.19, 0.2 ]])"
            ]
          },
          "metadata": {
            "tags": []
          },
          "execution_count": 175
        }
      ]
    },
    {
      "cell_type": "markdown",
      "metadata": {
        "id": "lk6XSkUMHHjt"
      },
      "source": [
        "\n",
        "You will be given a matrix, and be asked to replicate the resulting matrix outputs by using **indexing, slicing, and selection**"
      ]
    },
    {
      "cell_type": "code",
      "metadata": {
        "id": "tHKImv3GlHz3",
        "outputId": "d4771b26-d7a8-4963-e641-e9356c359785",
        "colab": {
          "base_uri": "https://localhost:8080/"
        }
      },
      "source": [
        "arr=np.linspace(0.01,0.2,20)\n",
        "print(arr.reshape(4,5))\n"
      ],
      "execution_count": 176,
      "outputs": [
        {
          "output_type": "stream",
          "text": [
            "[[0.01 0.02 0.03 0.04 0.05]\n",
            " [0.06 0.07 0.08 0.09 0.1 ]\n",
            " [0.11 0.12 0.13 0.14 0.15]\n",
            " [0.16 0.17 0.18 0.19 0.2 ]]\n"
          ],
          "name": "stdout"
        }
      ]
    },
    {
      "cell_type": "code",
      "metadata": {
        "id": "4N-gG0g_HDti",
        "outputId": "262555ca-cbc8-4628-a5a8-f9d27986d0af",
        "colab": {
          "base_uri": "https://localhost:8080/"
        }
      },
      "source": [
        "mat = np.arange(1,17).reshape(4,4)\n",
        "mat"
      ],
      "execution_count": 150,
      "outputs": [
        {
          "output_type": "execute_result",
          "data": {
            "text/plain": [
              "array([[ 1,  2,  3,  4],\n",
              "       [ 5,  6,  7,  8],\n",
              "       [ 9, 10, 11, 12],\n",
              "       [13, 14, 15, 16]])"
            ]
          },
          "metadata": {
            "tags": []
          },
          "execution_count": 150
        }
      ]
    },
    {
      "cell_type": "markdown",
      "metadata": {
        "id": "TKdeZ6K7HgWj"
      },
      "source": [
        "9. Output should be \n",
        "``array([[5,6,7,8],[9,10,11,12]])``"
      ]
    },
    {
      "cell_type": "code",
      "metadata": {
        "id": "8pPWqMB3HZ2r",
        "outputId": "9e2382fa-4d2a-4039-ebf0-91f125092bde",
        "colab": {
          "base_uri": "https://localhost:8080/"
        }
      },
      "source": [
        "mat[1:3]"
      ],
      "execution_count": 178,
      "outputs": [
        {
          "output_type": "execute_result",
          "data": {
            "text/plain": [
              "array([[ 5,  6,  7,  8],\n",
              "       [ 9, 10, 11, 12]])"
            ]
          },
          "metadata": {
            "tags": []
          },
          "execution_count": 178
        }
      ]
    },
    {
      "cell_type": "markdown",
      "metadata": {
        "id": "L2fXmG7SH1us"
      },
      "source": [
        "10. Output should be ``10``"
      ]
    },
    {
      "cell_type": "code",
      "metadata": {
        "id": "qpKlznM8HvbY",
        "outputId": "9eed023e-a007-4d7c-eea1-356b77dbd703",
        "colab": {
          "base_uri": "https://localhost:8080/"
        }
      },
      "source": [
        "print(mat[2,1])"
      ],
      "execution_count": 152,
      "outputs": [
        {
          "output_type": "stream",
          "text": [
            "10\n"
          ],
          "name": "stdout"
        }
      ]
    },
    {
      "cell_type": "markdown",
      "metadata": {
        "id": "FLUVkxkGH8Oz"
      },
      "source": [
        "11. Output should be ``array([[3], [7], [11]])``\n",
        "\n",
        "Note that the output is not ``array([3, 7, 11])``: make ``3``,``7``,``11`` in separate bracket, i.e., output shape should be ``(3,1)``, not ``(3,)``."
      ]
    },
    {
      "cell_type": "code",
      "metadata": {
        "id": "9nqhbI--H7ep",
        "outputId": "2a10bf2e-87f0-4f75-f404-253826e3b044",
        "colab": {
          "base_uri": "https://localhost:8080/"
        }
      },
      "source": [
        "print(mat[:3,2:3])"
      ],
      "execution_count": 181,
      "outputs": [
        {
          "output_type": "stream",
          "text": [
            "[[ 3]\n",
            " [ 7]\n",
            " [11]]\n"
          ],
          "name": "stdout"
        }
      ]
    },
    {
      "cell_type": "markdown",
      "metadata": {
        "id": "5vGMgFK8itVp"
      },
      "source": [
        ""
      ]
    },
    {
      "cell_type": "markdown",
      "metadata": {
        "id": "0dsR4W6hI0zy"
      },
      "source": [
        "12. Output should be ``array([[6,7],[14,15]])``"
      ]
    },
    {
      "cell_type": "code",
      "metadata": {
        "id": "EBF20pO8Ifwo",
        "outputId": "e9a7e001-141b-4419-ef4b-71af908b88e7",
        "colab": {
          "base_uri": "https://localhost:8080/"
        }
      },
      "source": [
        "print(mat[1::2,1:3])"
      ],
      "execution_count": 159,
      "outputs": [
        {
          "output_type": "stream",
          "text": [
            "[[ 6  7]\n",
            " [14 15]]\n"
          ],
          "name": "stdout"
        }
      ]
    },
    {
      "cell_type": "markdown",
      "metadata": {
        "id": "6f5sOi1ZJ4Ai"
      },
      "source": [
        "With new matrix:"
      ]
    },
    {
      "cell_type": "code",
      "metadata": {
        "id": "Q6ZYd0cZJ7OO",
        "outputId": "4c559b5a-3d57-48fd-cc45-a719d80bce58",
        "colab": {
          "base_uri": "https://localhost:8080/"
        }
      },
      "source": [
        "rand_mat = np.array([[4, 19, 48, 4], [43, 13, 39, 36], [23, 6, 24, 44]])\n",
        "rand_mat"
      ],
      "execution_count": 155,
      "outputs": [
        {
          "output_type": "execute_result",
          "data": {
            "text/plain": [
              "array([[ 4, 19, 48,  4],\n",
              "       [43, 13, 39, 36],\n",
              "       [23,  6, 24, 44]])"
            ]
          },
          "metadata": {
            "tags": []
          },
          "execution_count": 155
        }
      ]
    },
    {
      "cell_type": "markdown",
      "metadata": {
        "id": "TwIjqXlLJHyx"
      },
      "source": [
        "13. Compute the sum of all values in rand_mat"
      ]
    },
    {
      "cell_type": "code",
      "metadata": {
        "id": "9aYj4fR6JLjJ",
        "outputId": "2d042eec-7062-4189-bb47-ecc62dfb9956",
        "colab": {
          "base_uri": "https://localhost:8080/"
        }
      },
      "source": [
        "rand_mat.sum()"
      ],
      "execution_count": 162,
      "outputs": [
        {
          "output_type": "execute_result",
          "data": {
            "text/plain": [
              "303"
            ]
          },
          "metadata": {
            "tags": []
          },
          "execution_count": 162
        }
      ]
    },
    {
      "cell_type": "markdown",
      "metadata": {
        "id": "ZEJDEUtsJL_p"
      },
      "source": [
        "14. Compute the standard deviation of the values in rand_mat"
      ]
    },
    {
      "cell_type": "code",
      "metadata": {
        "id": "q_obMVHiJP-Y",
        "outputId": "c479f9c6-7131-4145-c1b8-9521098fc44c",
        "colab": {
          "base_uri": "https://localhost:8080/"
        }
      },
      "source": [
        "np.std(rand_mat)"
      ],
      "execution_count": 182,
      "outputs": [
        {
          "output_type": "execute_result",
          "data": {
            "text/plain": [
              "15.700981922584758"
            ]
          },
          "metadata": {
            "tags": []
          },
          "execution_count": 182
        }
      ]
    },
    {
      "cell_type": "markdown",
      "metadata": {
        "id": "xOLql5QoJQSt"
      },
      "source": [
        "15. Get the mean of all the columns in rand_mat"
      ]
    },
    {
      "cell_type": "code",
      "metadata": {
        "id": "E5q2zm_3JEXK",
        "outputId": "759e5caa-4417-4a98-ae1e-13644f033c9f",
        "colab": {
          "base_uri": "https://localhost:8080/"
        }
      },
      "source": [
        "np.mean(rand_mat,axis=0)"
      ],
      "execution_count": 184,
      "outputs": [
        {
          "output_type": "execute_result",
          "data": {
            "text/plain": [
              "array([23.33333333, 12.66666667, 37.        , 28.        ])"
            ]
          },
          "metadata": {
            "tags": []
          },
          "execution_count": 184
        }
      ]
    },
    {
      "cell_type": "markdown",
      "metadata": {
        "id": "OLwdTxBSJt9d"
      },
      "source": [
        "16. Get the max and its index of all the columns in rand_mat"
      ]
    },
    {
      "cell_type": "code",
      "metadata": {
        "id": "paaOPYicJi-0",
        "outputId": "d27eacba-9e9e-4a2d-996e-01246b953a19",
        "colab": {
          "base_uri": "https://localhost:8080/"
        }
      },
      "source": [
        "# max\n",
        "rand_mat.max(axis=0)"
      ],
      "execution_count": 186,
      "outputs": [
        {
          "output_type": "execute_result",
          "data": {
            "text/plain": [
              "array([43, 19, 48, 44])"
            ]
          },
          "metadata": {
            "tags": []
          },
          "execution_count": 186
        }
      ]
    },
    {
      "cell_type": "code",
      "metadata": {
        "id": "zcFJ8_O7JnsJ",
        "outputId": "cca90336-ebd7-40b1-d67b-b01c95d86879",
        "colab": {
          "base_uri": "https://localhost:8080/"
        }
      },
      "source": [
        "# argmax\n",
        "rand_mat.argmax(axis=0)"
      ],
      "execution_count": 166,
      "outputs": [
        {
          "output_type": "execute_result",
          "data": {
            "text/plain": [
              "array([1, 0, 0, 2])"
            ]
          },
          "metadata": {
            "tags": []
          },
          "execution_count": 166
        }
      ]
    },
    {
      "cell_type": "code",
      "metadata": {
        "id": "3o7gsbx6nT9a"
      },
      "source": [
        ""
      ],
      "execution_count": null,
      "outputs": []
    }
  ]
}
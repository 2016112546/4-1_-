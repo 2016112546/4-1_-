{
  "nbformat": 4,
  "nbformat_minor": 0,
  "metadata": {
    "colab": {
      "name": "DSC4001_Exercise_07.ipynb",
      "provenance": [],
      "collapsed_sections": [],
      "toc_visible": true
    },
    "kernelspec": {
      "name": "python3",
      "display_name": "Python 3"
    },
    "language_info": {
      "name": "python"
    }
  },
  "cells": [
    {
      "cell_type": "markdown",
      "metadata": {
        "id": "yxwSfZ7boFbw"
      },
      "source": [
        "# DSC4001-01 Exercise 07\n",
        "\n",
        "**This exercise notebook will go through the Web Crawling**\n",
        "\n",
        "* URL\n",
        "* urllib.request\n",
        "* BeautifulSoup\n",
        "\n",
        "The [urllib.request](https://docs.python.org/3/library/urllib.request.html) module defines functions and classes which help in opening URLs (mostly HTTP). \n",
        "\n",
        "[Beautiful Soup](https://www.crummy.com/software/BeautifulSoup/bs4/doc/) is a Python library for pulling data out of HTML file, It works with your favorite parser to provide idiomatic ways of navigating, searching, and modifying the parse tree. "
      ]
    },
    {
      "cell_type": "code",
      "metadata": {
        "id": "PZHQ7fgi71sc"
      },
      "source": [
        "import numpy as np\n",
        "import pandas as pd\n",
        "\n",
        "import requests\n",
        "import urllib.request as ur\n",
        "from bs4 import BeautifulSoup as bs"
      ],
      "execution_count": 1,
      "outputs": []
    },
    {
      "cell_type": "markdown",
      "metadata": {
        "id": "QJJnAujYGFE0"
      },
      "source": [
        "## Collect Quotes from the Website\n",
        "\n",
        "We will implement a program that collects *quotes* from the website http://quotes.toscrape.com/."
      ]
    },
    {
      "cell_type": "markdown",
      "metadata": {
        "id": "vKpJFRISEdSu"
      },
      "source": [
        "### Open URL\n",
        "\n",
        "URL (Uniform Resource Locator) is a reference to a web resource that specifies its location on a computer network. Let's open URLs and see what is inside there. \n",
        "\n",
        "* **ur.urlopen()**: open the URL and return a ``HTTPResponse`` object. \n",
        "\n",
        "* As like file operations, use ``read()``, ``readlines()``, ``readline()`` to read contesnt of the HTTPResponse object."
      ]
    },
    {
      "cell_type": "code",
      "metadata": {
        "id": "Au7ejFM0srn2"
      },
      "source": [
        "url_quote = 'http://quotes.toscrape.com/'\n",
        "html_quote = ur.urlopen(url_quote)"
      ],
      "execution_count": 3,
      "outputs": []
    },
    {
      "cell_type": "code",
      "metadata": {
        "colab": {
          "base_uri": "https://localhost:8080/"
        },
        "id": "c2iL7IbJEcko",
        "outputId": "80accfeb-ef7b-4b01-f71f-61ad9fc40f19"
      },
      "source": [
        "type(html_quote)"
      ],
      "execution_count": 4,
      "outputs": [
        {
          "output_type": "execute_result",
          "data": {
            "text/plain": [
              "http.client.HTTPResponse"
            ]
          },
          "metadata": {
            "tags": []
          },
          "execution_count": 4
        }
      ]
    },
    {
      "cell_type": "code",
      "metadata": {
        "colab": {
          "base_uri": "https://localhost:8080/"
        },
        "id": "nlaJVop3EceS",
        "outputId": "38c95f88-deeb-4019-bdda-657220b3282a"
      },
      "source": [
        "html_quote.read()[:50]"
      ],
      "execution_count": 6,
      "outputs": [
        {
          "output_type": "execute_result",
          "data": {
            "text/plain": [
              "b''"
            ]
          },
          "metadata": {
            "tags": []
          },
          "execution_count": 6
        }
      ]
    },
    {
      "cell_type": "markdown",
      "metadata": {
        "id": "cEA73TTOHR0W"
      },
      "source": [
        "### BeautifulSoup\n",
        "\n",
        "To parse a document, we can pass it into the BeautifulSoup constructor with a proper parser, e.g., `` 'html.parser' `` in this case. \n",
        "\n",
        "* **``bs(html_doc, 'html.parser')``** BeautofulSoup transforms a complex HTML document into a nested data structure. \n",
        "\n",
        "\n",
        "* HTML tag: you can find HTML tag information here: https://www.w3schools.com/tags/default.asp "
      ]
    },
    {
      "cell_type": "code",
      "metadata": {
        "id": "-SRkYd4mG2Pf"
      },
      "source": [
        "html_quote = ur.urlopen(url_quote)\n",
        "\n",
        "soup_quote = bs(html_quote.read(), 'html.parser')"
      ],
      "execution_count": 7,
      "outputs": []
    },
    {
      "cell_type": "code",
      "metadata": {
        "colab": {
          "base_uri": "https://localhost:8080/"
        },
        "id": "p7ZxzqByG2TX",
        "outputId": "a2aa938d-86a3-4ab9-8628-595de6eb154d"
      },
      "source": [
        "print(type(soup_quote))\n",
        "print(soup_quote)"
      ],
      "execution_count": 9,
      "outputs": [
        {
          "output_type": "stream",
          "text": [
            "<class 'bs4.BeautifulSoup'>\n",
            "<!DOCTYPE html>\n",
            "\n",
            "<html lang=\"en\">\n",
            "<head>\n",
            "<meta charset=\"utf-8\"/>\n",
            "<title>Quotes to Scrape</title>\n",
            "<link href=\"/static/bootstrap.min.css\" rel=\"stylesheet\"/>\n",
            "<link href=\"/static/main.css\" rel=\"stylesheet\"/>\n",
            "</head>\n",
            "<body>\n",
            "<div class=\"container\">\n",
            "<div class=\"row header-box\">\n",
            "<div class=\"col-md-8\">\n",
            "<h1>\n",
            "<a href=\"/\" style=\"text-decoration: none\">Quotes to Scrape</a>\n",
            "</h1>\n",
            "</div>\n",
            "<div class=\"col-md-4\">\n",
            "<p>\n",
            "<a href=\"/login\">Login</a>\n",
            "</p>\n",
            "</div>\n",
            "</div>\n",
            "<div class=\"row\">\n",
            "<div class=\"col-md-8\">\n",
            "<div class=\"quote\" itemscope=\"\" itemtype=\"http://schema.org/CreativeWork\">\n",
            "<span class=\"text\" itemprop=\"text\">“The world as we have created it is a process of our thinking. It cannot be changed without changing our thinking.”</span>\n",
            "<span>by <small class=\"author\" itemprop=\"author\">Albert Einstein</small>\n",
            "<a href=\"/author/Albert-Einstein\">(about)</a>\n",
            "</span>\n",
            "<div class=\"tags\">\n",
            "            Tags:\n",
            "            <meta class=\"keywords\" content=\"change,deep-thoughts,thinking,world\" itemprop=\"keywords\"/>\n",
            "<a class=\"tag\" href=\"/tag/change/page/1/\">change</a>\n",
            "<a class=\"tag\" href=\"/tag/deep-thoughts/page/1/\">deep-thoughts</a>\n",
            "<a class=\"tag\" href=\"/tag/thinking/page/1/\">thinking</a>\n",
            "<a class=\"tag\" href=\"/tag/world/page/1/\">world</a>\n",
            "</div>\n",
            "</div>\n",
            "<div class=\"quote\" itemscope=\"\" itemtype=\"http://schema.org/CreativeWork\">\n",
            "<span class=\"text\" itemprop=\"text\">“It is our choices, Harry, that show what we truly are, far more than our abilities.”</span>\n",
            "<span>by <small class=\"author\" itemprop=\"author\">J.K. Rowling</small>\n",
            "<a href=\"/author/J-K-Rowling\">(about)</a>\n",
            "</span>\n",
            "<div class=\"tags\">\n",
            "            Tags:\n",
            "            <meta class=\"keywords\" content=\"abilities,choices\" itemprop=\"keywords\"/>\n",
            "<a class=\"tag\" href=\"/tag/abilities/page/1/\">abilities</a>\n",
            "<a class=\"tag\" href=\"/tag/choices/page/1/\">choices</a>\n",
            "</div>\n",
            "</div>\n",
            "<div class=\"quote\" itemscope=\"\" itemtype=\"http://schema.org/CreativeWork\">\n",
            "<span class=\"text\" itemprop=\"text\">“There are only two ways to live your life. One is as though nothing is a miracle. The other is as though everything is a miracle.”</span>\n",
            "<span>by <small class=\"author\" itemprop=\"author\">Albert Einstein</small>\n",
            "<a href=\"/author/Albert-Einstein\">(about)</a>\n",
            "</span>\n",
            "<div class=\"tags\">\n",
            "            Tags:\n",
            "            <meta class=\"keywords\" content=\"inspirational,life,live,miracle,miracles\" itemprop=\"keywords\"/>\n",
            "<a class=\"tag\" href=\"/tag/inspirational/page/1/\">inspirational</a>\n",
            "<a class=\"tag\" href=\"/tag/life/page/1/\">life</a>\n",
            "<a class=\"tag\" href=\"/tag/live/page/1/\">live</a>\n",
            "<a class=\"tag\" href=\"/tag/miracle/page/1/\">miracle</a>\n",
            "<a class=\"tag\" href=\"/tag/miracles/page/1/\">miracles</a>\n",
            "</div>\n",
            "</div>\n",
            "<div class=\"quote\" itemscope=\"\" itemtype=\"http://schema.org/CreativeWork\">\n",
            "<span class=\"text\" itemprop=\"text\">“The person, be it gentleman or lady, who has not pleasure in a good novel, must be intolerably stupid.”</span>\n",
            "<span>by <small class=\"author\" itemprop=\"author\">Jane Austen</small>\n",
            "<a href=\"/author/Jane-Austen\">(about)</a>\n",
            "</span>\n",
            "<div class=\"tags\">\n",
            "            Tags:\n",
            "            <meta class=\"keywords\" content=\"aliteracy,books,classic,humor\" itemprop=\"keywords\"/>\n",
            "<a class=\"tag\" href=\"/tag/aliteracy/page/1/\">aliteracy</a>\n",
            "<a class=\"tag\" href=\"/tag/books/page/1/\">books</a>\n",
            "<a class=\"tag\" href=\"/tag/classic/page/1/\">classic</a>\n",
            "<a class=\"tag\" href=\"/tag/humor/page/1/\">humor</a>\n",
            "</div>\n",
            "</div>\n",
            "<div class=\"quote\" itemscope=\"\" itemtype=\"http://schema.org/CreativeWork\">\n",
            "<span class=\"text\" itemprop=\"text\">“Imperfection is beauty, madness is genius and it's better to be absolutely ridiculous than absolutely boring.”</span>\n",
            "<span>by <small class=\"author\" itemprop=\"author\">Marilyn Monroe</small>\n",
            "<a href=\"/author/Marilyn-Monroe\">(about)</a>\n",
            "</span>\n",
            "<div class=\"tags\">\n",
            "            Tags:\n",
            "            <meta class=\"keywords\" content=\"be-yourself,inspirational\" itemprop=\"keywords\"/>\n",
            "<a class=\"tag\" href=\"/tag/be-yourself/page/1/\">be-yourself</a>\n",
            "<a class=\"tag\" href=\"/tag/inspirational/page/1/\">inspirational</a>\n",
            "</div>\n",
            "</div>\n",
            "<div class=\"quote\" itemscope=\"\" itemtype=\"http://schema.org/CreativeWork\">\n",
            "<span class=\"text\" itemprop=\"text\">“Try not to become a man of success. Rather become a man of value.”</span>\n",
            "<span>by <small class=\"author\" itemprop=\"author\">Albert Einstein</small>\n",
            "<a href=\"/author/Albert-Einstein\">(about)</a>\n",
            "</span>\n",
            "<div class=\"tags\">\n",
            "            Tags:\n",
            "            <meta class=\"keywords\" content=\"adulthood,success,value\" itemprop=\"keywords\"/>\n",
            "<a class=\"tag\" href=\"/tag/adulthood/page/1/\">adulthood</a>\n",
            "<a class=\"tag\" href=\"/tag/success/page/1/\">success</a>\n",
            "<a class=\"tag\" href=\"/tag/value/page/1/\">value</a>\n",
            "</div>\n",
            "</div>\n",
            "<div class=\"quote\" itemscope=\"\" itemtype=\"http://schema.org/CreativeWork\">\n",
            "<span class=\"text\" itemprop=\"text\">“It is better to be hated for what you are than to be loved for what you are not.”</span>\n",
            "<span>by <small class=\"author\" itemprop=\"author\">André Gide</small>\n",
            "<a href=\"/author/Andre-Gide\">(about)</a>\n",
            "</span>\n",
            "<div class=\"tags\">\n",
            "            Tags:\n",
            "            <meta class=\"keywords\" content=\"life,love\" itemprop=\"keywords\"/>\n",
            "<a class=\"tag\" href=\"/tag/life/page/1/\">life</a>\n",
            "<a class=\"tag\" href=\"/tag/love/page/1/\">love</a>\n",
            "</div>\n",
            "</div>\n",
            "<div class=\"quote\" itemscope=\"\" itemtype=\"http://schema.org/CreativeWork\">\n",
            "<span class=\"text\" itemprop=\"text\">“I have not failed. I've just found 10,000 ways that won't work.”</span>\n",
            "<span>by <small class=\"author\" itemprop=\"author\">Thomas A. Edison</small>\n",
            "<a href=\"/author/Thomas-A-Edison\">(about)</a>\n",
            "</span>\n",
            "<div class=\"tags\">\n",
            "            Tags:\n",
            "            <meta class=\"keywords\" content=\"edison,failure,inspirational,paraphrased\" itemprop=\"keywords\"/>\n",
            "<a class=\"tag\" href=\"/tag/edison/page/1/\">edison</a>\n",
            "<a class=\"tag\" href=\"/tag/failure/page/1/\">failure</a>\n",
            "<a class=\"tag\" href=\"/tag/inspirational/page/1/\">inspirational</a>\n",
            "<a class=\"tag\" href=\"/tag/paraphrased/page/1/\">paraphrased</a>\n",
            "</div>\n",
            "</div>\n",
            "<div class=\"quote\" itemscope=\"\" itemtype=\"http://schema.org/CreativeWork\">\n",
            "<span class=\"text\" itemprop=\"text\">“A woman is like a tea bag; you never know how strong it is until it's in hot water.”</span>\n",
            "<span>by <small class=\"author\" itemprop=\"author\">Eleanor Roosevelt</small>\n",
            "<a href=\"/author/Eleanor-Roosevelt\">(about)</a>\n",
            "</span>\n",
            "<div class=\"tags\">\n",
            "            Tags:\n",
            "            <meta class=\"keywords\" content=\"misattributed-eleanor-roosevelt\" itemprop=\"keywords\"/>\n",
            "<a class=\"tag\" href=\"/tag/misattributed-eleanor-roosevelt/page/1/\">misattributed-eleanor-roosevelt</a>\n",
            "</div>\n",
            "</div>\n",
            "<div class=\"quote\" itemscope=\"\" itemtype=\"http://schema.org/CreativeWork\">\n",
            "<span class=\"text\" itemprop=\"text\">“A day without sunshine is like, you know, night.”</span>\n",
            "<span>by <small class=\"author\" itemprop=\"author\">Steve Martin</small>\n",
            "<a href=\"/author/Steve-Martin\">(about)</a>\n",
            "</span>\n",
            "<div class=\"tags\">\n",
            "            Tags:\n",
            "            <meta class=\"keywords\" content=\"humor,obvious,simile\" itemprop=\"keywords\"/>\n",
            "<a class=\"tag\" href=\"/tag/humor/page/1/\">humor</a>\n",
            "<a class=\"tag\" href=\"/tag/obvious/page/1/\">obvious</a>\n",
            "<a class=\"tag\" href=\"/tag/simile/page/1/\">simile</a>\n",
            "</div>\n",
            "</div>\n",
            "<nav>\n",
            "<ul class=\"pager\">\n",
            "<li class=\"next\">\n",
            "<a href=\"/page/2/\">Next <span aria-hidden=\"true\">→</span></a>\n",
            "</li>\n",
            "</ul>\n",
            "</nav>\n",
            "</div>\n",
            "<div class=\"col-md-4 tags-box\">\n",
            "<h2>Top Ten tags</h2>\n",
            "<span class=\"tag-item\">\n",
            "<a class=\"tag\" href=\"/tag/love/\" style=\"font-size: 28px\">love</a>\n",
            "</span>\n",
            "<span class=\"tag-item\">\n",
            "<a class=\"tag\" href=\"/tag/inspirational/\" style=\"font-size: 26px\">inspirational</a>\n",
            "</span>\n",
            "<span class=\"tag-item\">\n",
            "<a class=\"tag\" href=\"/tag/life/\" style=\"font-size: 26px\">life</a>\n",
            "</span>\n",
            "<span class=\"tag-item\">\n",
            "<a class=\"tag\" href=\"/tag/humor/\" style=\"font-size: 24px\">humor</a>\n",
            "</span>\n",
            "<span class=\"tag-item\">\n",
            "<a class=\"tag\" href=\"/tag/books/\" style=\"font-size: 22px\">books</a>\n",
            "</span>\n",
            "<span class=\"tag-item\">\n",
            "<a class=\"tag\" href=\"/tag/reading/\" style=\"font-size: 14px\">reading</a>\n",
            "</span>\n",
            "<span class=\"tag-item\">\n",
            "<a class=\"tag\" href=\"/tag/friendship/\" style=\"font-size: 10px\">friendship</a>\n",
            "</span>\n",
            "<span class=\"tag-item\">\n",
            "<a class=\"tag\" href=\"/tag/friends/\" style=\"font-size: 8px\">friends</a>\n",
            "</span>\n",
            "<span class=\"tag-item\">\n",
            "<a class=\"tag\" href=\"/tag/truth/\" style=\"font-size: 8px\">truth</a>\n",
            "</span>\n",
            "<span class=\"tag-item\">\n",
            "<a class=\"tag\" href=\"/tag/simile/\" style=\"font-size: 6px\">simile</a>\n",
            "</span>\n",
            "</div>\n",
            "</div>\n",
            "</div>\n",
            "<footer class=\"footer\">\n",
            "<div class=\"container\">\n",
            "<p class=\"text-muted\">\n",
            "                Quotes by: <a href=\"https://www.goodreads.com/quotes\">GoodReads.com</a>\n",
            "</p>\n",
            "<p class=\"copyright\">\n",
            "                Made with <span class=\"sh-red\">❤</span> by <a href=\"https://scrapinghub.com\">Scrapinghub</a>\n",
            "</p>\n",
            "</div>\n",
            "</footer>\n",
            "</body>\n",
            "</html>\n"
          ],
          "name": "stdout"
        }
      ]
    },
    {
      "cell_type": "markdown",
      "metadata": {
        "id": "bkvtA7koNsMt"
      },
      "source": [
        "### Navigating the parse tree\n",
        "\n",
        "* ``soup.<tag_name>``: zoom in on a certain part of the parse tree"
      ]
    },
    {
      "cell_type": "code",
      "metadata": {
        "colab": {
          "base_uri": "https://localhost:8080/"
        },
        "id": "qYXTrU7_NlV4",
        "outputId": "af70d19c-c06c-495d-d01b-519abefa5140"
      },
      "source": [
        "print(soup_quote.title)"
      ],
      "execution_count": 10,
      "outputs": [
        {
          "output_type": "stream",
          "text": [
            "<title>Quotes to Scrape</title>\n"
          ],
          "name": "stdout"
        }
      ]
    },
    {
      "cell_type": "code",
      "metadata": {
        "colab": {
          "base_uri": "https://localhost:8080/"
        },
        "id": "4kmYG3M_NlRn",
        "outputId": "e2930f28-2a82-47e1-cbba-1c90d5544daf"
      },
      "source": [
        "print(soup_quote.title.string)"
      ],
      "execution_count": 11,
      "outputs": [
        {
          "output_type": "stream",
          "text": [
            "Quotes to Scrape\n"
          ],
          "name": "stdout"
        }
      ]
    },
    {
      "cell_type": "code",
      "metadata": {
        "colab": {
          "base_uri": "https://localhost:8080/"
        },
        "id": "lu4nv5XGOlsT",
        "outputId": "19224032-1a51-4022-e8d8-c9a170315da6"
      },
      "source": [
        "print(soup_quote.body.h1)"
      ],
      "execution_count": 12,
      "outputs": [
        {
          "output_type": "stream",
          "text": [
            "<h1>\n",
            "<a href=\"/\" style=\"text-decoration: none\">Quotes to Scrape</a>\n",
            "</h1>\n"
          ],
          "name": "stdout"
        }
      ]
    },
    {
      "cell_type": "code",
      "metadata": {
        "colab": {
          "base_uri": "https://localhost:8080/"
        },
        "id": "qvbxEcfmOrW4",
        "outputId": "d2eae133-4f72-4d1a-9154-df236b0a42f6"
      },
      "source": [
        "print(soup_quote.a)"
      ],
      "execution_count": null,
      "outputs": [
        {
          "output_type": "stream",
          "text": [
            "<a href=\"/\" style=\"text-decoration: none\">Quotes to Scrape</a>\n"
          ],
          "name": "stdout"
        }
      ]
    },
    {
      "cell_type": "markdown",
      "metadata": {
        "id": "NCaLINitOx6V"
      },
      "source": [
        "### Searching\n",
        "\n",
        "Beautiful Soup defines a lot of methods for searching the parse tree. Two most popular methods are ``find()`` and ``find_all()``. A string, regular expression or a list can be passed into the methods as a filter.\n",
        "\n",
        "* **find_all()**: looks through a tag's descendants and retrieves all descendants that match the filter as a list\n",
        "\n",
        "* **find()**: find the first element"
      ]
    },
    {
      "cell_type": "code",
      "metadata": {
        "colab": {
          "base_uri": "https://localhost:8080/"
        },
        "id": "fz921_qpOxFn",
        "outputId": "87c7b705-935c-42b7-9001-19b9c2980758"
      },
      "source": [
        "soup_quote.find_all('a')"
      ],
      "execution_count": 13,
      "outputs": [
        {
          "output_type": "execute_result",
          "data": {
            "text/plain": [
              "[<a href=\"/\" style=\"text-decoration: none\">Quotes to Scrape</a>,\n",
              " <a href=\"/login\">Login</a>,\n",
              " <a href=\"/author/Albert-Einstein\">(about)</a>,\n",
              " <a class=\"tag\" href=\"/tag/change/page/1/\">change</a>,\n",
              " <a class=\"tag\" href=\"/tag/deep-thoughts/page/1/\">deep-thoughts</a>,\n",
              " <a class=\"tag\" href=\"/tag/thinking/page/1/\">thinking</a>,\n",
              " <a class=\"tag\" href=\"/tag/world/page/1/\">world</a>,\n",
              " <a href=\"/author/J-K-Rowling\">(about)</a>,\n",
              " <a class=\"tag\" href=\"/tag/abilities/page/1/\">abilities</a>,\n",
              " <a class=\"tag\" href=\"/tag/choices/page/1/\">choices</a>,\n",
              " <a href=\"/author/Albert-Einstein\">(about)</a>,\n",
              " <a class=\"tag\" href=\"/tag/inspirational/page/1/\">inspirational</a>,\n",
              " <a class=\"tag\" href=\"/tag/life/page/1/\">life</a>,\n",
              " <a class=\"tag\" href=\"/tag/live/page/1/\">live</a>,\n",
              " <a class=\"tag\" href=\"/tag/miracle/page/1/\">miracle</a>,\n",
              " <a class=\"tag\" href=\"/tag/miracles/page/1/\">miracles</a>,\n",
              " <a href=\"/author/Jane-Austen\">(about)</a>,\n",
              " <a class=\"tag\" href=\"/tag/aliteracy/page/1/\">aliteracy</a>,\n",
              " <a class=\"tag\" href=\"/tag/books/page/1/\">books</a>,\n",
              " <a class=\"tag\" href=\"/tag/classic/page/1/\">classic</a>,\n",
              " <a class=\"tag\" href=\"/tag/humor/page/1/\">humor</a>,\n",
              " <a href=\"/author/Marilyn-Monroe\">(about)</a>,\n",
              " <a class=\"tag\" href=\"/tag/be-yourself/page/1/\">be-yourself</a>,\n",
              " <a class=\"tag\" href=\"/tag/inspirational/page/1/\">inspirational</a>,\n",
              " <a href=\"/author/Albert-Einstein\">(about)</a>,\n",
              " <a class=\"tag\" href=\"/tag/adulthood/page/1/\">adulthood</a>,\n",
              " <a class=\"tag\" href=\"/tag/success/page/1/\">success</a>,\n",
              " <a class=\"tag\" href=\"/tag/value/page/1/\">value</a>,\n",
              " <a href=\"/author/Andre-Gide\">(about)</a>,\n",
              " <a class=\"tag\" href=\"/tag/life/page/1/\">life</a>,\n",
              " <a class=\"tag\" href=\"/tag/love/page/1/\">love</a>,\n",
              " <a href=\"/author/Thomas-A-Edison\">(about)</a>,\n",
              " <a class=\"tag\" href=\"/tag/edison/page/1/\">edison</a>,\n",
              " <a class=\"tag\" href=\"/tag/failure/page/1/\">failure</a>,\n",
              " <a class=\"tag\" href=\"/tag/inspirational/page/1/\">inspirational</a>,\n",
              " <a class=\"tag\" href=\"/tag/paraphrased/page/1/\">paraphrased</a>,\n",
              " <a href=\"/author/Eleanor-Roosevelt\">(about)</a>,\n",
              " <a class=\"tag\" href=\"/tag/misattributed-eleanor-roosevelt/page/1/\">misattributed-eleanor-roosevelt</a>,\n",
              " <a href=\"/author/Steve-Martin\">(about)</a>,\n",
              " <a class=\"tag\" href=\"/tag/humor/page/1/\">humor</a>,\n",
              " <a class=\"tag\" href=\"/tag/obvious/page/1/\">obvious</a>,\n",
              " <a class=\"tag\" href=\"/tag/simile/page/1/\">simile</a>,\n",
              " <a href=\"/page/2/\">Next <span aria-hidden=\"true\">→</span></a>,\n",
              " <a class=\"tag\" href=\"/tag/love/\" style=\"font-size: 28px\">love</a>,\n",
              " <a class=\"tag\" href=\"/tag/inspirational/\" style=\"font-size: 26px\">inspirational</a>,\n",
              " <a class=\"tag\" href=\"/tag/life/\" style=\"font-size: 26px\">life</a>,\n",
              " <a class=\"tag\" href=\"/tag/humor/\" style=\"font-size: 24px\">humor</a>,\n",
              " <a class=\"tag\" href=\"/tag/books/\" style=\"font-size: 22px\">books</a>,\n",
              " <a class=\"tag\" href=\"/tag/reading/\" style=\"font-size: 14px\">reading</a>,\n",
              " <a class=\"tag\" href=\"/tag/friendship/\" style=\"font-size: 10px\">friendship</a>,\n",
              " <a class=\"tag\" href=\"/tag/friends/\" style=\"font-size: 8px\">friends</a>,\n",
              " <a class=\"tag\" href=\"/tag/truth/\" style=\"font-size: 8px\">truth</a>,\n",
              " <a class=\"tag\" href=\"/tag/simile/\" style=\"font-size: 6px\">simile</a>,\n",
              " <a href=\"https://www.goodreads.com/quotes\">GoodReads.com</a>,\n",
              " <a href=\"https://scrapinghub.com\">Scrapinghub</a>]"
            ]
          },
          "metadata": {
            "tags": []
          },
          "execution_count": 13
        }
      ]
    },
    {
      "cell_type": "code",
      "metadata": {
        "colab": {
          "base_uri": "https://localhost:8080/"
        },
        "id": "SaI3pqKtQknI",
        "outputId": "67cfd6a7-91b4-47c1-8350-bd0a2c0bee20"
      },
      "source": [
        "soup_quote.find_all('span')"
      ],
      "execution_count": 14,
      "outputs": [
        {
          "output_type": "execute_result",
          "data": {
            "text/plain": [
              "[<span class=\"text\" itemprop=\"text\">“The world as we have created it is a process of our thinking. It cannot be changed without changing our thinking.”</span>,\n",
              " <span>by <small class=\"author\" itemprop=\"author\">Albert Einstein</small>\n",
              " <a href=\"/author/Albert-Einstein\">(about)</a>\n",
              " </span>,\n",
              " <span class=\"text\" itemprop=\"text\">“It is our choices, Harry, that show what we truly are, far more than our abilities.”</span>,\n",
              " <span>by <small class=\"author\" itemprop=\"author\">J.K. Rowling</small>\n",
              " <a href=\"/author/J-K-Rowling\">(about)</a>\n",
              " </span>,\n",
              " <span class=\"text\" itemprop=\"text\">“There are only two ways to live your life. One is as though nothing is a miracle. The other is as though everything is a miracle.”</span>,\n",
              " <span>by <small class=\"author\" itemprop=\"author\">Albert Einstein</small>\n",
              " <a href=\"/author/Albert-Einstein\">(about)</a>\n",
              " </span>,\n",
              " <span class=\"text\" itemprop=\"text\">“The person, be it gentleman or lady, who has not pleasure in a good novel, must be intolerably stupid.”</span>,\n",
              " <span>by <small class=\"author\" itemprop=\"author\">Jane Austen</small>\n",
              " <a href=\"/author/Jane-Austen\">(about)</a>\n",
              " </span>,\n",
              " <span class=\"text\" itemprop=\"text\">“Imperfection is beauty, madness is genius and it's better to be absolutely ridiculous than absolutely boring.”</span>,\n",
              " <span>by <small class=\"author\" itemprop=\"author\">Marilyn Monroe</small>\n",
              " <a href=\"/author/Marilyn-Monroe\">(about)</a>\n",
              " </span>,\n",
              " <span class=\"text\" itemprop=\"text\">“Try not to become a man of success. Rather become a man of value.”</span>,\n",
              " <span>by <small class=\"author\" itemprop=\"author\">Albert Einstein</small>\n",
              " <a href=\"/author/Albert-Einstein\">(about)</a>\n",
              " </span>,\n",
              " <span class=\"text\" itemprop=\"text\">“It is better to be hated for what you are than to be loved for what you are not.”</span>,\n",
              " <span>by <small class=\"author\" itemprop=\"author\">André Gide</small>\n",
              " <a href=\"/author/Andre-Gide\">(about)</a>\n",
              " </span>,\n",
              " <span class=\"text\" itemprop=\"text\">“I have not failed. I've just found 10,000 ways that won't work.”</span>,\n",
              " <span>by <small class=\"author\" itemprop=\"author\">Thomas A. Edison</small>\n",
              " <a href=\"/author/Thomas-A-Edison\">(about)</a>\n",
              " </span>,\n",
              " <span class=\"text\" itemprop=\"text\">“A woman is like a tea bag; you never know how strong it is until it's in hot water.”</span>,\n",
              " <span>by <small class=\"author\" itemprop=\"author\">Eleanor Roosevelt</small>\n",
              " <a href=\"/author/Eleanor-Roosevelt\">(about)</a>\n",
              " </span>,\n",
              " <span class=\"text\" itemprop=\"text\">“A day without sunshine is like, you know, night.”</span>,\n",
              " <span>by <small class=\"author\" itemprop=\"author\">Steve Martin</small>\n",
              " <a href=\"/author/Steve-Martin\">(about)</a>\n",
              " </span>,\n",
              " <span aria-hidden=\"true\">→</span>,\n",
              " <span class=\"tag-item\">\n",
              " <a class=\"tag\" href=\"/tag/love/\" style=\"font-size: 28px\">love</a>\n",
              " </span>,\n",
              " <span class=\"tag-item\">\n",
              " <a class=\"tag\" href=\"/tag/inspirational/\" style=\"font-size: 26px\">inspirational</a>\n",
              " </span>,\n",
              " <span class=\"tag-item\">\n",
              " <a class=\"tag\" href=\"/tag/life/\" style=\"font-size: 26px\">life</a>\n",
              " </span>,\n",
              " <span class=\"tag-item\">\n",
              " <a class=\"tag\" href=\"/tag/humor/\" style=\"font-size: 24px\">humor</a>\n",
              " </span>,\n",
              " <span class=\"tag-item\">\n",
              " <a class=\"tag\" href=\"/tag/books/\" style=\"font-size: 22px\">books</a>\n",
              " </span>,\n",
              " <span class=\"tag-item\">\n",
              " <a class=\"tag\" href=\"/tag/reading/\" style=\"font-size: 14px\">reading</a>\n",
              " </span>,\n",
              " <span class=\"tag-item\">\n",
              " <a class=\"tag\" href=\"/tag/friendship/\" style=\"font-size: 10px\">friendship</a>\n",
              " </span>,\n",
              " <span class=\"tag-item\">\n",
              " <a class=\"tag\" href=\"/tag/friends/\" style=\"font-size: 8px\">friends</a>\n",
              " </span>,\n",
              " <span class=\"tag-item\">\n",
              " <a class=\"tag\" href=\"/tag/truth/\" style=\"font-size: 8px\">truth</a>\n",
              " </span>,\n",
              " <span class=\"tag-item\">\n",
              " <a class=\"tag\" href=\"/tag/simile/\" style=\"font-size: 6px\">simile</a>\n",
              " </span>,\n",
              " <span class=\"sh-red\">❤</span>]"
            ]
          },
          "metadata": {
            "tags": []
          },
          "execution_count": 14
        }
      ]
    },
    {
      "cell_type": "code",
      "metadata": {
        "colab": {
          "base_uri": "https://localhost:8080/"
        },
        "id": "tBjdq2UQQsKW",
        "outputId": "26247505-badc-4649-bbdf-9727f151aa9b"
      },
      "source": [
        "soup_quote.find_all(['title','a'])"
      ],
      "execution_count": 15,
      "outputs": [
        {
          "output_type": "execute_result",
          "data": {
            "text/plain": [
              "[<title>Quotes to Scrape</title>,\n",
              " <a href=\"/\" style=\"text-decoration: none\">Quotes to Scrape</a>,\n",
              " <a href=\"/login\">Login</a>,\n",
              " <a href=\"/author/Albert-Einstein\">(about)</a>,\n",
              " <a class=\"tag\" href=\"/tag/change/page/1/\">change</a>,\n",
              " <a class=\"tag\" href=\"/tag/deep-thoughts/page/1/\">deep-thoughts</a>,\n",
              " <a class=\"tag\" href=\"/tag/thinking/page/1/\">thinking</a>,\n",
              " <a class=\"tag\" href=\"/tag/world/page/1/\">world</a>,\n",
              " <a href=\"/author/J-K-Rowling\">(about)</a>,\n",
              " <a class=\"tag\" href=\"/tag/abilities/page/1/\">abilities</a>,\n",
              " <a class=\"tag\" href=\"/tag/choices/page/1/\">choices</a>,\n",
              " <a href=\"/author/Albert-Einstein\">(about)</a>,\n",
              " <a class=\"tag\" href=\"/tag/inspirational/page/1/\">inspirational</a>,\n",
              " <a class=\"tag\" href=\"/tag/life/page/1/\">life</a>,\n",
              " <a class=\"tag\" href=\"/tag/live/page/1/\">live</a>,\n",
              " <a class=\"tag\" href=\"/tag/miracle/page/1/\">miracle</a>,\n",
              " <a class=\"tag\" href=\"/tag/miracles/page/1/\">miracles</a>,\n",
              " <a href=\"/author/Jane-Austen\">(about)</a>,\n",
              " <a class=\"tag\" href=\"/tag/aliteracy/page/1/\">aliteracy</a>,\n",
              " <a class=\"tag\" href=\"/tag/books/page/1/\">books</a>,\n",
              " <a class=\"tag\" href=\"/tag/classic/page/1/\">classic</a>,\n",
              " <a class=\"tag\" href=\"/tag/humor/page/1/\">humor</a>,\n",
              " <a href=\"/author/Marilyn-Monroe\">(about)</a>,\n",
              " <a class=\"tag\" href=\"/tag/be-yourself/page/1/\">be-yourself</a>,\n",
              " <a class=\"tag\" href=\"/tag/inspirational/page/1/\">inspirational</a>,\n",
              " <a href=\"/author/Albert-Einstein\">(about)</a>,\n",
              " <a class=\"tag\" href=\"/tag/adulthood/page/1/\">adulthood</a>,\n",
              " <a class=\"tag\" href=\"/tag/success/page/1/\">success</a>,\n",
              " <a class=\"tag\" href=\"/tag/value/page/1/\">value</a>,\n",
              " <a href=\"/author/Andre-Gide\">(about)</a>,\n",
              " <a class=\"tag\" href=\"/tag/life/page/1/\">life</a>,\n",
              " <a class=\"tag\" href=\"/tag/love/page/1/\">love</a>,\n",
              " <a href=\"/author/Thomas-A-Edison\">(about)</a>,\n",
              " <a class=\"tag\" href=\"/tag/edison/page/1/\">edison</a>,\n",
              " <a class=\"tag\" href=\"/tag/failure/page/1/\">failure</a>,\n",
              " <a class=\"tag\" href=\"/tag/inspirational/page/1/\">inspirational</a>,\n",
              " <a class=\"tag\" href=\"/tag/paraphrased/page/1/\">paraphrased</a>,\n",
              " <a href=\"/author/Eleanor-Roosevelt\">(about)</a>,\n",
              " <a class=\"tag\" href=\"/tag/misattributed-eleanor-roosevelt/page/1/\">misattributed-eleanor-roosevelt</a>,\n",
              " <a href=\"/author/Steve-Martin\">(about)</a>,\n",
              " <a class=\"tag\" href=\"/tag/humor/page/1/\">humor</a>,\n",
              " <a class=\"tag\" href=\"/tag/obvious/page/1/\">obvious</a>,\n",
              " <a class=\"tag\" href=\"/tag/simile/page/1/\">simile</a>,\n",
              " <a href=\"/page/2/\">Next <span aria-hidden=\"true\">→</span></a>,\n",
              " <a class=\"tag\" href=\"/tag/love/\" style=\"font-size: 28px\">love</a>,\n",
              " <a class=\"tag\" href=\"/tag/inspirational/\" style=\"font-size: 26px\">inspirational</a>,\n",
              " <a class=\"tag\" href=\"/tag/life/\" style=\"font-size: 26px\">life</a>,\n",
              " <a class=\"tag\" href=\"/tag/humor/\" style=\"font-size: 24px\">humor</a>,\n",
              " <a class=\"tag\" href=\"/tag/books/\" style=\"font-size: 22px\">books</a>,\n",
              " <a class=\"tag\" href=\"/tag/reading/\" style=\"font-size: 14px\">reading</a>,\n",
              " <a class=\"tag\" href=\"/tag/friendship/\" style=\"font-size: 10px\">friendship</a>,\n",
              " <a class=\"tag\" href=\"/tag/friends/\" style=\"font-size: 8px\">friends</a>,\n",
              " <a class=\"tag\" href=\"/tag/truth/\" style=\"font-size: 8px\">truth</a>,\n",
              " <a class=\"tag\" href=\"/tag/simile/\" style=\"font-size: 6px\">simile</a>,\n",
              " <a href=\"https://www.goodreads.com/quotes\">GoodReads.com</a>,\n",
              " <a href=\"https://scrapinghub.com\">Scrapinghub</a>]"
            ]
          },
          "metadata": {
            "tags": []
          },
          "execution_count": 15
        }
      ]
    },
    {
      "cell_type": "code",
      "metadata": {
        "colab": {
          "base_uri": "https://localhost:8080/"
        },
        "id": "rDzvke9jQx7U",
        "outputId": "61089998-e246-4038-9674-01972cb96752"
      },
      "source": [
        "soup_quote.find_all('span')[0]"
      ],
      "execution_count": 18,
      "outputs": [
        {
          "output_type": "execute_result",
          "data": {
            "text/plain": [
              "<span class=\"text\" itemprop=\"text\">“The world as we have created it is a process of our thinking. It cannot be changed without changing our thinking.”</span>"
            ]
          },
          "metadata": {
            "tags": []
          },
          "execution_count": 18
        }
      ]
    },
    {
      "cell_type": "code",
      "metadata": {
        "colab": {
          "base_uri": "https://localhost:8080/"
        },
        "id": "kWHXlRAPOxBj",
        "outputId": "9d26f904-2e0f-4f19-dd0b-800ba3e2d29c"
      },
      "source": [
        "soup_quote.find('span')"
      ],
      "execution_count": 19,
      "outputs": [
        {
          "output_type": "execute_result",
          "data": {
            "text/plain": [
              "<span class=\"text\" itemprop=\"text\">“The world as we have created it is a process of our thinking. It cannot be changed without changing our thinking.”</span>"
            ]
          },
          "metadata": {
            "tags": []
          },
          "execution_count": 19
        }
      ]
    },
    {
      "cell_type": "code",
      "metadata": {
        "colab": {
          "base_uri": "https://localhost:8080/"
        },
        "id": "cRYqF_QBRCeT",
        "outputId": "5d7f3b61-bdab-4e85-c8c9-a1d419b1cb6c"
      },
      "source": [
        "soup_quote.find_all('div', {'class':'quote'})"
      ],
      "execution_count": 20,
      "outputs": [
        {
          "output_type": "execute_result",
          "data": {
            "text/plain": [
              "[<div class=\"quote\" itemscope=\"\" itemtype=\"http://schema.org/CreativeWork\">\n",
              " <span class=\"text\" itemprop=\"text\">“The world as we have created it is a process of our thinking. It cannot be changed without changing our thinking.”</span>\n",
              " <span>by <small class=\"author\" itemprop=\"author\">Albert Einstein</small>\n",
              " <a href=\"/author/Albert-Einstein\">(about)</a>\n",
              " </span>\n",
              " <div class=\"tags\">\n",
              "             Tags:\n",
              "             <meta class=\"keywords\" content=\"change,deep-thoughts,thinking,world\" itemprop=\"keywords\"/>\n",
              " <a class=\"tag\" href=\"/tag/change/page/1/\">change</a>\n",
              " <a class=\"tag\" href=\"/tag/deep-thoughts/page/1/\">deep-thoughts</a>\n",
              " <a class=\"tag\" href=\"/tag/thinking/page/1/\">thinking</a>\n",
              " <a class=\"tag\" href=\"/tag/world/page/1/\">world</a>\n",
              " </div>\n",
              " </div>,\n",
              " <div class=\"quote\" itemscope=\"\" itemtype=\"http://schema.org/CreativeWork\">\n",
              " <span class=\"text\" itemprop=\"text\">“It is our choices, Harry, that show what we truly are, far more than our abilities.”</span>\n",
              " <span>by <small class=\"author\" itemprop=\"author\">J.K. Rowling</small>\n",
              " <a href=\"/author/J-K-Rowling\">(about)</a>\n",
              " </span>\n",
              " <div class=\"tags\">\n",
              "             Tags:\n",
              "             <meta class=\"keywords\" content=\"abilities,choices\" itemprop=\"keywords\"/>\n",
              " <a class=\"tag\" href=\"/tag/abilities/page/1/\">abilities</a>\n",
              " <a class=\"tag\" href=\"/tag/choices/page/1/\">choices</a>\n",
              " </div>\n",
              " </div>,\n",
              " <div class=\"quote\" itemscope=\"\" itemtype=\"http://schema.org/CreativeWork\">\n",
              " <span class=\"text\" itemprop=\"text\">“There are only two ways to live your life. One is as though nothing is a miracle. The other is as though everything is a miracle.”</span>\n",
              " <span>by <small class=\"author\" itemprop=\"author\">Albert Einstein</small>\n",
              " <a href=\"/author/Albert-Einstein\">(about)</a>\n",
              " </span>\n",
              " <div class=\"tags\">\n",
              "             Tags:\n",
              "             <meta class=\"keywords\" content=\"inspirational,life,live,miracle,miracles\" itemprop=\"keywords\"/>\n",
              " <a class=\"tag\" href=\"/tag/inspirational/page/1/\">inspirational</a>\n",
              " <a class=\"tag\" href=\"/tag/life/page/1/\">life</a>\n",
              " <a class=\"tag\" href=\"/tag/live/page/1/\">live</a>\n",
              " <a class=\"tag\" href=\"/tag/miracle/page/1/\">miracle</a>\n",
              " <a class=\"tag\" href=\"/tag/miracles/page/1/\">miracles</a>\n",
              " </div>\n",
              " </div>,\n",
              " <div class=\"quote\" itemscope=\"\" itemtype=\"http://schema.org/CreativeWork\">\n",
              " <span class=\"text\" itemprop=\"text\">“The person, be it gentleman or lady, who has not pleasure in a good novel, must be intolerably stupid.”</span>\n",
              " <span>by <small class=\"author\" itemprop=\"author\">Jane Austen</small>\n",
              " <a href=\"/author/Jane-Austen\">(about)</a>\n",
              " </span>\n",
              " <div class=\"tags\">\n",
              "             Tags:\n",
              "             <meta class=\"keywords\" content=\"aliteracy,books,classic,humor\" itemprop=\"keywords\"/>\n",
              " <a class=\"tag\" href=\"/tag/aliteracy/page/1/\">aliteracy</a>\n",
              " <a class=\"tag\" href=\"/tag/books/page/1/\">books</a>\n",
              " <a class=\"tag\" href=\"/tag/classic/page/1/\">classic</a>\n",
              " <a class=\"tag\" href=\"/tag/humor/page/1/\">humor</a>\n",
              " </div>\n",
              " </div>,\n",
              " <div class=\"quote\" itemscope=\"\" itemtype=\"http://schema.org/CreativeWork\">\n",
              " <span class=\"text\" itemprop=\"text\">“Imperfection is beauty, madness is genius and it's better to be absolutely ridiculous than absolutely boring.”</span>\n",
              " <span>by <small class=\"author\" itemprop=\"author\">Marilyn Monroe</small>\n",
              " <a href=\"/author/Marilyn-Monroe\">(about)</a>\n",
              " </span>\n",
              " <div class=\"tags\">\n",
              "             Tags:\n",
              "             <meta class=\"keywords\" content=\"be-yourself,inspirational\" itemprop=\"keywords\"/>\n",
              " <a class=\"tag\" href=\"/tag/be-yourself/page/1/\">be-yourself</a>\n",
              " <a class=\"tag\" href=\"/tag/inspirational/page/1/\">inspirational</a>\n",
              " </div>\n",
              " </div>,\n",
              " <div class=\"quote\" itemscope=\"\" itemtype=\"http://schema.org/CreativeWork\">\n",
              " <span class=\"text\" itemprop=\"text\">“Try not to become a man of success. Rather become a man of value.”</span>\n",
              " <span>by <small class=\"author\" itemprop=\"author\">Albert Einstein</small>\n",
              " <a href=\"/author/Albert-Einstein\">(about)</a>\n",
              " </span>\n",
              " <div class=\"tags\">\n",
              "             Tags:\n",
              "             <meta class=\"keywords\" content=\"adulthood,success,value\" itemprop=\"keywords\"/>\n",
              " <a class=\"tag\" href=\"/tag/adulthood/page/1/\">adulthood</a>\n",
              " <a class=\"tag\" href=\"/tag/success/page/1/\">success</a>\n",
              " <a class=\"tag\" href=\"/tag/value/page/1/\">value</a>\n",
              " </div>\n",
              " </div>,\n",
              " <div class=\"quote\" itemscope=\"\" itemtype=\"http://schema.org/CreativeWork\">\n",
              " <span class=\"text\" itemprop=\"text\">“It is better to be hated for what you are than to be loved for what you are not.”</span>\n",
              " <span>by <small class=\"author\" itemprop=\"author\">André Gide</small>\n",
              " <a href=\"/author/Andre-Gide\">(about)</a>\n",
              " </span>\n",
              " <div class=\"tags\">\n",
              "             Tags:\n",
              "             <meta class=\"keywords\" content=\"life,love\" itemprop=\"keywords\"/>\n",
              " <a class=\"tag\" href=\"/tag/life/page/1/\">life</a>\n",
              " <a class=\"tag\" href=\"/tag/love/page/1/\">love</a>\n",
              " </div>\n",
              " </div>,\n",
              " <div class=\"quote\" itemscope=\"\" itemtype=\"http://schema.org/CreativeWork\">\n",
              " <span class=\"text\" itemprop=\"text\">“I have not failed. I've just found 10,000 ways that won't work.”</span>\n",
              " <span>by <small class=\"author\" itemprop=\"author\">Thomas A. Edison</small>\n",
              " <a href=\"/author/Thomas-A-Edison\">(about)</a>\n",
              " </span>\n",
              " <div class=\"tags\">\n",
              "             Tags:\n",
              "             <meta class=\"keywords\" content=\"edison,failure,inspirational,paraphrased\" itemprop=\"keywords\"/>\n",
              " <a class=\"tag\" href=\"/tag/edison/page/1/\">edison</a>\n",
              " <a class=\"tag\" href=\"/tag/failure/page/1/\">failure</a>\n",
              " <a class=\"tag\" href=\"/tag/inspirational/page/1/\">inspirational</a>\n",
              " <a class=\"tag\" href=\"/tag/paraphrased/page/1/\">paraphrased</a>\n",
              " </div>\n",
              " </div>,\n",
              " <div class=\"quote\" itemscope=\"\" itemtype=\"http://schema.org/CreativeWork\">\n",
              " <span class=\"text\" itemprop=\"text\">“A woman is like a tea bag; you never know how strong it is until it's in hot water.”</span>\n",
              " <span>by <small class=\"author\" itemprop=\"author\">Eleanor Roosevelt</small>\n",
              " <a href=\"/author/Eleanor-Roosevelt\">(about)</a>\n",
              " </span>\n",
              " <div class=\"tags\">\n",
              "             Tags:\n",
              "             <meta class=\"keywords\" content=\"misattributed-eleanor-roosevelt\" itemprop=\"keywords\"/>\n",
              " <a class=\"tag\" href=\"/tag/misattributed-eleanor-roosevelt/page/1/\">misattributed-eleanor-roosevelt</a>\n",
              " </div>\n",
              " </div>,\n",
              " <div class=\"quote\" itemscope=\"\" itemtype=\"http://schema.org/CreativeWork\">\n",
              " <span class=\"text\" itemprop=\"text\">“A day without sunshine is like, you know, night.”</span>\n",
              " <span>by <small class=\"author\" itemprop=\"author\">Steve Martin</small>\n",
              " <a href=\"/author/Steve-Martin\">(about)</a>\n",
              " </span>\n",
              " <div class=\"tags\">\n",
              "             Tags:\n",
              "             <meta class=\"keywords\" content=\"humor,obvious,simile\" itemprop=\"keywords\"/>\n",
              " <a class=\"tag\" href=\"/tag/humor/page/1/\">humor</a>\n",
              " <a class=\"tag\" href=\"/tag/obvious/page/1/\">obvious</a>\n",
              " <a class=\"tag\" href=\"/tag/simile/page/1/\">simile</a>\n",
              " </div>\n",
              " </div>]"
            ]
          },
          "metadata": {
            "tags": []
          },
          "execution_count": 20
        }
      ]
    },
    {
      "cell_type": "code",
      "metadata": {
        "colab": {
          "base_uri": "https://localhost:8080/"
        },
        "id": "IdjEWWM1Ow8f",
        "outputId": "78cb1583-2e9b-4f79-d4eb-b0832730bf17"
      },
      "source": [
        "soup_quote.find('div', {'class':'quote'})"
      ],
      "execution_count": 22,
      "outputs": [
        {
          "output_type": "execute_result",
          "data": {
            "text/plain": [
              "<div class=\"quote\" itemscope=\"\" itemtype=\"http://schema.org/CreativeWork\">\n",
              "<span class=\"text\" itemprop=\"text\">“The world as we have created it is a process of our thinking. It cannot be changed without changing our thinking.”</span>\n",
              "<span>by <small class=\"author\" itemprop=\"author\">Albert Einstein</small>\n",
              "<a href=\"/author/Albert-Einstein\">(about)</a>\n",
              "</span>\n",
              "<div class=\"tags\">\n",
              "            Tags:\n",
              "            <meta class=\"keywords\" content=\"change,deep-thoughts,thinking,world\" itemprop=\"keywords\"/>\n",
              "<a class=\"tag\" href=\"/tag/change/page/1/\">change</a>\n",
              "<a class=\"tag\" href=\"/tag/deep-thoughts/page/1/\">deep-thoughts</a>\n",
              "<a class=\"tag\" href=\"/tag/thinking/page/1/\">thinking</a>\n",
              "<a class=\"tag\" href=\"/tag/world/page/1/\">world</a>\n",
              "</div>\n",
              "</div>"
            ]
          },
          "metadata": {
            "tags": []
          },
          "execution_count": 22
        }
      ]
    },
    {
      "cell_type": "code",
      "metadata": {
        "colab": {
          "base_uri": "https://localhost:8080/"
        },
        "id": "K5KMxq9kRPGr",
        "outputId": "9cc6eee4-68b2-4f90-8931-bcbec2f03d45"
      },
      "source": [
        "soup_quote.find('div', {'class':'quote'}).find('span')"
      ],
      "execution_count": 23,
      "outputs": [
        {
          "output_type": "execute_result",
          "data": {
            "text/plain": [
              "<span class=\"text\" itemprop=\"text\">“The world as we have created it is a process of our thinking. It cannot be changed without changing our thinking.”</span>"
            ]
          },
          "metadata": {
            "tags": []
          },
          "execution_count": 23
        }
      ]
    },
    {
      "cell_type": "code",
      "metadata": {
        "colab": {
          "base_uri": "https://localhost:8080/"
        },
        "id": "Mi53LZW3jOeE",
        "outputId": "7c7e70cd-e74b-406f-a48f-b4f2770513ca"
      },
      "source": [
        "soup_quote.find('div', {'class':'quote'})"
      ],
      "execution_count": 24,
      "outputs": [
        {
          "output_type": "execute_result",
          "data": {
            "text/plain": [
              "<div class=\"quote\" itemscope=\"\" itemtype=\"http://schema.org/CreativeWork\">\n",
              "<span class=\"text\" itemprop=\"text\">“The world as we have created it is a process of our thinking. It cannot be changed without changing our thinking.”</span>\n",
              "<span>by <small class=\"author\" itemprop=\"author\">Albert Einstein</small>\n",
              "<a href=\"/author/Albert-Einstein\">(about)</a>\n",
              "</span>\n",
              "<div class=\"tags\">\n",
              "            Tags:\n",
              "            <meta class=\"keywords\" content=\"change,deep-thoughts,thinking,world\" itemprop=\"keywords\"/>\n",
              "<a class=\"tag\" href=\"/tag/change/page/1/\">change</a>\n",
              "<a class=\"tag\" href=\"/tag/deep-thoughts/page/1/\">deep-thoughts</a>\n",
              "<a class=\"tag\" href=\"/tag/thinking/page/1/\">thinking</a>\n",
              "<a class=\"tag\" href=\"/tag/world/page/1/\">world</a>\n",
              "</div>\n",
              "</div>"
            ]
          },
          "metadata": {
            "tags": []
          },
          "execution_count": 24
        }
      ]
    },
    {
      "cell_type": "markdown",
      "metadata": {
        "id": "nd4QIFuZRpvu"
      },
      "source": [
        "Attributes:\n",
        "\n",
        "A tag may have any number of attributes. The tag has ``<span class=\"text\">`` has an attribute``class`` whose value is ``\"text\"``. You can access a ta'gs attributes by treating the tag like a dictionary, or by using a ``get()`` function.\n",
        "\n",
        "* The text can be accessed by using ``get_text()`` or ``.text``.\n"
      ]
    },
    {
      "cell_type": "code",
      "metadata": {
        "colab": {
          "base_uri": "https://localhost:8080/",
          "height": 35
        },
        "id": "BF0gXk30RVE2",
        "outputId": "547e910f-63c4-43db-f950-51b2731d2eb4"
      },
      "source": [
        "soup_quote.find('div', {'class':'quote'}).find('span').text"
      ],
      "execution_count": 25,
      "outputs": [
        {
          "output_type": "execute_result",
          "data": {
            "application/vnd.google.colaboratory.intrinsic+json": {
              "type": "string"
            },
            "text/plain": [
              "'“The world as we have created it is a process of our thinking. It cannot be changed without changing our thinking.”'"
            ]
          },
          "metadata": {
            "tags": []
          },
          "execution_count": 25
        }
      ]
    },
    {
      "cell_type": "code",
      "metadata": {
        "colab": {
          "base_uri": "https://localhost:8080/"
        },
        "id": "MF9EaElCOtFT",
        "outputId": "22523b56-8006-4069-83dd-fd7c062e9533"
      },
      "source": [
        "soup_quote.find('div', {'class':'quote'}).find('span').get('class')"
      ],
      "execution_count": 26,
      "outputs": [
        {
          "output_type": "execute_result",
          "data": {
            "text/plain": [
              "['text']"
            ]
          },
          "metadata": {
            "tags": []
          },
          "execution_count": 26
        }
      ]
    },
    {
      "cell_type": "markdown",
      "metadata": {
        "id": "Ny2INV6gw5JU"
      },
      "source": [
        "### Collect Quotes and Authors"
      ]
    },
    {
      "cell_type": "markdown",
      "metadata": {
        "id": "9GO0DCQhSVM_"
      },
      "source": [
        "We can use ``for`` loop to find all quote texts:"
      ]
    },
    {
      "cell_type": "code",
      "metadata": {
        "colab": {
          "base_uri": "https://localhost:8080/"
        },
        "id": "Tu1k4hcySQ0W",
        "outputId": "3c9c1a4a-baec-4c72-cdf6-914ac40ca0da"
      },
      "source": [
        "for i in soup_quote.find_all('div', {'class':'quote'}):\n",
        "  quote = i.find('span').text\n",
        "  print(quote)"
      ],
      "execution_count": 27,
      "outputs": [
        {
          "output_type": "stream",
          "text": [
            "“The world as we have created it is a process of our thinking. It cannot be changed without changing our thinking.”\n",
            "“It is our choices, Harry, that show what we truly are, far more than our abilities.”\n",
            "“There are only two ways to live your life. One is as though nothing is a miracle. The other is as though everything is a miracle.”\n",
            "“The person, be it gentleman or lady, who has not pleasure in a good novel, must be intolerably stupid.”\n",
            "“Imperfection is beauty, madness is genius and it's better to be absolutely ridiculous than absolutely boring.”\n",
            "“Try not to become a man of success. Rather become a man of value.”\n",
            "“It is better to be hated for what you are than to be loved for what you are not.”\n",
            "“I have not failed. I've just found 10,000 ways that won't work.”\n",
            "“A woman is like a tea bag; you never know how strong it is until it's in hot water.”\n",
            "“A day without sunshine is like, you know, night.”\n"
          ],
          "name": "stdout"
        }
      ]
    },
    {
      "cell_type": "code",
      "metadata": {
        "colab": {
          "base_uri": "https://localhost:8080/",
          "height": 35
        },
        "id": "cz3fLt9ijUSg",
        "outputId": "0be234bd-3f0a-4039-db9c-854c4c6216ee"
      },
      "source": [
        "soup_quote.find('div', {'class':'quote'}).find('small', {'itemprop':'author'}).text"
      ],
      "execution_count": 28,
      "outputs": [
        {
          "output_type": "execute_result",
          "data": {
            "application/vnd.google.colaboratory.intrinsic+json": {
              "type": "string"
            },
            "text/plain": [
              "'Albert Einstein'"
            ]
          },
          "metadata": {
            "tags": []
          },
          "execution_count": 28
        }
      ]
    },
    {
      "cell_type": "code",
      "metadata": {
        "colab": {
          "base_uri": "https://localhost:8080/"
        },
        "id": "96erUfKpG2W5",
        "outputId": "62fd43e1-204e-4dcb-b38f-c6c135dbbbfa"
      },
      "source": [
        "for i in soup_quote.find_all('div', {'class':'quote'}):\n",
        "  quote = i.find('span').text\n",
        "  author = i.find('small', {'itemprop':'author'}).text\n",
        "  print(quote, 'by', author)"
      ],
      "execution_count": null,
      "outputs": [
        {
          "output_type": "stream",
          "text": [
            "“The world as we have created it is a process of our thinking. It cannot be changed without changing our thinking.” by Albert Einstein\n",
            "“It is our choices, Harry, that show what we truly are, far more than our abilities.” by J.K. Rowling\n",
            "“There are only two ways to live your life. One is as though nothing is a miracle. The other is as though everything is a miracle.” by Albert Einstein\n",
            "“The person, be it gentleman or lady, who has not pleasure in a good novel, must be intolerably stupid.” by Jane Austen\n",
            "“Imperfection is beauty, madness is genius and it's better to be absolutely ridiculous than absolutely boring.” by Marilyn Monroe\n",
            "“Try not to become a man of success. Rather become a man of value.” by Albert Einstein\n",
            "“It is better to be hated for what you are than to be loved for what you are not.” by André Gide\n",
            "“I have not failed. I've just found 10,000 ways that won't work.” by Thomas A. Edison\n",
            "“A woman is like a tea bag; you never know how strong it is until it's in hot water.” by Eleanor Roosevelt\n",
            "“A day without sunshine is like, you know, night.” by Steve Martin\n"
          ],
          "name": "stdout"
        }
      ]
    },
    {
      "cell_type": "markdown",
      "metadata": {
        "id": "YN9UoSEtkTrt"
      },
      "source": [
        "## Collect News Headlines and Hyperlink URLs\n",
        "\n",
        "\n",
        "We will implement a program that collects * news headlines* and *hperlink URLs* from the website https://news.daum.net/."
      ]
    },
    {
      "cell_type": "code",
      "metadata": {
        "id": "GxUKZ7ARh8yo"
      },
      "source": [
        "url_news = 'https://news.daum.net/'\n",
        "html_news = ur.urlopen(url_news)\n",
        "soup_news = bs(html_news.read(), 'html.parser')"
      ],
      "execution_count": 29,
      "outputs": []
    },
    {
      "cell_type": "markdown",
      "metadata": {
        "id": "Ua-ychBFlqab"
      },
      "source": [
        "### Headline of the News"
      ]
    },
    {
      "cell_type": "code",
      "metadata": {
        "colab": {
          "base_uri": "https://localhost:8080/"
        },
        "id": "hJTcZGgKh83B",
        "outputId": "629eb346-599f-4c65-d82c-6d1456e6f5b4"
      },
      "source": [
        "soup_news.find_all('div', {'class':'item_issue'})"
      ],
      "execution_count": 30,
      "outputs": [
        {
          "output_type": "execute_result",
          "data": {
            "text/plain": [
              "[<div class=\"item_issue\">\n",
              " <a class=\"link_thumb\" data-tiara-custom=\"contentUniqueKey=hamny-20210422005634942\" data-tiara-id=\"20210422005634942\" data-tiara-layer=\"article_thumb\" data-tiara-ordnum=\"1\" data-tiara-type=\"harmony\" href=\"https://news.v.daum.net/v/20210422005634942\">\n",
              " <img alt=\"53명 탑승한 1400톤급 인니 잠수함 실종..발리 해역 수색 중\" class=\"thumb_g\" src=\"https://img1.daumcdn.net/thumb/S254x156ht.u/?fname=https%3A%2F%2Ft1.daumcdn.net%2Fnews%2F202104%2F22%2FNEWS1%2F20210422005636405mvuh.jpg&amp;scode=media\"/>\n",
              " </a>\n",
              " <div class=\"cont_thumb\">\n",
              " <strong class=\"tit_thumb\">\n",
              " <a class=\"link_txt\" data-tiara-custom=\"contentUniqueKey=hamny-20210422005634942\" data-tiara-id=\"20210422005634942\" data-tiara-layer=\"article_main\" data-tiara-ordnum=\"1\" data-tiara-type=\"harmony\" href=\"https://news.v.daum.net/v/20210422005634942\">53명 탑승한 1400톤급 인니 잠수함 실종..발리 해역 수색 중</a>\n",
              " </strong>\n",
              " <span class=\"info_thumb\">뉴스1</span>\n",
              " </div>\n",
              " <p class=\"detail_thumb\"><!-- 발문만 노출될 경우 추가 -->\n",
              "                                 (서울=뉴스1) 김정한 기자 = 인도네시아 해군 병사 53명이 탑승한 독일제 잠수함이 실종돼 수색하고 있으며, 인근 호주와 싱가포르에 도움을 요청하고 있다고 인도네시아 당국이 밝혔다. 21일 로이터통신과 CNN 등에 따르면 인도네시아 국방부는 성명에서 독일제 잠수함인 KRI 낭갈라 402호가 인도양과 발리해로 연결되는 자바섬과 발리해협에서 훈련 중 연락\n",
              " \t\t\t\t\t\t    </p><!-- 2020-03-16 수정 -->\n",
              " </div>, <div class=\"item_issue\">\n",
              " <a class=\"link_thumb\" data-tiara-custom=\"contentUniqueKey=hamny-20210422000354446\" data-tiara-id=\"20210422000354446\" data-tiara-layer=\"article_thumb\" data-tiara-ordnum=\"1\" data-tiara-type=\"harmony\" href=\"https://news.v.daum.net/v/20210422000354446\">\n",
              " <img alt=\"문 대통령 \" class=\"thumb_g\" src=\"https://img1.daumcdn.net/thumb/S254x156ht.u/?fname=https%3A%2F%2Ft1.daumcdn.net%2Fnews%2F202104%2F22%2Fjoongang%2F20210422000355041opdw.jpg&amp;scode=media\" 대화하고=\"\" 바이든,=\"\" 북한과=\"\" 중국과=\"\" 협력을\"\"=\"\"/>\n",
              " </a>\n",
              " <div class=\"cont_thumb\">\n",
              " <strong class=\"tit_thumb\">\n",
              " <a class=\"link_txt\" data-tiara-custom=\"contentUniqueKey=hamny-20210422000354446\" data-tiara-id=\"20210422000354446\" data-tiara-layer=\"article_main\" data-tiara-ordnum=\"1\" data-tiara-type=\"harmony\" href=\"https://news.v.daum.net/v/20210422000354446\">문 대통령 \"바이든, 북한과 대화하고 중국과 협력을\"</a>\n",
              " </strong>\n",
              " <span class=\"info_thumb\">중앙일보</span>\n",
              " </div>\n",
              " </div>, <div class=\"item_issue\">\n",
              " <a class=\"link_thumb\" data-tiara-custom=\"contentUniqueKey=hamny-20210421220750194\" data-tiara-id=\"20210421220750194\" data-tiara-layer=\"article_thumb\" data-tiara-ordnum=\"1\" data-tiara-type=\"harmony\" href=\"https://news.v.daum.net/v/20210421220750194\">\n",
              " <img alt=\"박원순 장례식 책임자 문책 인사에..서울시의회 \" class=\"thumb_g\" src=\"https://img1.daumcdn.net/thumb/S254x156ht.u/?fname=https%3A%2F%2Ft1.daumcdn.net%2Fnews%2F202104%2F21%2Fnewsis%2F20210421220750999bqgg.jpg&amp;scode=media\" 유감\"=\"\" 표명\"=\"\"/>\n",
              " </a>\n",
              " <div class=\"cont_thumb\">\n",
              " <strong class=\"tit_thumb\">\n",
              " <a class=\"link_txt\" data-tiara-custom=\"contentUniqueKey=hamny-20210421220750194\" data-tiara-id=\"20210421220750194\" data-tiara-layer=\"article_main\" data-tiara-ordnum=\"1\" data-tiara-type=\"harmony\" href=\"https://news.v.daum.net/v/20210421220750194\">박원순 장례식 책임자 문책 인사에..서울시의회 \"유감\" 표명</a>\n",
              " </strong>\n",
              " <span class=\"info_thumb\">뉴시스</span>\n",
              " </div>\n",
              " </div>, <div class=\"item_issue\">\n",
              " <a class=\"link_thumb\" data-tiara-custom=\"contentUniqueKey=hamny-20210421212049255\" data-tiara-id=\"20210421212049255\" data-tiara-layer=\"article_thumb\" data-tiara-ordnum=\"1\" data-tiara-type=\"harmony\" href=\"https://news.v.daum.net/v/20210421212049255\">\n",
              " <img alt=\"압구정·여의도·목동·성수도 '토지거래허가구역'\" class=\"thumb_g\" src=\"https://img1.daumcdn.net/thumb/S254x156ht.u/?fname=https%3A%2F%2Ft1.daumcdn.net%2Fnews%2F202104%2F21%2Fkhan%2F20210421212050711ewhk.jpg&amp;scode=media\"/>\n",
              " </a>\n",
              " <div class=\"cont_thumb\">\n",
              " <strong class=\"tit_thumb\">\n",
              " <a class=\"link_txt\" data-tiara-custom=\"contentUniqueKey=hamny-20210421212049255\" data-tiara-id=\"20210421212049255\" data-tiara-layer=\"article_main\" data-tiara-ordnum=\"1\" data-tiara-type=\"harmony\" href=\"https://news.v.daum.net/v/20210421212049255\">압구정·여의도·목동·성수도 '토지거래허가구역'</a>\n",
              " </strong>\n",
              " <span class=\"info_thumb\">경향신문</span>\n",
              " </div>\n",
              " </div>]"
            ]
          },
          "metadata": {
            "tags": []
          },
          "execution_count": 30
        }
      ]
    },
    {
      "cell_type": "code",
      "metadata": {
        "colab": {
          "base_uri": "https://localhost:8080/"
        },
        "id": "9wtmaoKwh86C",
        "outputId": "fcbbf50e-82fe-4a02-e009-4d7392c081cd"
      },
      "source": [
        "soup_news.find('div', {'class':'item_issue'})"
      ],
      "execution_count": 31,
      "outputs": [
        {
          "output_type": "execute_result",
          "data": {
            "text/plain": [
              "<div class=\"item_issue\">\n",
              "<a class=\"link_thumb\" data-tiara-custom=\"contentUniqueKey=hamny-20210422005634942\" data-tiara-id=\"20210422005634942\" data-tiara-layer=\"article_thumb\" data-tiara-ordnum=\"1\" data-tiara-type=\"harmony\" href=\"https://news.v.daum.net/v/20210422005634942\">\n",
              "<img alt=\"53명 탑승한 1400톤급 인니 잠수함 실종..발리 해역 수색 중\" class=\"thumb_g\" src=\"https://img1.daumcdn.net/thumb/S254x156ht.u/?fname=https%3A%2F%2Ft1.daumcdn.net%2Fnews%2F202104%2F22%2FNEWS1%2F20210422005636405mvuh.jpg&amp;scode=media\"/>\n",
              "</a>\n",
              "<div class=\"cont_thumb\">\n",
              "<strong class=\"tit_thumb\">\n",
              "<a class=\"link_txt\" data-tiara-custom=\"contentUniqueKey=hamny-20210422005634942\" data-tiara-id=\"20210422005634942\" data-tiara-layer=\"article_main\" data-tiara-ordnum=\"1\" data-tiara-type=\"harmony\" href=\"https://news.v.daum.net/v/20210422005634942\">53명 탑승한 1400톤급 인니 잠수함 실종..발리 해역 수색 중</a>\n",
              "</strong>\n",
              "<span class=\"info_thumb\">뉴스1</span>\n",
              "</div>\n",
              "<p class=\"detail_thumb\"><!-- 발문만 노출될 경우 추가 -->\n",
              "                                (서울=뉴스1) 김정한 기자 = 인도네시아 해군 병사 53명이 탑승한 독일제 잠수함이 실종돼 수색하고 있으며, 인근 호주와 싱가포르에 도움을 요청하고 있다고 인도네시아 당국이 밝혔다. 21일 로이터통신과 CNN 등에 따르면 인도네시아 국방부는 성명에서 독일제 잠수함인 KRI 낭갈라 402호가 인도양과 발리해로 연결되는 자바섬과 발리해협에서 훈련 중 연락\n",
              "\t\t\t\t\t\t    </p><!-- 2020-03-16 수정 -->\n",
              "</div>"
            ]
          },
          "metadata": {
            "tags": []
          },
          "execution_count": 31
        }
      ]
    },
    {
      "cell_type": "code",
      "metadata": {
        "colab": {
          "base_uri": "https://localhost:8080/",
          "height": 35
        },
        "id": "r32ov0QNh88H",
        "outputId": "6cd5b385-d14d-4eaa-835d-e6b91d6be398"
      },
      "source": [
        "soup_news.find_all('div', {'class':'item_issue'})[2].text.strip().split('\\n')[0]"
      ],
      "execution_count": 32,
      "outputs": [
        {
          "output_type": "execute_result",
          "data": {
            "application/vnd.google.colaboratory.intrinsic+json": {
              "type": "string"
            },
            "text/plain": [
              "'박원순 장례식 책임자 문책 인사에..서울시의회 \"유감\" 표명'"
            ]
          },
          "metadata": {
            "tags": []
          },
          "execution_count": 32
        }
      ]
    },
    {
      "cell_type": "code",
      "metadata": {
        "colab": {
          "base_uri": "https://localhost:8080/"
        },
        "id": "ZjNusa6Wnk-K",
        "outputId": "58fe42b8-88ec-4e02-b9bf-26dbf6d660b8"
      },
      "source": [
        "for i in soup_news.find_all('div', {'class':'item_issue'}):\n",
        "  news_text = i.text\n",
        "  news_text = news_text.strip().split('\\n')\n",
        "  headline = news_text[0]\n",
        "  press = news_text[-1]\n",
        "  print(headline, '-', press)\n"
      ],
      "execution_count": 33,
      "outputs": [
        {
          "output_type": "stream",
          "text": [
            "53명 탑승한 1400톤급 인니 잠수함 실종..발리 해역 수색 중 -                                 (서울=뉴스1) 김정한 기자 = 인도네시아 해군 병사 53명이 탑승한 독일제 잠수함이 실종돼 수색하고 있으며, 인근 호주와 싱가포르에 도움을 요청하고 있다고 인도네시아 당국이 밝혔다. 21일 로이터통신과 CNN 등에 따르면 인도네시아 국방부는 성명에서 독일제 잠수함인 KRI 낭갈라 402호가 인도양과 발리해로 연결되는 자바섬과 발리해협에서 훈련 중 연락\n",
            "문 대통령 \"바이든, 북한과 대화하고 중국과 협력을\" - 중앙일보\n",
            "박원순 장례식 책임자 문책 인사에..서울시의회 \"유감\" 표명 - 뉴시스\n",
            "압구정·여의도·목동·성수도 '토지거래허가구역' - 경향신문\n"
          ],
          "name": "stdout"
        }
      ]
    },
    {
      "cell_type": "markdown",
      "metadata": {
        "id": "0PP4SiDNo-tj"
      },
      "source": [
        "### Hyperlink of the News\n"
      ]
    },
    {
      "cell_type": "code",
      "metadata": {
        "colab": {
          "base_uri": "https://localhost:8080/",
          "height": 35
        },
        "id": "oHolXfb8njLL",
        "outputId": "a21a4427-ab10-4db0-aadd-7fbe6a50c981"
      },
      "source": [
        "soup_news.find('div', {'class':'item_issue'}).find('a', {'class':'link_thumb'}).get('href')"
      ],
      "execution_count": null,
      "outputs": [
        {
          "output_type": "execute_result",
          "data": {
            "application/vnd.google.colaboratory.intrinsic+json": {
              "type": "string"
            },
            "text/plain": [
              "'https://news.v.daum.net/v/20210414175033329'"
            ]
          },
          "metadata": {
            "tags": []
          },
          "execution_count": 83
        }
      ]
    },
    {
      "cell_type": "code",
      "metadata": {
        "colab": {
          "base_uri": "https://localhost:8080/"
        },
        "id": "F68fi9SVpiR5",
        "outputId": "afadead7-8963-4dba-ab1e-ce084b516d76"
      },
      "source": [
        "for i in soup_news.find_all('div', {'class':'item_issue'}):\n",
        "  href = i.find('a', {'class':'link_thumb'}).get('href')\n",
        "  print(href)"
      ],
      "execution_count": null,
      "outputs": [
        {
          "output_type": "stream",
          "text": [
            "https://news.v.daum.net/v/20210414175033329\n",
            "https://news.v.daum.net/v/20210414174548071\n",
            "https://news.v.daum.net/v/20210414171849957\n",
            "https://news.v.daum.net/v/20210414165656134\n"
          ],
          "name": "stdout"
        }
      ]
    },
    {
      "cell_type": "code",
      "metadata": {
        "colab": {
          "base_uri": "https://localhost:8080/"
        },
        "id": "GFddWr_vnhZh",
        "outputId": "aa4a678f-6e40-4676-e13f-74fa2db92f2b"
      },
      "source": [
        "for i in soup_news.find_all('div', {'class':'item_issue'}):\n",
        "  news_text = i.text\n",
        "  news_text = news_text.strip().split('\\n')\n",
        "  headline = news_text[0]\n",
        "  press = news_text[-1]\n",
        "  href = i.find('a', {'class':'link_thumb'}).get('href')\n",
        "\n",
        "  print(headline, '-', press, '-', href)\n"
      ],
      "execution_count": null,
      "outputs": [
        {
          "output_type": "stream",
          "text": [
            "구형보다 무겁게..대만 유학생 숨지게 한 만취운전자 징역 8년 - 연합뉴스 - https://news.v.daum.net/v/20210414175033329\n",
            "文 지시한 日오염수 제소..국제해양법재판소 판결엔 강제력 - 중앙일보 - https://news.v.daum.net/v/20210414174548071\n",
            "LX \"사명사용은 불공정거래행위\" 공정위 신고에 LG측 \"대표간 대화하자\" - 뉴시스 - https://news.v.daum.net/v/20210414171849957\n",
            "\"미, 아프간 철수는 중국견제 등 글로벌 의제 재설정 위한 것\" - 국민일보 - https://news.v.daum.net/v/20210414165656134\n"
          ],
          "name": "stdout"
        }
      ]
    },
    {
      "cell_type": "markdown",
      "metadata": {
        "id": "kjZLr_3CtqsK"
      },
      "source": [
        "### Article of the News\n",
        "\n"
      ]
    },
    {
      "cell_type": "code",
      "metadata": {
        "id": "GwjLfg4cgyYL"
      },
      "source": [
        "url_article = soup_news.find('div', {'class':'item_issue'}).find('a', {'class':'link_thumb'}).get('href')"
      ],
      "execution_count": null,
      "outputs": []
    },
    {
      "cell_type": "code",
      "metadata": {
        "id": "5FWr3hAgt0k9"
      },
      "source": [
        "soup_article = bs(ur.urlopen(url_article).read(), 'html.parser')"
      ],
      "execution_count": null,
      "outputs": []
    },
    {
      "cell_type": "code",
      "metadata": {
        "colab": {
          "base_uri": "https://localhost:8080/"
        },
        "id": "S_J8EZ5pt0iJ",
        "outputId": "8c55bf00-433d-472c-97f4-d2ed2c88a19a"
      },
      "source": [
        "soup_article.find_all('p', {'dmcf-ptype':'general'})"
      ],
      "execution_count": null,
      "outputs": [
        {
          "output_type": "execute_result",
          "data": {
            "text/plain": [
              "[<p dmcf-pid=\"cgWslrwx2F\" dmcf-ptype=\"general\">(서울=연합뉴스) 술에 취한 상태로 신호위반 과속운전을 해 20대 대만인 유학생을 치어 숨지게 한 상습 음주운전자가 1심 재판에서 징역 8년의 실형을 선고받았습니다.</p>,\n",
              " <p dmcf-pid=\"cMtz0dfV5C\" dmcf-ptype=\"general\">서울중앙지법 형사26단독 민수연 판사는 특정범죄 가중처벌법상 위험운전치사 등 혐의로 기소된 김모(52·남)씨에게 이 같은 판결을 내렸는데요.</p>,\n",
              " <p dmcf-pid=\"cyF3oSixgm\" dmcf-ptype=\"general\">검찰은 결심 공판에서 징역 6년을 선고해달라고 요청했으나, 재판부는 이례적으로 그보다 더 높은 형량을 선고했습니다.</p>,\n",
              " <p dmcf-pid=\"clcnP4N6qQ\" dmcf-ptype=\"general\">재판부는 \"피고인이 과거 음주운전으로 2차례 처벌받고도 다시 음주운전을 했다\"며 \"신호를 위반하고 제한속도를 초과해 보행자 신호에 맞춰 횡단보도를 건네던 피해자에게 충격을 가했다\"고 설명했습니다.</p>,\n",
              " <p dmcf-pid=\"cuBj7beb3d\" dmcf-ptype=\"general\">이어 \"이 사건 사고로 만 28세에 불과했던 피해자가 젊은 나이에 갑작스레 사망했으며 해외에서 사고 소식을 접한 가족들의 충격과 슬픔을 헤아리기 어렵다\"며 \"피해자의 유족과 지인들이 강력한 처벌을 탄원하고 있다\"고 지적했습니다.</p>,\n",
              " <p dmcf-pid=\"cQnYhWXDtu\" dmcf-ptype=\"general\">다만 재판부는 \"피고인의 차가 자동차보험에 가입된 점, 피고인이 현지 변호인을 선임하는 등 피해를 회복하려 노력한 점을 고려했다\"고 양형 배경을 설명했습니다.</p>,\n",
              " <p dmcf-pid=\"cBnrpqpX0X\" dmcf-ptype=\"general\">김씨는 작년 11월 6일 서울 강남구의 도로에서 술에 취한 채 차를 운전하다가 횡단보도를 건너던 대만인 유학생 쩡이린(曾以琳·28) 씨를 치어 숨지게 한 혐의로 재판을 받았는데요.</p>,\n",
              " <p dmcf-pid=\"cIaqPQlXBa\" dmcf-ptype=\"general\">이 사건은 유족이 청와대에 음주운전 처벌 강화를 촉구하는 청원을 올리고 이를 대만 언론에서도 보도하면서 세간에 알려졌다. 영상으로 보시죠.</p>,\n",
              " <p dmcf-pid=\"coHATSQmSD\" dmcf-ptype=\"general\">&lt;제작: 김해연·남궁정균&gt;</p>,\n",
              " <p dmcf-pid=\"cVdu6JNthS\" dmcf-ptype=\"general\">&lt;영상: 연합뉴스TV&gt;</p>]"
            ]
          },
          "metadata": {
            "tags": []
          },
          "execution_count": 90
        }
      ]
    },
    {
      "cell_type": "code",
      "metadata": {
        "colab": {
          "base_uri": "https://localhost:8080/"
        },
        "id": "6iVx7B-Tt-pi",
        "outputId": "37635540-4f65-40b0-ad7e-735391d2f8db"
      },
      "source": [
        "for i in soup_article.find_all('p', {'dmcf-ptype':'general'}):\n",
        "  print(i.text)"
      ],
      "execution_count": null,
      "outputs": [
        {
          "output_type": "stream",
          "text": [
            "(서울=연합뉴스) 술에 취한 상태로 신호위반 과속운전을 해 20대 대만인 유학생을 치어 숨지게 한 상습 음주운전자가 1심 재판에서 징역 8년의 실형을 선고받았습니다.\n",
            "서울중앙지법 형사26단독 민수연 판사는 특정범죄 가중처벌법상 위험운전치사 등 혐의로 기소된 김모(52·남)씨에게 이 같은 판결을 내렸는데요.\n",
            "검찰은 결심 공판에서 징역 6년을 선고해달라고 요청했으나, 재판부는 이례적으로 그보다 더 높은 형량을 선고했습니다.\n",
            "재판부는 \"피고인이 과거 음주운전으로 2차례 처벌받고도 다시 음주운전을 했다\"며 \"신호를 위반하고 제한속도를 초과해 보행자 신호에 맞춰 횡단보도를 건네던 피해자에게 충격을 가했다\"고 설명했습니다.\n",
            "이어 \"이 사건 사고로 만 28세에 불과했던 피해자가 젊은 나이에 갑작스레 사망했으며 해외에서 사고 소식을 접한 가족들의 충격과 슬픔을 헤아리기 어렵다\"며 \"피해자의 유족과 지인들이 강력한 처벌을 탄원하고 있다\"고 지적했습니다.\n",
            "다만 재판부는 \"피고인의 차가 자동차보험에 가입된 점, 피고인이 현지 변호인을 선임하는 등 피해를 회복하려 노력한 점을 고려했다\"고 양형 배경을 설명했습니다.\n",
            "김씨는 작년 11월 6일 서울 강남구의 도로에서 술에 취한 채 차를 운전하다가 횡단보도를 건너던 대만인 유학생 쩡이린(曾以琳·28) 씨를 치어 숨지게 한 혐의로 재판을 받았는데요.\n",
            "이 사건은 유족이 청와대에 음주운전 처벌 강화를 촉구하는 청원을 올리고 이를 대만 언론에서도 보도하면서 세간에 알려졌다. 영상으로 보시죠.\n",
            "<제작: 김해연·남궁정균>\n",
            "<영상: 연합뉴스TV>\n"
          ],
          "name": "stdout"
        }
      ]
    },
    {
      "cell_type": "code",
      "metadata": {
        "colab": {
          "base_uri": "https://localhost:8080/"
        },
        "id": "t0vcXsuluqAD",
        "outputId": "9f0dd76e-2361-4f4d-cfa2-ceb72b1ba1e2"
      },
      "source": [
        "for i in soup_news.find_all('div', {'class':'item_issue'}):\n",
        "  news_text = i.text\n",
        "  news_text = news_text.strip().split('\\n')\n",
        "  headline = news_text[0]\n",
        "  press = news_text[-1]\n",
        "  href = i.find('a', {'class':'link_thumb'}).get('href')\n",
        "\n",
        "  print(headline, '-', press, '-', href)\n",
        "\n",
        "  soup_article = bs(ur.urlopen(href).read(), 'html.parser')\n",
        "\n",
        "  print('\\n')\n",
        "  for j in soup_article.find_all('p', {'dmcf-ptype':'general'}):\n",
        "    print(j.text)\n",
        "\n",
        "  print('\\n\\n')\n",
        "\n"
      ],
      "execution_count": null,
      "outputs": [
        {
          "output_type": "stream",
          "text": [
            "구형보다 무겁게..대만 유학생 숨지게 한 만취운전자 징역 8년 - 연합뉴스 - https://news.v.daum.net/v/20210414175033329\n",
            "\n",
            "\n",
            "(서울=연합뉴스) 술에 취한 상태로 신호위반 과속운전을 해 20대 대만인 유학생을 치어 숨지게 한 상습 음주운전자가 1심 재판에서 징역 8년의 실형을 선고받았습니다.\n",
            "서울중앙지법 형사26단독 민수연 판사는 특정범죄 가중처벌법상 위험운전치사 등 혐의로 기소된 김모(52·남)씨에게 이 같은 판결을 내렸는데요.\n",
            "검찰은 결심 공판에서 징역 6년을 선고해달라고 요청했으나, 재판부는 이례적으로 그보다 더 높은 형량을 선고했습니다.\n",
            "재판부는 \"피고인이 과거 음주운전으로 2차례 처벌받고도 다시 음주운전을 했다\"며 \"신호를 위반하고 제한속도를 초과해 보행자 신호에 맞춰 횡단보도를 건네던 피해자에게 충격을 가했다\"고 설명했습니다.\n",
            "이어 \"이 사건 사고로 만 28세에 불과했던 피해자가 젊은 나이에 갑작스레 사망했으며 해외에서 사고 소식을 접한 가족들의 충격과 슬픔을 헤아리기 어렵다\"며 \"피해자의 유족과 지인들이 강력한 처벌을 탄원하고 있다\"고 지적했습니다.\n",
            "다만 재판부는 \"피고인의 차가 자동차보험에 가입된 점, 피고인이 현지 변호인을 선임하는 등 피해를 회복하려 노력한 점을 고려했다\"고 양형 배경을 설명했습니다.\n",
            "김씨는 작년 11월 6일 서울 강남구의 도로에서 술에 취한 채 차를 운전하다가 횡단보도를 건너던 대만인 유학생 쩡이린(曾以琳·28) 씨를 치어 숨지게 한 혐의로 재판을 받았는데요.\n",
            "이 사건은 유족이 청와대에 음주운전 처벌 강화를 촉구하는 청원을 올리고 이를 대만 언론에서도 보도하면서 세간에 알려졌다. 영상으로 보시죠.\n",
            "<제작: 김해연·남궁정균>\n",
            "<영상: 연합뉴스TV>\n",
            "\n",
            "\n",
            "\n",
            "文 지시한 日오염수 제소..국제해양법재판소 판결엔 강제력 - 중앙일보 - https://news.v.daum.net/v/20210414174548071\n",
            "\n",
            "\n",
            " 문재인 대통령은 14일 아이보시 고이치(相星孝一) 주한 일본대사에게 일본 정부의 후쿠시마 원전의 방사성 오염수 해양 방류 결정에 대한 우려를 전달했다. \n",
            "문 대통령은 이날 청와대에서 열린 주한대사 신임장 제정식 직후 가진 환담에서 아이보시 대사에게 “이 말씀을 안 드릴 수 없다”며 오염수 얘기를 꺼냈다. 문 대통령은 “일본의 원전 오염수 해양 방류 결정에 대해 지리적으로 가장 가깝고 바다를 공유한 한국의 우려가 매우 크다”고 말했다고 강민석 청와대 대변인이 전했다. 문 대통령은 이어 “한국 정부와 국민의 우려를 잘 알테니, 본국에 잘 전달해 달라”고 당부했다고 한다.  \n",
            " 강 대변인은 “문 대통령의 이번 발언은 환담 발언으로서는 극히 이례적”이라고 설명했다. 신임 주한대사 환담식에서는 대통령이 의례적인 환영의 뜻을 전하고, 양국의 협력을 당부하는 게 일반적이다. \n",
            " 문 대통령은 또 이날 오전 청와대 내부회의에서 “국제해양법재판소에 일본의 원전 오염수 해양 방류 결정과 관련해 잠정조치를 포함, 제소하는 방안을 적극 검토하라”고 지시했다. 잠정조치는 일종의 가처분 신청과 같다. 문 대통령 지시에 따라 청와대 법무비서관실은 잠정조치를 포함한 제소 방안에 대해 법적 검토에 들어갔다. \n",
            "청와대 핵심 관계자는 “해양법에 관한 국제연합협약에 따르면 재판소는 잠정조치 요청이 있을 경우 각 분쟁 당사자의 이익을 보존하기 위해, 또는 해양환경에 대한 중대한 손상을 방지하기 위해 잠정조치를 명령할 수 있다”고 말했다. 한국과 일본은 모두 해양법 국제 협약 가맹국이다. \n",
            "━ 잠정조치, 오염수-해양환경 인과관계 증명이 관건  국제해양법재판소(ITLOS)는 유엔(UN) 해양법 협약에 따라 1996년 설립된 국제재판소다. 해양법 협약의 해석과 적용 관련 분쟁에 대하여 판결을 내린다. 국제사법재판소(ICJ)와 다른 점은 ICJ는 제소 국가와 피소 국가가 모두 동의해야 재판 절차가 시작되지만, ITLOS는 한쪽의 제소로도 소송이 이뤄질 수 있다. 일본의 오염수 방류로 직접적인 피해를 보는 한국 또는 중국이 제소하면 재판은 시작된다. \n",
            " 잠정조치는 ITLOS가 한국 또는 중국의 신청을 받아 일본에 최종 판결 전까지 오염수 방류를 금지하는 등의 조치를 하는 것을 말한다. \n",
            "특히 ‘국제해양법재판소와 국제사법재판소의 잠정조치에 관한 비교 연구’(최지현 한국해양수산개발원 전 연구원) 논문에 따르면 ITLOS의 잠정 조치는 ‘지시한다(indicate)’라고 규정한 ICJ와 달리 ‘명령한다(prescribe)’라고 규정해 더 강한 구속력이 있다는 평가를 받는다. \n",
            "국제법·해양법 전문인 김현수 인하대 법학전문대학원 교수는 중앙일보와의 통화에서 “ITLOS의 잠정조치나 판결은 강제력이 있다. 만약 일본이 따르지 않으면 ITLOS는 UN 안정보장이사회에 제재를 요구할 수 있다”고 설명했다. \n",
            "다만 일본이 아직 오염수 방류를 시작하지 않은 상황에서 오염수와 해양환경 손상 사이의 인과 관계를 증명할 수 있느냐가 잠정조치 결정의 관건이다. 미국 정부는 일본이 방류 결정한 오염수에 대해 “세계적으로 인정되는 원자력 안전 기준에 맞다”고 평가했다. 결국 잠정조치 결정이 외교전이 될 가능성도 있다. \n",
            "윤성민 기자 yoon.sungmin@joongang.co.kr  \n",
            "\n",
            "\n",
            "\n",
            "LX \"사명사용은 불공정거래행위\" 공정위 신고에 LG측 \"대표간 대화하자\" - 뉴시스 - https://news.v.daum.net/v/20210414171849957\n",
            "\n",
            "\n",
            "[서울=뉴시스] 최희정 기자 = 한국국토정보공사 LX가 LG의 신설지주회사 사명 논란과 관련해 ㈜LG를 공정거래위원회에 불공정거래행위로 신고하자 LG측이 \"양사 대표간 대화가 바람직하다\"는 입장을 내놓았다. \n",
            "14일 LG는 LX국토정보공사측 공정위 신고에 대해 \"특허청 심의 결과를 기다린다\"며 이같이 밝혔다. \n",
            "앞서 LX는 신고서에서 \"LG가 신설지주회사를 분리하는 과정에서 지주회사명을 'LX홀딩스'로 정한 것은 '독점규제와 공정거래에 관한 법률'에 명시된 다른 사업자의 사업활동을 방해하는 행위\"라고 지적했다. \n",
            "LX는 \"LX 명칭은 국토교통부 산하 공공기관인 공사가 2012년부터 사용해 온 영문사명\"이라며 \"우리는 10여 년간 LX라는 이름으로 지적측량, 공간정보, 해외사업 등을 수행하고 있다\"고 주장했다. 이어 \"㈜LG는 LX가 다년간 쌓아온 브랜드를 훼손하고 있을 뿐만 아니라 LX가 수행하는 국가사업이나 국가를 대표해 해외에서 수행하는 지적·공간정보 사업에 차질을 줄 수 있다\"고 강조했다. \n",
            "이에 대해 LG는 \"이 문제는 법률에 따라 현재 특허청에 상표 출원 후 등록을 위한 심의 절차가 진행 중에 있는 상황\"이라며 LX 주장을 반박했다. \n",
            "LG는 이어 \"서로 겹치는 사업활동이 없어 사업을 방해할 소지가 없는데 공정위에 신고가 법률적으로 성립되는지 의아하고, 양사 대표 간 대화가 바람직한데도 이런 방향으로 이슈를 확대하는 것에 대해 유감\"이라고 전했다.\n",
            "☞공감언론 뉴시스 dazzling@newsis.com \n",
            "\n",
            "\n",
            "\n",
            "\"미, 아프간 철수는 중국견제 등 글로벌 의제 재설정 위한 것\" - 국민일보 - https://news.v.daum.net/v/20210414165656134\n",
            "\n",
            "\n",
            "조 바이든 행정부가 독일 주둔 미군은 늘리고, 아프가니스탄 주둔 미군은 완전 철수키로 확정했다. 외신들은 조 바이든 대통령이 미국의 글로벌 의제 재설정을 목표로 한 결정이라고 분석했다. 중국·러시아의 위협, 코로나19 팬데믹 극복 등 미국이 직면한 새로운 도전에 국가적 자산을 집중하려는 의도라는 것이다.\n",
            "바이든 행정부는 오는 9월 11일까지 아프가니스탄 주둔 미군을 철수키로 했다. 9·11 테러가 발생한 지 20년이 되는 날, 미국 역사상 ‘가장 긴 전쟁’을 끝내겠다는 것이다. 아프가니스탄 전쟁은 ‘영원한 전쟁’, ‘끝이 없는 전쟁’으로도 불린다. 뉴욕타임스(NYT)는 20년 동안 미군 2400명 이상이 숨졌으며 2조 달러(2246조원)의 군사비가 들어갔다고 전했다.\n",
            "젠 사키 백악관 대변인은 “바이든 대통령이 미군 철수 계획과 시간표를 14일 직접 발표할 것”이라고 밝혔다.\n",
            "미군은 5월 1일 철군을 시작해 9월 11일 완전 철수를 마무리하겠다는 방침이다. 한 고위 당국자는 AP통신에 “9월 철군은 아프간의 안전 상황에서 영향받지 않는 절대적인 마감시한”이라고 말했다.\n",
            "미군 철수를 결정한 것은 탈레반의 보복 위협이 영향을 미친 것으로 분석된다. NYT는 “탈레반은 (도널드 트럼프 전 대통령이 약속한) 완전 철수 합의 시한인 5월 1일 이후에도 미군이 아프가니스탄에 남으면 폭력이 늘어날 것이라고 위협했다”면서 “미국 정부 당국자들은 ‘바이든 대통령이 폭력이 증가하는 것을 피하기를 원한다’고 말했다”고 보도했다.\n",
            "사키 대변인은 “바이든 대통령은 아프간에 대한 군사적 해결방안이 없고, 우리가 거기에 너무 오래 있었다는 견해에 대해 일관성을 유지하고 있다”고 말했다.\n",
            "그러나 미군의 철수로 아프가니스탄 상황이 더욱 악화할 수 있다는 우려가 크다. AP통신은 “미군이 철수할 경우 미국이 아프가니스탄에서 만들었던 성과들인 민주주의, 여성 인권 등이 위험에 빠질 우려가 있고, 이미 국토의 넓은 부분을 장악하고 있는 탈레반이 더욱 강력해질 수 있다”고 지적했다.\n",
            "NYT는 바이든 대통령의 고문들이 “아프가니스탄이 탈레반의 손에 무너지면 대통령이 책임을 지게 될 것”이라는 점을 인정했다고 보도하기도 했다. 아프가니스탄이 무법천지로 변하면 인권을 강조하는 바이든 대통령에게 부메랑이 될 수 있다는 것이다.\n",
            "그럼에도 바이든 대통령의 결심은 확고하다. 워싱턴포스트(WP)는 “미국이 직면한 새로운 도전에 집중해야 한다는 전략적 판단 때문”이라고 분석했다. 중국이나 기후변화, 코로나19 같은 위협에 우선 대처해야 할 필요성을 느끼고 있다는 것이다. NYT도 중국에 대한 경제적 경쟁력 강화 등을 언급하며 “바이든 대통령이 새롭게 진화하는 위협에 집중하려 한다”고 보도했다.\n",
            "독일을 방문 중인 로이드 오스틴 미국 국방부 장관은 13일(현지시간) 베를린에서 독일 국방장관과 가진 공동 기자회견에서 500명의 미군을 독일에 증원할 것이라고 밝혔다. AP통신은 “병력 증원은 독일, 그리고 나토(NATO·북대서양조약기구)와의 단결에 대한 상징적 제스처”라면서 “유럽에서의 병력 증강이라는 현실적인 필요도 채워졌다”고 분석했다.\n",
            "여기에는 러시아 견제 의도가 깔린 것으로 보인다. 러시아가 우크라이나와의 국경에 병력을 집결하면서 현재 미국과 러시아 간 긴장이 고조되는 상태다.\n",
            "워싱턴=하윤해 특파원, 전웅빈 기자 justice@kmib.co.kr\n",
            "\n",
            "\n",
            "\n"
          ],
          "name": "stdout"
        }
      ]
    }
  ]
}
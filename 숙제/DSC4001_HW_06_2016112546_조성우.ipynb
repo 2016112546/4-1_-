{
  "nbformat": 4,
  "nbformat_minor": 0,
  "metadata": {
    "colab": {
      "name": "DSC4001_HW_06_2016112546_조성우.ipynb",
      "provenance": [],
      "collapsed_sections": []
    },
    "kernelspec": {
      "name": "python3",
      "display_name": "Python 3"
    },
    "language_info": {
      "name": "python"
    }
  },
  "cells": [
    {
      "cell_type": "markdown",
      "metadata": {
        "id": "IvPEHm96N0y8"
      },
      "source": [
        "# Homework 6\n",
        "\n",
        "Let's consider classification task for ``digits`` dataset.\n",
        "\n",
        "* Digit dataset: ``sklearn.datasets.load_digits()``.\n",
        "  * This dataset is made up of 1797 images of size 8 x 8. Each image is of a hand-written digit. \n",
        "  * Input feature is an 8 x 8 image of integer pixels in the range 0 .. 16. \n",
        "  * Split into training (80%) and test set (20%).\n",
        " \n",
        "* Use any type of classifer model provided in Scikit-Learn.\n",
        "* Training the model on training dataset.\n",
        "* Predict labels for test dataset and evaluate the accuracy."
      ]
    },
    {
      "cell_type": "code",
      "metadata": {
        "id": "SY0rCpBOjXyi"
      },
      "source": [
        "import numpy as np\n",
        "import matplotlib.pyplot as plt"
      ],
      "execution_count": 2,
      "outputs": []
    },
    {
      "cell_type": "code",
      "metadata": {
        "id": "3RPHRLeZFZuL"
      },
      "source": [
        "# Import any necessary module you need\n",
        "import sklearn\n",
        "\n",
        "\n",
        "from sklearn.model_selection import train_test_split\n",
        "from sklearn import datasets\n",
        "from sklearn.metrics import mean_squared_error, accuracy_score, classification_report, confusion_matrix\n",
        "\n",
        "from sklearn.linear_model import LinearRegression\n",
        "from sklearn.svm import SVC\n",
        "from sklearn.tree import DecisionTreeClassifier, DecisionTreeRegressor\n",
        "from sklearn.ensemble import RandomForestClassifier, RandomForestRegressor\n",
        "\n"
      ],
      "execution_count": 3,
      "outputs": []
    },
    {
      "cell_type": "markdown",
      "metadata": {
        "id": "gAO0-12vEBaK"
      },
      "source": [
        "## Get the dataset of digits\n",
        "\n",
        "* Load the dataset in name ``X_digits`` and ``y_digits``."
      ]
    },
    {
      "cell_type": "code",
      "metadata": {
        "id": "NauryubAEEMG"
      },
      "source": [
        "# your code here\n",
        "X_digits , y_digits  = datasets.load_digits(return_X_y=True)\n"
      ],
      "execution_count": 4,
      "outputs": []
    },
    {
      "cell_type": "code",
      "metadata": {
        "colab": {
          "base_uri": "https://localhost:8080/"
        },
        "id": "c4dRyaeEEQXp",
        "outputId": "f649bd39-1b20-4056-9b9d-5f43f5742ce5"
      },
      "source": [
        "print(X_digits.shape)\n",
        "print(y_digits.shape)"
      ],
      "execution_count": 5,
      "outputs": [
        {
          "output_type": "stream",
          "text": [
            "(1797, 64)\n",
            "(1797,)\n"
          ],
          "name": "stdout"
        }
      ]
    },
    {
      "cell_type": "markdown",
      "metadata": {
        "id": "ptPgd75bEbci"
      },
      "source": [
        "* We will do some data preparation: scaling into the range $[0,1]$."
      ]
    },
    {
      "cell_type": "code",
      "metadata": {
        "id": "UWtaV_uqEV5C"
      },
      "source": [
        "X_digits = X_digits / X_digits.max()"
      ],
      "execution_count": 6,
      "outputs": []
    },
    {
      "cell_type": "markdown",
      "metadata": {
        "id": "AtRPvzP2EuqY"
      },
      "source": [
        "* Let's visualize the digits dataset"
      ]
    },
    {
      "cell_type": "code",
      "metadata": {
        "colab": {
          "base_uri": "https://localhost:8080/",
          "height": 118
        },
        "id": "nRTHnA-YEkiU",
        "outputId": "8fa18640-f10c-4885-8dd7-50358295f60d"
      },
      "source": [
        "fig, axes = plt.subplots(nrows=1, ncols=10, figsize=(15,3))\n",
        "\n",
        "for ax, image, label in zip(axes, X_digits, y_digits):\n",
        "  ax.set_axis_off()\n",
        "  image = image.reshape(8,8)\n",
        "  ax.imshow(image, cmap=plt.cm.gray_r, interpolation='nearest')\n",
        "  ax.set_title('digit: %d' %(label))\n",
        "\n",
        "plt.show()"
      ],
      "execution_count": 7,
      "outputs": [
        {
          "output_type": "display_data",
          "data": {
            "image/png": "[encoded data removed]",
            "text/plain": [
              "<Figure size 1080x216 with 10 Axes>"
            ]
          },
          "metadata": {
            "tags": [],
            "needs_background": "light"
          }
        }
      ]
    },
    {
      "cell_type": "markdown",
      "metadata": {
        "id": "EMX7ZoOiE2by"
      },
      "source": [
        "## Train-Test dataset split\n",
        "\n",
        "* Make 80% of data as training, and the remaining 20% of data as test set. \n",
        "* Do not split manually, but use some Scikit-Learn function that randomly shuffle the dataset before applying split. \n",
        "* Set the training set ``X_train, y_train`` and the test set ``X_test, y_test``."
      ]
    },
    {
      "cell_type": "code",
      "metadata": {
        "id": "gnheaKITEzwq"
      },
      "source": [
        "# your code here\n",
        "X_train, X_test , y_train ,y_test= train_test_split(X_digits,y_digits, test_size = 0.2 , random_state = 11 )\n"
      ],
      "execution_count": 9,
      "outputs": []
    },
    {
      "cell_type": "code",
      "metadata": {
        "colab": {
          "base_uri": "https://localhost:8080/"
        },
        "id": "IsaeDpWuFhbc",
        "outputId": "b34e0b3b-dfaf-477c-ce6b-51f8544aca73"
      },
      "source": [
        "print(X_train.shape)\n",
        "print(X_test.shape)"
      ],
      "execution_count": 10,
      "outputs": [
        {
          "output_type": "stream",
          "text": [
            "(1437, 64)\n",
            "(360, 64)\n"
          ],
          "name": "stdout"
        }
      ]
    },
    {
      "cell_type": "markdown",
      "metadata": {
        "id": "BubyyqSVFljC"
      },
      "source": [
        "## Train and Predict a classifier model \n",
        "\n",
        "* Select any type of classifier models provided in Scikit-Learn and Instantiate a classifier model."
      ]
    },
    {
      "cell_type": "code",
      "metadata": {
        "id": "9t74EVyjFjM7",
        "colab": {
          "base_uri": "https://localhost:8080/"
        },
        "outputId": "abd387a2-f3aa-4157-c466-82a7f24a8cae"
      },
      "source": [
        "# your code here\n",
        "a= DecisionTreeClassifier(max_depth = 3 , random_state = 11 )\n",
        "a\n"
      ],
      "execution_count": 12,
      "outputs": [
        {
          "output_type": "execute_result",
          "data": {
            "text/plain": [
              "DecisionTreeClassifier(ccp_alpha=0.0, class_weight=None, criterion='gini',\n",
              "                       max_depth=3, max_features=None, max_leaf_nodes=None,\n",
              "                       min_impurity_decrease=0.0, min_impurity_split=None,\n",
              "                       min_samples_leaf=1, min_samples_split=2,\n",
              "                       min_weight_fraction_leaf=0.0, presort='deprecated',\n",
              "                       random_state=11, splitter='best')"
            ]
          },
          "metadata": {
            "tags": []
          },
          "execution_count": 12
        }
      ]
    },
    {
      "cell_type": "markdown",
      "metadata": {
        "id": "uJ8prlvHF-HO"
      },
      "source": [
        "* Fit the model on training dataset."
      ]
    },
    {
      "cell_type": "code",
      "metadata": {
        "id": "HbzYIFbbF8-P",
        "colab": {
          "base_uri": "https://localhost:8080/"
        },
        "outputId": "bcd50e38-97b4-4659-e03c-26c0984ca796"
      },
      "source": [
        "# your code here\n",
        "b= a.fit(X_train,y_train)\n",
        "b"
      ],
      "execution_count": 13,
      "outputs": [
        {
          "output_type": "execute_result",
          "data": {
            "text/plain": [
              "DecisionTreeClassifier(ccp_alpha=0.0, class_weight=None, criterion='gini',\n",
              "                       max_depth=3, max_features=None, max_leaf_nodes=None,\n",
              "                       min_impurity_decrease=0.0, min_impurity_split=None,\n",
              "                       min_samples_leaf=1, min_samples_split=2,\n",
              "                       min_weight_fraction_leaf=0.0, presort='deprecated',\n",
              "                       random_state=11, splitter='best')"
            ]
          },
          "metadata": {
            "tags": []
          },
          "execution_count": 13
        }
      ]
    },
    {
      "cell_type": "markdown",
      "metadata": {
        "id": "2dpemWtiGJHZ"
      },
      "source": [
        "* Predict labels for test dataset.\n"
      ]
    },
    {
      "cell_type": "code",
      "metadata": {
        "id": "ZBUE4PHDGIZB",
        "colab": {
          "base_uri": "https://localhost:8080/"
        },
        "outputId": "6201f94b-c312-4add-cc37-450a3d0e8006"
      },
      "source": [
        "# your code here\n",
        "c=a.predict(X_test)\n",
        "c"
      ],
      "execution_count": 16,
      "outputs": [
        {
          "output_type": "execute_result",
          "data": {
            "text/plain": [
              "array([0, 8, 8, 9, 8, 8, 5, 8, 5, 0, 7, 8, 8, 5, 5, 8, 8, 8, 8, 6, 9, 8,\n",
              "       0, 6, 8, 8, 8, 8, 8, 8, 7, 0, 8, 7, 8, 5, 8, 0, 5, 8, 8, 9, 6, 5,\n",
              "       5, 0, 5, 8, 8, 8, 6, 8, 5, 6, 8, 8, 8, 8, 5, 8, 8, 7, 8, 6, 5, 7,\n",
              "       8, 5, 0, 8, 0, 8, 7, 8, 5, 8, 8, 7, 7, 8, 8, 6, 6, 6, 6, 8, 8, 7,\n",
              "       8, 8, 8, 8, 5, 8, 0, 8, 6, 8, 8, 8, 6, 8, 5, 0, 8, 8, 7, 5, 8, 5,\n",
              "       7, 8, 0, 5, 8, 0, 8, 8, 5, 6, 8, 5, 6, 8, 8, 6, 0, 6, 6, 8, 6, 8,\n",
              "       9, 8, 8, 8, 8, 8, 8, 8, 6, 8, 5, 8, 7, 8, 8, 5, 5, 8, 8, 8, 8, 5,\n",
              "       8, 8, 5, 8, 8, 8, 8, 8, 8, 8, 8, 6, 7, 8, 8, 9, 8, 0, 6, 8, 0, 8,\n",
              "       0, 7, 6, 8, 5, 8, 0, 8, 8, 8, 6, 8, 8, 8, 9, 5, 9, 5, 0, 8, 5, 5,\n",
              "       8, 7, 8, 7, 7, 8, 8, 8, 5, 6, 8, 8, 0, 5, 6, 8, 8, 8, 8, 6, 6, 7,\n",
              "       8, 6, 0, 7, 6, 6, 0, 7, 5, 8, 8, 8, 0, 8, 8, 0, 8, 5, 7, 6, 5, 8,\n",
              "       0, 8, 8, 8, 9, 7, 5, 8, 8, 8, 8, 5, 8, 8, 8, 8, 5, 0, 8, 8, 5, 8,\n",
              "       7, 5, 5, 8, 0, 5, 8, 0, 8, 7, 6, 8, 5, 5, 8, 8, 0, 8, 8, 6, 5, 8,\n",
              "       8, 8, 5, 9, 0, 8, 5, 8, 8, 8, 8, 8, 8, 5, 8, 0, 7, 0, 8, 0, 7, 8,\n",
              "       8, 8, 8, 8, 8, 8, 8, 8, 5, 7, 5, 9, 8, 8, 5, 8, 8, 5, 8, 9, 8, 6,\n",
              "       8, 0, 6, 8, 8, 8, 8, 8, 9, 8, 8, 0, 8, 7, 8, 8, 0, 7, 8, 8, 8, 6,\n",
              "       5, 8, 7, 8, 8, 5, 6, 8])"
            ]
          },
          "metadata": {
            "tags": []
          },
          "execution_count": 16
        }
      ]
    },
    {
      "cell_type": "markdown",
      "metadata": {
        "id": "dpHZw8AHGeWX"
      },
      "source": [
        "* Evaluate the accuracy score of the test set."
      ]
    },
    {
      "cell_type": "code",
      "metadata": {
        "id": "gMNquk1YGdj4",
        "colab": {
          "base_uri": "https://localhost:8080/"
        },
        "outputId": "e26ab94c-e1b3-4c33-b1d4-abe25be47484"
      },
      "source": [
        "# your code here\n",
        "d=accuracy_score(y_test,c)\n",
        "d\n"
      ],
      "execution_count": 17,
      "outputs": [
        {
          "output_type": "execute_result",
          "data": {
            "text/plain": [
              "0.41944444444444445"
            ]
          },
          "metadata": {
            "tags": []
          },
          "execution_count": 17
        }
      ]
    },
    {
      "cell_type": "code",
      "metadata": {
        "id": "5QpzlyulUg9j"
      },
      "source": [
        ""
      ],
      "execution_count": null,
      "outputs": []
    }
  ]
}